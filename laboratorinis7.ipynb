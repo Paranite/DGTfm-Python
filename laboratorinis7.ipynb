{
 "cells": [
  {
   "cell_type": "markdown",
   "id": "877effb6-f4fb-401d-b6d6-76f4557c7b9c",
   "metadata": {},
   "source": [
    "# Laboratorinis 7\n",
    "\n",
    "## 1 uzd\n",
    "\n",
    "Duotas skaicius n, po jo n eilučių iš porų (žodis, skaičius). Parašykite programą, kuri naudojant lambda funkciją surikiuoja rinkinių sąrašą marks pagal antrą reikšmę mažėjimo tvarka."
   ]
  },
  {
   "cell_type": "code",
   "execution_count": 12,
   "id": "c0341233-af0d-4b43-a931-000ba6d3a13f",
   "metadata": {},
   "outputs": [
    {
     "name": "stdin",
     "output_type": "stream",
     "text": [
      " 4\n",
      " English 10\n",
      " Science 9\n",
      " Maths 8\n",
      " Social sciences 10\n"
     ]
    },
    {
     "name": "stdout",
     "output_type": "stream",
     "text": [
      "[('English', 10), ('Social sciences', 10), ('Science', 9), ('Maths', 8)]\n"
     ]
    }
   ],
   "source": [
    "n = int(input())\n",
    "\n",
    "d = []\n",
    "for i in range(n):\n",
    "    inp = input().split()\n",
    "    d.append((' '.join(inp[:-1]), int(inp[-1])))\n",
    "\n",
    "d.sort(key = lambda item : item[1], reverse = True)\n",
    "print(d)"
   ]
  },
  {
   "cell_type": "markdown",
   "id": "de544999-b25e-4cab-9a19-33bcc5b67185",
   "metadata": {},
   "source": [
    "## 2 uzd\n",
    "\n",
    "Duotas sąrašas L. Funkcijos lambda pagalba parašykite programą, kuri sukuria sąrašo L elementų kubų sąrašą."
   ]
  },
  {
   "cell_type": "code",
   "execution_count": 17,
   "id": "39098168-8704-4331-91d3-09809b34daca",
   "metadata": {},
   "outputs": [
    {
     "name": "stdin",
     "output_type": "stream",
     "text": [
      " [12,10,25,2,17,3,5]\n"
     ]
    },
    {
     "name": "stdout",
     "output_type": "stream",
     "text": [
      "[1728, 1000, 15625, 8, 4913, 27, 125]\n"
     ]
    }
   ],
   "source": [
    "l = eval(input())\n",
    "print(list(map(lambda x : x**3, l)))"
   ]
  },
  {
   "cell_type": "markdown",
   "id": "fa9de8d7-1477-4222-a350-ae248b94ef2f",
   "metadata": {},
   "source": [
    "## 3 uzd\n",
    "\n",
    "Duotas sąrašas L. Parašykite programą, kuri surikiuoja sąrašo elementus pagal antrą raidę."
   ]
  },
  {
   "cell_type": "code",
   "execution_count": 18,
   "id": "735ac117-276b-48b3-8520-50ef2196a113",
   "metadata": {},
   "outputs": [
    {
     "name": "stdin",
     "output_type": "stream",
     "text": [
      " [\"manner\",\"unfair\",\"release\",\"free\",\"fixture\",\"user\",\"emphasis\",\"coach\",\"character\",\"skilled\",\"spoil\",\"equinox\"]\n"
     ]
    },
    {
     "name": "stdout",
     "output_type": "stream",
     "text": [
      "['manner', 'release', 'character', 'fixture', 'skilled', 'emphasis', 'unfair', 'coach', 'spoil', 'equinox', 'free', 'user']\n"
     ]
    }
   ],
   "source": [
    "l = eval(input())\n",
    "l.sort(key = lambda x : x[1])\n",
    "print(l)"
   ]
  },
  {
   "cell_type": "markdown",
   "id": "3a03a096-986a-408b-a945-36f4899ca7f5",
   "metadata": {},
   "source": [
    "## 4 uzd\n",
    "\n",
    "Duoti du žodynai. Apjunkite juos į vieną žodyną ir išveskite rezultatą didėjimo tvarka."
   ]
  },
  {
   "cell_type": "code",
   "execution_count": 34,
   "id": "81fc9877-8243-48af-947b-49d59c3d6339",
   "metadata": {},
   "outputs": [
    {
     "name": "stdin",
     "output_type": "stream",
     "text": [
      " {\"Thirty\": 30, \"Fourty\": 40, \"Fifty\": 50}\n",
      " {\"Ten\": 10, \"Twenty\": 20, \"Thirty\": 30}\n"
     ]
    },
    {
     "name": "stdout",
     "output_type": "stream",
     "text": [
      "Ten - 10\n",
      "Twenty - 20\n",
      "Thirty - 30\n",
      "Fourty - 40\n",
      "Fifty - 50\n"
     ]
    }
   ],
   "source": [
    "l1 = eval(input())\n",
    "l2 = eval(input())\n",
    "\n",
    "l1.update(l2)\n",
    "for k, v in dict(sorted(l1.items(), key = lambda item : item[1])).items():\n",
    "    print(\"{} - {}\".format(k, v))"
   ]
  },
  {
   "cell_type": "markdown",
   "id": "73a64db7-c7a7-4f41-81ae-e3b903875e66",
   "metadata": {},
   "source": [
    "## 5 uzd\n",
    "\n",
    "Duota: sąrašas empl ir žodynas defaults. Metodo dict.fromkeys() pagalba sudarykite žodyną d. Išveskite žodyno d duomenis stulpeliu kaip parodyta."
   ]
  },
  {
   "cell_type": "code",
   "execution_count": null,
   "id": "d52a85b8-abee-4ed1-ad65-6165d86bd3eb",
   "metadata": {},
   "outputs": [
    {
     "name": "stdout",
     "output_type": "stream",
     "text": [
      "Kelly: {'designation': 'Application Developer', 'salary': 8000}\n",
      "John: {'designation': 'Application Developer', 'salary': 8000}\n",
      "Emma: {'designation': 'Application Developer', 'salary': 8000}\n"
     ]
    }
   ],
   "source": [
    "empl = eval(input())\n",
    "defaults = eval(input())\n",
    "\n",
    "d = dict.fromkeys(empl, defaults)\n",
    "for k, v in d.items():\n",
    "    print(\"{}: {}\".format(k, v))"
   ]
  },
  {
   "cell_type": "markdown",
   "id": "36c4ccf9-1e49-427a-8fac-c5bc04ff82bc",
   "metadata": {},
   "source": [
    "## 6 uzd\n",
    "\n",
    "Iš duotų aibių keys ir values sudarykite žodyną funkcijos zip() pagalba."
   ]
  },
  {
   "cell_type": "code",
   "execution_count": 50,
   "id": "505d4860-1f8a-4087-be55-273a9f5bc473",
   "metadata": {},
   "outputs": [
    {
     "name": "stdout",
     "output_type": "stream",
     "text": [
      "{'Tokyo': 38140000, 'Delhi': 26454000, 'Shanghai': 24484000}\n"
     ]
    }
   ],
   "source": [
    "l1 = eval(input())\n",
    "l2 = eval(input())\n",
    "\n",
    "d = dict(zip(l1, l2))\n",
    "print(d)"
   ]
  },
  {
   "cell_type": "markdown",
   "id": "9e77b04d-f215-442e-9714-9d3f8ae0cf32",
   "metadata": {},
   "source": [
    "## 7 uzd\n",
    "\n",
    "Parašykite programą, kuri iš ekrano nuskaito žodyną ir randa jo reikšmių sumą."
   ]
  },
  {
   "cell_type": "code",
   "execution_count": 51,
   "id": "c9537812-155e-4882-b8de-f4460ef6a2d5",
   "metadata": {},
   "outputs": [
    {
     "data": {
      "text/plain": [
       "900"
      ]
     },
     "execution_count": 51,
     "metadata": {},
     "output_type": "execute_result"
    }
   ],
   "source": [
    "l = eval(input())\n",
    "print(sum(l.values()))"
   ]
  },
  {
   "cell_type": "markdown",
   "id": "a8bb4035-f084-458a-adb8-1332b72517d9",
   "metadata": {},
   "source": [
    "## 8 uzd\n",
    "\n",
    "Duotas žodynas, vardas ir x reikšmė. Pakeiskite duoto vardo \"salary\" reikšmę į x."
   ]
  },
  {
   "cell_type": "code",
   "execution_count": 55,
   "id": "41c1de53-5d98-4d0c-a750-79ad1f2c0ecb",
   "metadata": {},
   "outputs": [
    {
     "name": "stdout",
     "output_type": "stream",
     "text": [
      "{'emp1': {'name': 'John', 'salary': 8500}, 'emp2': {'name': 'Navy', 'salary': 8000}, 'emp3': {'name': 'Brad', 'salary': 7500}}\n"
     ]
    }
   ],
   "source": [
    "l = eval(input())\n",
    "name = input()\n",
    "x = int(input())\n",
    "\n",
    "for k, v in l.items():\n",
    "    if name == v[\"name\"]:\n",
    "        l[k][\"salary\"] = x\n",
    "        \n",
    "print(l)"
   ]
  },
  {
   "cell_type": "markdown",
   "id": "b357037c-d6cc-4600-a4c8-e9d0cc28d8a8",
   "metadata": {},
   "source": [
    "## 9 uzd\n",
    "\n",
    "Duotas žodynas d. Išveskite dviejų porų su mažiausiomis reikšmėmis sąrašą."
   ]
  },
  {
   "cell_type": "code",
   "execution_count": 65,
   "id": "903d509e-bd34-428b-bfe5-38355e6e1297",
   "metadata": {},
   "outputs": [
    {
     "name": "stdout",
     "output_type": "stream",
     "text": [
      "[('f', 20), ('d', 400)]\n"
     ]
    }
   ],
   "source": [
    "d = eval(input())\n",
    "\n",
    "d = [(k, v) for k, v in d.items()]\n",
    "d.sort(key = lambda x : x[1])\n",
    "d = d[:2]\n",
    "print(d)"
   ]
  },
  {
   "cell_type": "markdown",
   "id": "494d20c0-5062-4833-b432-7fc217fc4352",
   "metadata": {},
   "source": [
    "## 10 uzd\n",
    "\n",
    "Parašykite programą, kuri leidžia nuskaityti iš ekrano poras (key – raidė, value – sveikasis skaičius) ir baigia nuskaitymą įvedus q q. Išsaugo įvestas reikšmes žodyne. Išveda didžiausios reikšmės raktą. Jeigu tokios reikšmės yra kelios – išveda tik pirmąjį raktą. Išveda žodyną."
   ]
  },
  {
   "cell_type": "code",
   "execution_count": 1,
   "id": "37a74b00-34c7-49e0-b840-da4ae4586ace",
   "metadata": {},
   "outputs": [
    {
     "name": "stdin",
     "output_type": "stream",
     "text": [
      " q q\n"
     ]
    },
    {
     "name": "stdout",
     "output_type": "stream",
     "text": [
      "{}\n"
     ]
    }
   ],
   "source": [
    "d = {}\n",
    "while(True):\n",
    "    v1, v2 = input().split()\n",
    "    if v1 == v2 == 'q':\n",
    "        break\n",
    "    d[v1] = int(v2)\n",
    "\n",
    "if not d:\n",
    "    print(d)\n",
    "else:\n",
    "    print(max(d, key = d.get)) # lambda x : d[x]\n",
    "    print(d)"
   ]
  },
  {
   "cell_type": "markdown",
   "id": "463bbe82-a8b3-42a9-8223-2db305b5d5eb",
   "metadata": {},
   "source": [
    "## 11 uzd\n",
    "\n",
    "Parašykite programą, kuri randa balsių skaičių eilutėje ir išveda rezultatą kaip parodyta."
   ]
  },
  {
   "cell_type": "code",
   "execution_count": 16,
   "id": "bc4edfdd-b670-4b09-b751-a12f71f2b76b",
   "metadata": {},
   "outputs": [
    {
     "name": "stdin",
     "output_type": "stream",
     "text": [
      " mnbvcxzqwrtp\n"
     ]
    },
    {
     "name": "stdout",
     "output_type": "stream",
     "text": [
      "{}\n"
     ]
    }
   ],
   "source": [
    "s = input()\n",
    "vowels = \"euioay\"\n",
    "d = {}\n",
    "for k in s:\n",
    "    if k in vowels:\n",
    "        if k not in d:\n",
    "            d[k] = 0\n",
    "        d[k] += 1\n",
    "print(d)"
   ]
  },
  {
   "cell_type": "markdown",
   "id": "e39c3641-14b8-4b6f-94da-feae0b8ecaf4",
   "metadata": {},
   "source": [
    "## 12 uzd\n",
    "\n",
    "Parašykite programą, kuri nuskaito netuščią eilutę. Randa kiek kartų sutinkamas kiekvienas žodis. Išveda rezultatą kaip žodyną. Sudaro (dictionary comprehension) ir išveda dažniausiai pasitaikančių žodžių žodyną."
   ]
  },
  {
   "cell_type": "code",
   "execution_count": null,
   "id": "5ee5cd6f-646e-4f2f-810b-6be72bcdaeae",
   "metadata": {},
   "outputs": [],
   "source": [
    "l = input().split()\n"
   ]
  }
 ],
 "metadata": {
  "kernelspec": {
   "display_name": "Python 3 (ipykernel)",
   "language": "python",
   "name": "python3"
  },
  "language_info": {
   "codemirror_mode": {
    "name": "ipython",
    "version": 3
   },
   "file_extension": ".py",
   "mimetype": "text/x-python",
   "name": "python",
   "nbconvert_exporter": "python",
   "pygments_lexer": "ipython3",
   "version": "3.9.5"
  }
 },
 "nbformat": 4,
 "nbformat_minor": 5
}

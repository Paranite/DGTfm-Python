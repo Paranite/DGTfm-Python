{
 "cells": [
  {
   "cell_type": "markdown",
   "id": "ee0b826f-6c2b-4935-a4fc-af7c7119f5dd",
   "metadata": {},
   "source": [
    "# Laboratorinis 11\n",
    "\n",
    "## 1uzd\n",
    "\n",
    "Sukurkite dvimatį (nxm) sveikųjų (int8) skaičių masyvą ir užpildykite jį skaičiais nuo 0 iki n*m - 1. Atspausdinkite masyvą."
   ]
  },
  {
   "cell_type": "code",
   "execution_count": 10,
   "id": "736370bd-313a-4a01-9dd8-f727f265f552",
   "metadata": {},
   "outputs": [
    {
     "name": "stdin",
     "output_type": "stream",
     "text": [
      " 3 4\n"
     ]
    },
    {
     "name": "stdout",
     "output_type": "stream",
     "text": [
      "0 1 2 3\n",
      "4 5 6 7\n",
      "8 9 10 11\n"
     ]
    }
   ],
   "source": [
    "import numpy as np\n",
    "\n",
    "n, m = map(int, input().split())\n",
    "\n",
    "arr = np.arange(n*m, dtype=np.int8).reshape(n, m)\n",
    "\n",
    "for line in arr:\n",
    "    print(' '.join(map(str, line)))"
   ]
  },
  {
   "cell_type": "markdown",
   "id": "e0f3c7e4-817b-4b04-af3f-04c87b662f8b",
   "metadata": {},
   "source": [
    "## 2 uzd\n",
    "\n",
    "Sukurkite dvimatį masyvą (nxm), kurį sudaro skaičiai nuo a iki b žingsniu c. Atspausdinkite masyvą."
   ]
  },
  {
   "cell_type": "code",
   "execution_count": 29,
   "id": "aae94de8-53d9-4a99-a983-6ce2c3aac0fe",
   "metadata": {},
   "outputs": [
    {
     "name": "stdin",
     "output_type": "stream",
     "text": [
      " 2 5\n",
      " 1 2.8 0.2\n"
     ]
    },
    {
     "name": "stdout",
     "output_type": "stream",
     "text": [
      "[[1.  1.2 1.4 1.6 1.8]\n",
      " [2.  2.2 2.4 2.6 2.8]]\n",
      "1.0 1.2 1.4 1.6 1.8\n",
      "2.0 2.2 2.4 2.6 2.8\n"
     ]
    }
   ],
   "source": [
    "import numpy as np\n",
    "n, m = map(int, input().split())\n",
    "a, b, c = map(float, input().split())\n",
    "\n",
    "arr = np.reshape(np.arange(a, b+c, c), (n,m))\n",
    "print(arr)\n",
    "\n",
    "for line in arr:\n",
    "    print(*np.round(line, 1))"
   ]
  },
  {
   "cell_type": "markdown",
   "id": "17e4b3e2-2857-44e2-899e-724c92519a3d",
   "metadata": {},
   "source": [
    "## 3 uzd\n",
    "\n",
    "Sukurkite n (size=n) elementų vienmatį masyvą su reikšmėmis nuo a iki b. Išveskite masyvą. Išveskite reikšmių kitimo žingsnį"
   ]
  },
  {
   "cell_type": "code",
   "execution_count": 35,
   "id": "69b644ea-229a-4585-8f36-546257a757f1",
   "metadata": {},
   "outputs": [
    {
     "name": "stdin",
     "output_type": "stream",
     "text": [
      " 5 10 137\n"
     ]
    },
    {
     "name": "stdout",
     "output_type": "stream",
     "text": [
      "10.0 41.75 73.5 105.25 137.0\n",
      "31.75\n"
     ]
    }
   ],
   "source": [
    "import numpy as np\n",
    "\n",
    "n, a, b = map(int, input().split())\n",
    "\n",
    "arr, step = np.linspace(a, b, n, retstep=True)\n",
    "print(*arr)\n",
    "print(step)"
   ]
  },
  {
   "cell_type": "markdown",
   "id": "6c2eb6a6-353b-4a39-865d-2b400dfe7bf5",
   "metadata": {},
   "source": [
    "## 4 uzd\n",
    "\n",
    "Sukurkite kvadratinę matricą (nxn), kurią sudaro skaičiai nuo a iki b žingsniu c. Atspausdinkite:\n",
    "\n",
    "matricą;  \n",
    "dvi paskutines matricos eilutes;  \n",
    "antrą stulpelį;  \n",
    "Kiekviena išvedimą atskirti trigubu ’=’ simboliu"
   ]
  },
  {
   "cell_type": "code",
   "execution_count": 59,
   "id": "e3baf0e4-5788-4772-8c66-6230ed392917",
   "metadata": {},
   "outputs": [
    {
     "name": "stdin",
     "output_type": "stream",
     "text": [
      " 3\n",
      " 10 90 10\n"
     ]
    },
    {
     "name": "stdout",
     "output_type": "stream",
     "text": [
      "10 20 30\n",
      "40 50 60\n",
      "70 80 90\n",
      "===\n",
      "40 50 60\n",
      "70 80 90\n",
      "===\n",
      "20\n",
      "50\n",
      "80\n"
     ]
    }
   ],
   "source": [
    "import numpy as np\n",
    "n = int(input())\n",
    "a, b, c = map(int, input().split())\n",
    "\n",
    "m = np.arange(a, b + c, c).reshape(n, n)\n",
    "for line in m:\n",
    "    print(*line)\n",
    "print('===')\n",
    "for line in m[-2:]:\n",
    "    print(*line)\n",
    "print('===')\n",
    "for v in m[...,1]:\n",
    "    print(v)"
   ]
  },
  {
   "cell_type": "markdown",
   "id": "cf569ca0-7d13-4a97-877b-6ea686e66c35",
   "metadata": {},
   "source": [
    "## 5 uzd\n",
    "\n",
    "Sukurkite vienmatį sveikųjų skaičių masyvą nuo [a, b) žingsnis c. Atspausdinkite:\n",
    "\n",
    "sukurtą masyvą  \n",
    "elementus, kurių reikšmės yra > x  \n",
    "elementus, kurių reikšmės yra intervale [n;m]  \n",
    "elementus, kurių reikšmės yra ≤  y arba > z  "
   ]
  },
  {
   "cell_type": "code",
   "execution_count": 69,
   "id": "4f022803-dc8c-45ec-8507-f5ac5b717a59",
   "metadata": {},
   "outputs": [
    {
     "name": "stdin",
     "output_type": "stream",
     "text": [
      " 10 100 10\n",
      " 50\n",
      " 20 60\n",
      " 30 70\n"
     ]
    },
    {
     "name": "stdout",
     "output_type": "stream",
     "text": [
      "10 20 30 40 50 60 70 80 90\n",
      "60 70 80 90\n",
      "20 30 40 50 60\n",
      "10 20 30 80 90\n"
     ]
    }
   ],
   "source": [
    "import numpy as np\n",
    "a, b, c = map(int, input().split())\n",
    "x = int(input())\n",
    "n, m = map(int, input().split())\n",
    "y, z =  map(int, input().split())\n",
    "\n",
    "arr = np.arange(a, b, c)\n",
    "print(*arr)\n",
    "print(*arr[arr > x])\n",
    "print(*arr[(arr >= n) & (arr <= m)])\n",
    "print(*arr[(arr <= y) | (arr > z)])"
   ]
  },
  {
   "cell_type": "markdown",
   "id": "b4c3d4ac-037f-4c24-b238-e5db49e071f3",
   "metadata": {
    "tags": []
   },
   "source": [
    "## 6 uzd \n",
    "\n",
    "Sukurkite ir išveskite du dvimačius masyvus axb ir nxm. Kiekvienas iš jų užpidytas reikšmėmis nuo 0. Sujunkite juos į vieną. Išveskite rezultatą."
   ]
  },
  {
   "cell_type": "code",
   "execution_count": 1,
   "id": "6db91492-30ee-4032-b935-ed68cf34210e",
   "metadata": {
    "tags": []
   },
   "outputs": [
    {
     "name": "stdin",
     "output_type": "stream",
     "text": [
      " 3 3\n",
      " 3 5\n"
     ]
    },
    {
     "name": "stdout",
     "output_type": "stream",
     "text": [
      "0 1 2\n",
      "3 4 5\n",
      "6 7 8\n",
      "\n",
      "0 1 2 3 4\n",
      "5 6 7 8 9\n",
      "10 11 12 13 14\n",
      "\n",
      "0 1 2 0 1 2 3 4\n",
      "3 4 5 5 6 7 8 9\n",
      "6 7 8 10 11 12 13 14\n"
     ]
    }
   ],
   "source": [
    "import numpy as np\n",
    "a, b = map(int, input().split())\n",
    "n, m = map(int, input().split())\n",
    "\n",
    "arr1 = np.arange(a*b).reshape(a, b)\n",
    "arr2 = np.arange(n*m).reshape(n, m)\n",
    "try:\n",
    "    arr3 = np.concatenate((arr1, arr2), axis = 1)\n",
    "except:\n",
    "    try:\n",
    "        arr3 = np.concatenate((arr1, arr2), axis = 0)\n",
    "    except:\n",
    "        print(\"Klaida sujungiant masyvus\")\n",
    "        exit()\n",
    "\n",
    "for line in arr1:\n",
    "    print(*line)\n",
    "print()\n",
    "for line in arr2:\n",
    "    print(*line)\n",
    "print()\n",
    "for line in arr3:\n",
    "    print(*line)"
   ]
  },
  {
   "cell_type": "markdown",
   "id": "03e4c08b-3486-4535-9568-52b58e5a8d5f",
   "metadata": {},
   "source": [
    "## 7 uzd\n",
    "\n",
    "Iš failo duom.txt nuskaitykite ir išveskite matricą (elementų duomenų tipas – int16). Paverskite matricą trikampe, taip, kad nuliniai elementai būtų virš pagrindinės įstrižainės. Išveskite naują matricą. Apsukite masyvą taip, (kaip parodyta) kad nuliai būtų virš šalutinės įstrižainės. Išveskite apsuktą matricą."
   ]
  },
  {
   "cell_type": "code",
   "execution_count": 204,
   "id": "a0037420-ae24-484a-871e-c15d017684e6",
   "metadata": {},
   "outputs": [
    {
     "name": "stdout",
     "output_type": "stream",
     "text": [
      "1 2 3\n",
      "4 5 6\n",
      "7 8 9\n",
      "\n",
      "1 0 0\n",
      "4 5 0\n",
      "7 8 9\n",
      "\n",
      "0 0 9\n",
      "0 5 8\n",
      "1 4 7\n"
     ]
    }
   ],
   "source": [
    "import numpy as np\n",
    "\n",
    "d = np.loadtxt(\"duom.txt\", dtype = np.int16)\n",
    "\n",
    "for line in d:\n",
    "    print(*line)\n",
    "\n",
    "d = np.tril(d)\n",
    "print()\n",
    "for line in d:\n",
    "    print(*line)\n",
    "    \n",
    "d = np.rot90(d)\n",
    "# d = np.array([d[:,-1-i] for i in range(d.shape[1])])\n",
    "print()\n",
    "for line in d:\n",
    "    print(*line)"
   ]
  },
  {
   "cell_type": "markdown",
   "id": "c89cefff-0888-4331-b4dc-4942b1c78913",
   "metadata": {},
   "source": [
    "## 8 uzd\n",
    "\n",
    "Sukurkite ir išveskite nxn masyvą kur kiekviena eilutė užpildyta reikšmemis nuo 1 iki n. Ištrinkite a-tąjį masyvo stulpelį, išveskite rezultatą. Pakeiskite ištrintą stulpelį vienetų stulpeliu. Išveskite rezultatą. Prie masyvo pridėkite eilutę užpildytą nuliais. Išveskite rezultatą. Prie masyvo pridėkite stulpelį užpildytą nuliais. Išveskite rezultatą.\n",
    "\n"
   ]
  },
  {
   "cell_type": "code",
   "execution_count": 270,
   "id": "4f95490a-4f16-441c-be9a-8d56665abc56",
   "metadata": {
    "tags": []
   },
   "outputs": [
    {
     "name": "stdin",
     "output_type": "stream",
     "text": [
      " 4\n",
      " 3\n"
     ]
    },
    {
     "name": "stdout",
     "output_type": "stream",
     "text": [
      "1 2 3 4\n",
      "1 2 3 4\n",
      "1 2 3 4\n",
      "1 2 3 4\n",
      "\n",
      "1 2 4\n",
      "1 2 4\n",
      "1 2 4\n",
      "1 2 4\n",
      "\n",
      "1 2 1 4\n",
      "1 2 1 4\n",
      "1 2 1 4\n",
      "1 2 1 4\n",
      "\n",
      "1 2 1 4\n",
      "1 2 1 4\n",
      "1 2 1 4\n",
      "1 2 1 4\n",
      "0 0 0 0\n",
      "\n",
      "1 2 1 4 0\n",
      "1 2 1 4 0\n",
      "1 2 1 4 0\n",
      "1 2 1 4 0\n",
      "0 0 0 0 0\n"
     ]
    }
   ],
   "source": [
    "import numpy as np\n",
    "\n",
    "n = int(input())\n",
    "a = int(input())\n",
    "\n",
    "arr = np.tile(np.expand_dims(np.arange(1, n + 1), axis = 0), [n, 1]) # or .reshape(1,n)\n",
    "\n",
    "for l in arr:\n",
    "    print(*l)\n",
    "    \n",
    "arr = np.delete(arr, a-1, axis = 1)\n",
    "print()\n",
    "for l in arr:\n",
    "    print(*l)\n",
    "    \n",
    "arr = np.insert(arr, a-1, np.ones(n), axis = 1)\n",
    "print()\n",
    "for l in arr:\n",
    "    print(*l)\n",
    "    \n",
    "arr = np.append(arr, np.zeros((1, n), dtype = np.int16), axis = 0)\n",
    "print()\n",
    "for l in arr:\n",
    "    print(*l)\n",
    "    \n",
    "arr = np.append(arr, np.zeros((arr.shape[0], 1), dtype = np.int16), axis = 1)\n",
    "print()\n",
    "for l in arr:\n",
    "    print(*l)"
   ]
  },
  {
   "cell_type": "markdown",
   "id": "2d5fc1cc-b0b1-4f9e-a8c6-2d3ba95b487a",
   "metadata": {},
   "source": [
    "## 9 uzd\n",
    "\n",
    "Parašykite programą, kuri sukuria matricą nxn užpildytą 0 ir 1 šachmatų tvarka. Apatinis kairys elementas privalo būti 1."
   ]
  },
  {
   "cell_type": "code",
   "execution_count": 300,
   "id": "bed3be92-f10c-427e-be25-d0843e39ec92",
   "metadata": {},
   "outputs": [
    {
     "name": "stdin",
     "output_type": "stream",
     "text": [
      " 6\n"
     ]
    },
    {
     "name": "stdout",
     "output_type": "stream",
     "text": [
      "0 1 0 1 0 1\n",
      "1 0 1 0 1 0\n",
      "0 1 0 1 0 1\n",
      "1 0 1 0 1 0\n",
      "0 1 0 1 0 1\n",
      "1 0 1 0 1 0\n"
     ]
    }
   ],
   "source": [
    "import numpy as np\n",
    "\n",
    "n = int(input())\n",
    "\n",
    "arr = np.indices((n,n)).sum(axis=0) % 2\n",
    "if arr[n-1][0] != 1:\n",
    "    arr = arr^1\n",
    "\n",
    "# arr = np.ones((n,n), dtype=np.int8)\n",
    "# if n % 2 == 0:\n",
    "#     for i in range(n):\n",
    "#         if i%2==0:\n",
    "#             for j in range(0, n, 2):\n",
    "#                 arr[i][j] = 0\n",
    "#         else:\n",
    "#             for j in range(1, n, 2):\n",
    "#                 arr[i][j] = 0\n",
    "# else:\n",
    "#     for i in range(n):\n",
    "#         if i%2==0:\n",
    "#             for j in range(1, n, 2):\n",
    "#                 arr[i][j] = 0\n",
    "#         else:\n",
    "#             for j in range(0, n, 2):\n",
    "#                 arr[i][j] = 0\n",
    "    \n",
    "for l in arr:\n",
    "    print(*l)"
   ]
  },
  {
   "cell_type": "markdown",
   "id": "763183b6-0e92-4841-9a4d-bd338594cc53",
   "metadata": {},
   "source": [
    "## 10 uzd\n",
    "\n",
    "Sukurkite sveikųjų skaičių masyvą nxm, užpildykite jį nuo 0 iki nxm-1. Padalykite jį vertikaliai į tris dalis Iš kiekvienos gautos dalies sukurkite naują masyvą. Išveskite rezultatą kaip parodyta."
   ]
  },
  {
   "cell_type": "code",
   "execution_count": 315,
   "id": "37b8992c-bd92-460c-8cba-ec10127d9691",
   "metadata": {},
   "outputs": [
    {
     "name": "stdin",
     "output_type": "stream",
     "text": [
      " 3 9\n"
     ]
    },
    {
     "name": "stdout",
     "output_type": "stream",
     "text": [
      "0 1 2 3 4 5 6 7 8\n",
      "9 10 11 12 13 14 15 16 17\n",
      "18 19 20 21 22 23 24 25 26\n",
      "\n",
      "0 1 2\n",
      "9 10 11\n",
      "18 19 20\n",
      "\n",
      "3 4 5\n",
      "12 13 14\n",
      "21 22 23\n",
      "\n",
      "6 7 8\n",
      "15 16 17\n",
      "24 25 26\n",
      "\n"
     ]
    }
   ],
   "source": [
    "import numpy as np\n",
    "\n",
    "n, m = map(int, input().split())\n",
    "\n",
    "arr = np.arange(n*m).reshape(n,m)\n",
    "\n",
    "for l in arr:\n",
    "    print(*l)\n",
    "    \n",
    "arr = np.split(arr, 3, axis = 1)\n",
    "\n",
    "print()\n",
    "for array in arr:\n",
    "    for l in array:\n",
    "        print(*l)\n",
    "    print()"
   ]
  }
 ],
 "metadata": {
  "kernelspec": {
   "display_name": "Python 3 (ipykernel)",
   "language": "python",
   "name": "python3"
  },
  "language_info": {
   "codemirror_mode": {
    "name": "ipython",
    "version": 3
   },
   "file_extension": ".py",
   "mimetype": "text/x-python",
   "name": "python",
   "nbconvert_exporter": "python",
   "pygments_lexer": "ipython3",
   "version": "3.9.5"
  }
 },
 "nbformat": 4,
 "nbformat_minor": 5
}

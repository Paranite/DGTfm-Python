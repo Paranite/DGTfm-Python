{
 "cells": [
  {
   "cell_type": "markdown",
   "id": "b9fdaf61-08f9-4d98-9348-f96c699dabeb",
   "metadata": {},
   "source": [
    "# Laboratorinis 12\n",
    "\n",
    "## 1 uzd\n",
    "\n",
    "Parašykite programą, kuri išsprendžia lygčių sistemą ir suapvalintą atsakymą išveda stulpeliu.\n",
    "\n",
    "Pirmoje eilutėje pateikti du skaičiai n ir m:  \n",
    "n - lygčių skaičius,  \n",
    "m - nežinomųjų skaičius.  \n",
    "Toliau n eilučių, kiekvienoje eilutėje m+1 skaičius. Pirmi m skaičių - tai lygties nežinomųjų koeficientai, paskutinis skaičius - lygties rezultatas.\n",
    "\n",
    "n ir m nebūtinai lygūs"
   ]
  },
  {
   "cell_type": "code",
   "execution_count": 56,
   "id": "64289a55-1000-4c8a-b042-4c7f25da6a71",
   "metadata": {
    "tags": []
   },
   "outputs": [
    {
     "name": "stdin",
     "output_type": "stream",
     "text": [
      " 2 3\n",
      " 1 2 3 0\n",
      " 9 8 7 0\n"
     ]
    },
    {
     "name": "stdout",
     "output_type": "stream",
     "text": [
      "Sprendinys neegzistuoja.\n"
     ]
    },
    {
     "name": "stderr",
     "output_type": "stream",
     "text": [
      "C:\\Users\\GEDIMI~1\\AppData\\Local\\Temp/ipykernel_12376/2545135694.py:14: FutureWarning: `rcond` parameter will change to the default of machine precision times ``max(M, N)`` where M and N are the input matrix dimensions.\n",
      "To use the future default and silence this warning we advise to pass `rcond=None`, to keep using the old, explicitly pass `rcond=-1`.\n",
      "  res = np.linalg.lstsq(arr_list, arr_res_list)[0] # solve\n"
     ]
    }
   ],
   "source": [
    "import numpy as np\n",
    "\n",
    "n, m = map(int, input().split())\n",
    "arr_list = []\n",
    "arr_res_list = []\n",
    "for i in range(n):\n",
    "    *rowA, rowB = list(map(int, input().split()))\n",
    "    arr_list.append(rowA)\n",
    "    arr_res_list.append(rowB)\n",
    "    \n",
    "arr_list = np.array(arr_list)\n",
    "arr_res_list = np.array(arr_res_list)\n",
    "\n",
    "res = np.linalg.lstsq(arr_list, arr_res_list)[0] # solve\n",
    "\n",
    "if res.any():\n",
    "    for r in res:\n",
    "        print(np.round(r, decimals = 1))\n",
    "else:\n",
    "    print(\"Sprendinys neegzistuoja.\")"
   ]
  },
  {
   "cell_type": "markdown",
   "id": "ea9e23ad-46cb-401a-87ba-b99fc178b156",
   "metadata": {},
   "source": [
    "## 2 uzd\n",
    "\n",
    "Parašykite programą, kuri išsprendžia matricinę lygtį A*x = B\n",
    "\n",
    "n - matricos dimensija\n",
    "Kvadratinės matricos A ir B\n",
    "\n",
    "Matrica x"
   ]
  },
  {
   "cell_type": "code",
   "execution_count": 43,
   "id": "e1faf06e-b062-48d6-bc9e-7d9b43e1b785",
   "metadata": {
    "tags": []
   },
   "outputs": [
    {
     "name": "stdin",
     "output_type": "stream",
     "text": [
      " 3\n",
      " 1 0 3\n",
      " 1 -4 1\n",
      " -2 3 -5\n",
      " 10 -7 -10\n",
      " -14 -3 18\n",
      " -4 12 1\n"
     ]
    },
    {
     "name": "stdout",
     "output_type": "stream",
     "text": [
      "[[-2. -1.  2.]\n",
      " [ 4. -0. -5.]\n",
      " [ 4. -2. -4.]]\n"
     ]
    }
   ],
   "source": [
    "import numpy as np\n",
    "\n",
    "n = int(input())\n",
    "\n",
    "c_arr = []\n",
    "r_arr = []\n",
    "for i in range(n):\n",
    "    c_arr.append(list(map(int, input().split())))\n",
    "    \n",
    "for i in range(n):\n",
    "    r_arr.append(list(map(int, input().split())))\n",
    "    \n",
    "c_arr = np.array(c_arr)\n",
    "r_arr = np.array(r_arr)\n",
    "\n",
    "res = np.linalg.solve(c_arr, r_arr)\n",
    "print(res)"
   ]
  },
  {
   "cell_type": "markdown",
   "id": "b701ce03-eb85-46b7-b01b-f62d8b65b730",
   "metadata": {},
   "source": [
    "## 3 uzd\n",
    "\n",
    "Parašykite programą, kuri išsprendžia matricinę lygtį x*A = B.\n",
    "\n",
    "n - matricos dimensija  \n",
    "Kvadratinės matricos A ir B\n",
    "\n",
    "Matrica x"
   ]
  },
  {
   "cell_type": "code",
   "execution_count": 56,
   "id": "a77809eb-6661-4660-bcc4-c7bdfd3a3880",
   "metadata": {},
   "outputs": [
    {
     "name": "stdin",
     "output_type": "stream",
     "text": [
      " 3\n",
      " 5 2 -4\n",
      " -5 -5 -5\n",
      " 0 -1 -2\n",
      " 0 3 6\n",
      " 25 5 -30\n",
      " -5 -3 -1\n"
     ]
    },
    {
     "name": "stdout",
     "output_type": "stream",
     "text": [
      "[[ 0.  0. -3.]\n",
      " [ 5. -0.  5.]\n",
      " [-0.  1. -2.]]\n"
     ]
    }
   ],
   "source": [
    "import numpy as np\n",
    "\n",
    "n = int(input())\n",
    "\n",
    "c_arr = []\n",
    "r_arr = []\n",
    "for i in range(n):\n",
    "    c_arr.append(list(map(int, input().split())))\n",
    "    \n",
    "for i in range(n):\n",
    "    r_arr.append(list(map(int, input().split())))\n",
    "    \n",
    "c_arr = np.array(c_arr)\n",
    "r_arr = np.array(r_arr)\n",
    "\n",
    "res = np.matmul(r_arr, np.linalg.inv(c_arr))\n",
    "print(np.round(res, decimals=1))"
   ]
  },
  {
   "cell_type": "markdown",
   "id": "eaaae7ec-41e0-4a04-a993-79f5b6ce8149",
   "metadata": {},
   "source": [
    "## 4 ud\n",
    "\n",
    "Iš failo duom.txt nuskaitykite ir išveskite masyvą. Pakeiskite masyvo reikšmes inf reikšmėmis 100, o reikšmes nan reikšmėmis -10. Rezultatą įrašykite į failą rez.txt."
   ]
  },
  {
   "cell_type": "code",
   "execution_count": 88,
   "id": "60fa00fc-6701-4f52-82b7-344f06a6696f",
   "metadata": {},
   "outputs": [
    {
     "name": "stdout",
     "output_type": "stream",
     "text": [
      "[[ 1. nan  3.]\n",
      " [ 4.  5.  6.]\n",
      " [ 7.  8. inf]]\n",
      "[[  1. -10.   3.]\n",
      " [  4.   5.   6.]\n",
      " [  7.   8. 100.]]\n"
     ]
    }
   ],
   "source": [
    "import numpy as np\n",
    "\n",
    "d = np.loadtxt(\"duom.txt\")\n",
    "print(d)\n",
    "d[np.isinf(d)] = 100\n",
    "d[np.isnan(d)] = -10\n",
    "\n",
    "# def f(x):\n",
    "#     if np.isinf(x):\n",
    "#         return 100\n",
    "#     elif np.isnan(x):\n",
    "#         return -10\n",
    "#     return x\n",
    "    \n",
    "# fv = np.vectorize(f)\n",
    "\n",
    "# d = fv(d)\n",
    "print(d)\n",
    "\n",
    "np.savetxt(\"rez.txt\", d, fmt = \"%i\")"
   ]
  },
  {
   "cell_type": "code",
   "execution_count": null,
   "id": "d98792b9-704a-4056-a54b-c3d6285b7bf0",
   "metadata": {},
   "outputs": [],
   "source": [
    "# np.set_printoptions(formatter={'float': '{: 0.1f}'.format}) # / np.set_printoptions(precision=1)"
   ]
  },
  {
   "cell_type": "code",
   "execution_count": 119,
   "id": "7217c847-1d7b-4574-bf07-e3a90ed98df1",
   "metadata": {},
   "outputs": [],
   "source": [
    "np.set_printoptions(suppress=None, precision = None)"
   ]
  },
  {
   "cell_type": "markdown",
   "id": "879ee322-c133-4828-96b4-6891b323702a",
   "metadata": {},
   "source": [
    "## 5 uzd\n",
    "\n",
    "Duota matrica a(n x n) ir vienmatis masyvas b(1 x n). Parašykite programą, kuri pakelia kiekvienos eilutės elementą atitinkamu laipsniu (iš masyvo b)."
   ]
  },
  {
   "cell_type": "code",
   "execution_count": 17,
   "id": "229965cf-51a7-4e08-b263-d2ac7ed9cb16",
   "metadata": {},
   "outputs": [
    {
     "name": "stdin",
     "output_type": "stream",
     "text": [
      " 4 \n",
      " 1 2 3 4\n",
      " 5 6 7 8\n",
      " 9 10 11 12\n",
      " 13 14 15 16\n",
      " 2 2 3 3\n"
     ]
    },
    {
     "name": "stdout",
     "output_type": "stream",
     "text": [
      "[[   1.    4.   27.   64.]\n",
      " [  25.   36.  343.  512.]\n",
      " [  81.  100. 1331. 1728.]\n",
      " [ 169.  196. 3375. 4096.]]\n"
     ]
    }
   ],
   "source": [
    "import numpy as np\n",
    "np.set_printoptions(suppress=True)\n",
    "\n",
    "n = int(input())\n",
    "\n",
    "arr = []\n",
    "for i in range(n):\n",
    "    arr.append(list(map(float, input().split())))\n",
    "    \n",
    "arr = np.array(arr)\n",
    "arr2 = np.array(list(map(float, input().split()))).reshape(1, n)\n",
    "\n",
    "arr = np.power(arr, arr2)\n",
    "print(arr)"
   ]
  },
  {
   "cell_type": "markdown",
   "id": "0d489262-53c8-42db-914c-60bdcd5b10c1",
   "metadata": {},
   "source": [
    "## 6 uzd\n",
    "\n",
    "Sukurkite universalią dviejų parametrų funkciją. Pirmas parametras (a) – dvimatis masyvas, antras (b) – vienmatis arba dvimatis masyvas. Funkcija turi grąžinti dvimatį masyvą. Jeigu pirmo ir antro masyvų elemento reikšmės lygios, grąžina -1. Jeigu pirmo masyvo elemento reikšmė didesnė – grąžinama reikšmių dalybos liekana (aJeigu pirmo masyvo elemento reikšmė mažesnė – grąžinama reikšmių sandauga (a*b).\n",
    "\n",
    "n - a masyvo eilučių skaičius masyvas a m - b masyvo eilučių skaičius masyvas b\n",
    "\n",
    "a ir b masyvo stulpelių skaičius visada lygus n"
   ]
  },
  {
   "cell_type": "code",
   "execution_count": 1,
   "id": "d9b37eb6-0267-49ee-ae7f-348dbf3b4d31",
   "metadata": {},
   "outputs": [
    {
     "name": "stdin",
     "output_type": "stream",
     "text": [
      " 3\n",
      " 1 2 3\n",
      " 4 5 6\n",
      " 7 8 9\n",
      " 1\n",
      " 1 2 10\n"
     ]
    },
    {
     "name": "stdout",
     "output_type": "stream",
     "text": [
      "[[-1. -1. 30.]\n",
      " [ 0.  1. 60.]\n",
      " [ 0.  0. 90.]]\n"
     ]
    }
   ],
   "source": [
    "import numpy as np\n",
    "np.set_printoptions(suppress=True)\n",
    "\n",
    "n = int(input())\n",
    "a = []\n",
    "for i in range(n):\n",
    "    a.append(list(map(float, input().split())))\n",
    "a = np.array(a)\n",
    "    \n",
    "m = int(input())\n",
    "b = []\n",
    "for i in range(m):\n",
    "    b.append(list(map(float, input().split())))\n",
    "b = np.array(b)\n",
    "\n",
    "def f(x, y):\n",
    "    if x == y:\n",
    "        return -1.\n",
    "    elif x > y:\n",
    "        return x%y\n",
    "    elif x < y:\n",
    "        return x*y\n",
    "    return x\n",
    "\n",
    "vf = np.vectorize(f)\n",
    "\n",
    "a = vf(a, b)\n",
    "print(a)"
   ]
  },
  {
   "cell_type": "markdown",
   "id": "b032cfc2-c2ea-4f9a-8770-5eadef633dbc",
   "metadata": {},
   "source": [
    "## 7 uzd\n",
    "\n",
    "Duotas dvimatis masyvas a. Ciklo for pagalba modifikuokite masyvą, apskaičiuodami kiekvieno elemento kubą."
   ]
  },
  {
   "cell_type": "code",
   "execution_count": 13,
   "id": "255a7ae8-17f0-4429-8579-2e3d97ecfb37",
   "metadata": {},
   "outputs": [
    {
     "name": "stdin",
     "output_type": "stream",
     "text": [
      " 3 4\n",
      " 10 11 12 13\n",
      " 14 15 16 17\n",
      " 18 19 20 21\n"
     ]
    },
    {
     "name": "stdout",
     "output_type": "stream",
     "text": [
      "[[1000. 1331. 1728. 2197.]\n",
      " [2744. 3375. 4096. 4913.]\n",
      " [5832. 6859. 8000. 9261.]]\n"
     ]
    }
   ],
   "source": [
    "import numpy as np\n",
    "np.set_printoptions(suppress=True)\n",
    "\n",
    "n, m = map(int, input().split())\n",
    "\n",
    "a = np.array([list(map(float, input().split())) for i in range(n)])\n",
    "\n",
    "for e in np.nditer(a, op_flags = ['readwrite']):\n",
    "    e[...] = np.power(e, 3)\n",
    "\n",
    "print(a)"
   ]
  },
  {
   "cell_type": "markdown",
   "id": "0f9faa0d-126f-4ac4-9020-62b31e92aa7b",
   "metadata": {},
   "source": [
    "## 8 uzd\n",
    "\n",
    "Duotas masyvas a(4x4) ir masyvas b = (1x4). Funkcijos where() pagalba atrinkite masyvo a reikšmes (a[i][j] < 5) ir pakelkite jas atitinkamu laipsniu (iš masyvo b). Kitas reikšmes padauginkite iš 5."
   ]
  },
  {
   "cell_type": "code",
   "execution_count": 15,
   "id": "e31a232a-0fa2-4f27-b3b5-12c347173024",
   "metadata": {},
   "outputs": [
    {
     "name": "stdin",
     "output_type": "stream",
     "text": [
      " 0 6 2 4\n",
      " 9 1 4 3\n",
      " 1 3 4 8\n",
      " 3 1 8 8\n",
      " 2 3 4 5\n"
     ]
    },
    {
     "name": "stdout",
     "output_type": "stream",
     "text": [
      "[[   0.   30.   16. 1024.]\n",
      " [  45.    1.  256.  243.]\n",
      " [   1.   27.  256.   40.]\n",
      " [   9.    1.   40.   40.]]\n"
     ]
    }
   ],
   "source": [
    "import numpy as np\n",
    "np.set_printoptions(suppress = True)\n",
    "\n",
    "a = np.array([list(map(float, input().split())) for i in range(4)]) \n",
    "b = np.array(list(map(float, input().split())))\n",
    "\n",
    "a = np.where(a < 5, np.power(a, b), a*5)\n",
    "\n",
    "print(a)"
   ]
  },
  {
   "cell_type": "markdown",
   "id": "e80197f8-2809-4a07-9797-780ca805dca6",
   "metadata": {},
   "source": [
    "## 9 uzd\n",
    "\n",
    "Duotas masyvas a(4x4). Išspausdinkite:\n",
    "\n",
    "eilučių didžiausias reikšmes ir didžiausių reikšmių indeksus;  \n",
    "stulpelių mažiausias reikšmes ir mažiausių reikšmių indeksus;  \n",
    "visų elementų sumą;  \n",
    "visų elementų vidurkį."
   ]
  },
  {
   "cell_type": "code",
   "execution_count": 30,
   "id": "15018b1e-a1c1-4be7-a287-ff385d7c176d",
   "metadata": {},
   "outputs": [
    {
     "name": "stdin",
     "output_type": "stream",
     "text": [
      " 31 45 48 13\n",
      " 44 17 24 14\n",
      " 40 27 25 49\n",
      " 32 33 68 71\n"
     ]
    },
    {
     "name": "stdout",
     "output_type": "stream",
     "text": [
      "48.0 44.0 49.0 71.0\n",
      "2 0 3 3\n",
      "31.0 17.0 24.0 13.0\n",
      "0 1 1 0\n",
      "581.0\n",
      "36.3125\n"
     ]
    }
   ],
   "source": [
    "import numpy as np\n",
    "np.set_printoptions(suppress = True)\n",
    "\n",
    "a = np.array([list(map(float, input().split())) for i in range(4)]) \n",
    "\n",
    "print(*np.max(a, axis = 1))\n",
    "print(*np.argmax(a, axis = 1))\n",
    "print(*np.min(a, axis = 0))\n",
    "print(*np.argmin(a, axis = 0))\n",
    "print(np.sum(a))\n",
    "print(np.mean(a))"
   ]
  },
  {
   "cell_type": "markdown",
   "id": "2bfa2314-d7e1-42e7-aa65-06d135672b4c",
   "metadata": {},
   "source": [
    "## 10 uzd\n",
    "\n",
    "Duota kvadratinė matrica(4x4). Išspausdinkite:\n",
    "\n",
    "stulpelių kaupiamąją elementų sandaugą  \n",
    "visų elementų kaupiamąją sandaugą  \n",
    "stulpelių kaimyninių elementų skirtumus."
   ]
  },
  {
   "cell_type": "code",
   "execution_count": 41,
   "id": "6ba73207-58ef-43e3-bd41-a6fa3acba0ba",
   "metadata": {},
   "outputs": [
    {
     "name": "stdout",
     "output_type": "stream",
     "text": [
      "[[ 1  2  3  4]\n",
      " [ 6  8 10 12]\n",
      " [15 18 21 24]\n",
      " [28 32 36 40]]\n",
      "\n",
      "[  1   3   6  10  15  21  28  36  45  55  66  78  91 105 120 136]\n",
      "\n",
      "[[4 4 4 4]\n",
      " [4 4 4 4]\n",
      " [4 4 4 4]]\n"
     ]
    }
   ],
   "source": [
    "import numpy as np\n",
    "np.set_printoptions(suppress = True)\n",
    "\n",
    "a = np.array([list(map(float, input().split())) for i in range(4)])\n",
    "\n",
    "print(np.cumsum(a, axis = 0)) # sandauga? (cumprod)\n",
    "print()\n",
    "print(np.cumsum(a))\n",
    "print()\n",
    "print(np.diff(a, axis = 0))"
   ]
  },
  {
   "cell_type": "markdown",
   "id": "79a5cb84-69d9-4b9b-9ffc-95bf08165eae",
   "metadata": {},
   "source": [
    "## 11 uzd\n",
    "\n",
    "Duoti du masyvai a ir b. Išspausdinkite:\n",
    "\n",
    "unikalias reikšmes, esančias abiejuose masyvuose;  \n",
    "unikalias antro masyvo reikšmes, kurių nėra pirmame masyve;  \n",
    "unikalias reikšmes, kurios yra tik viename (ne abiejuose) masyvuose."
   ]
  },
  {
   "cell_type": "code",
   "execution_count": 6,
   "id": "ade449a9-9b61-485e-a9fc-dc616dfa382b",
   "metadata": {},
   "outputs": [
    {
     "name": "stdin",
     "output_type": "stream",
     "text": [
      " 1 2 3 4 5 6 7 8 9 10 11\n",
      " 2 4 6 8 10 12\n"
     ]
    },
    {
     "name": "stdout",
     "output_type": "stream",
     "text": [
      "[2, 4, 6, 8, 10]\n",
      "[12]\n",
      "[1, 3, 5, 7, 9, 11, 12]\n"
     ]
    }
   ],
   "source": [
    "import numpy as np\n",
    "np.set_printoptions(suppress = True)\n",
    "\n",
    "a = np.array(list(map(int, input().split())))\n",
    "b = np.array(list(map(int, input().split())))\n",
    "\n",
    "print(list(np.intersect1d(a, b)))\n",
    "print(list(np.setdiff1d(b, a)))\n",
    "print(list(np.setxor1d(a,b)))"
   ]
  },
  {
   "cell_type": "markdown",
   "id": "e146b1b3-2436-4989-82f4-52f551d7d0c3",
   "metadata": {},
   "source": [
    "## 12 uzd\n",
    "\n",
    "Duotas (nXn) masyvas. Nustatykite, ar masyve yra bent vienas nulinis elementas. Išveskite atitinkamą pranešimą."
   ]
  },
  {
   "cell_type": "code",
   "execution_count": 22,
   "id": "7abfdb60-ba3a-4c17-9b04-c3dbc42b3baf",
   "metadata": {},
   "outputs": [
    {
     "name": "stdin",
     "output_type": "stream",
     "text": [
      " 2\n",
      " 1 2\n",
      " 3 4\n"
     ]
    },
    {
     "name": "stdout",
     "output_type": "stream",
     "text": [
      "nera 0\n"
     ]
    }
   ],
   "source": [
    "import numpy as np\n",
    "np.set_printoptions(suppress = True)\n",
    "\n",
    "n = int(input())\n",
    "n = np.array([list(map(int, input().split())) for i in range(n)])\n",
    "\n",
    "if 0 in n: # arba su np.all()\n",
    "    print(\"yra 0\")\n",
    "else:\n",
    "    print(\"nera 0\")"
   ]
  },
  {
   "cell_type": "code",
   "execution_count": null,
   "id": "b56ae5e0-7e38-415e-8980-2df72848c18f",
   "metadata": {},
   "outputs": [],
   "source": []
  }
 ],
 "metadata": {
  "kernelspec": {
   "display_name": "Python 3 (ipykernel)",
   "language": "python",
   "name": "python3"
  },
  "language_info": {
   "codemirror_mode": {
    "name": "ipython",
    "version": 3
   },
   "file_extension": ".py",
   "mimetype": "text/x-python",
   "name": "python",
   "nbconvert_exporter": "python",
   "pygments_lexer": "ipython3",
   "version": "3.9.5"
  }
 },
 "nbformat": 4,
 "nbformat_minor": 5
}

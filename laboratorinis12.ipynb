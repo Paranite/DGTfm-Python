{
 "cells": [
  {
   "cell_type": "markdown",
   "id": "b9fdaf61-08f9-4d98-9348-f96c699dabeb",
   "metadata": {},
   "source": [
    "# Laboratorinis 12\n",
    "\n",
    "## 1 uzd\n",
    "\n",
    "Parašykite programą, kuri išsprendžia lygčių sistemą ir suapvalintą atsakymą išveda stulpeliu.\n",
    "\n",
    "Pirmoje eilutėje pateikti du skaičiai n ir m:  \n",
    "n - lygčių skaičius,  \n",
    "m - nežinomųjų skaičius.  \n",
    "Toliau n eilučių, kiekvienoje eilutėje m+1 skaičius. Pirmi m skaičių - tai lygties nežinomųjų koeficientai, paskutinis skaičius - lygties rezultatas.\n",
    "\n",
    "n ir m nebūtinai lygūs"
   ]
  },
  {
   "cell_type": "code",
   "execution_count": 36,
   "id": "64289a55-1000-4c8a-b042-4c7f25da6a71",
   "metadata": {
    "tags": []
   },
   "outputs": [
    {
     "name": "stdin",
     "output_type": "stream",
     "text": [
      " 4 4\n",
      " 1 2 -1 1 0\n",
      " 3 3 -5 2 0\n",
      " -3 1 4 -5 0\n",
      " 1 3 -2 1 0\n"
     ]
    },
    {
     "name": "stdout",
     "output_type": "stream",
     "text": [
      "0.0\n",
      "0.0\n",
      "0.0\n",
      "0.0\n"
     ]
    }
   ],
   "source": [
    "import numpy as np\n",
    "\n",
    "n, m = map(int, input().split())\n",
    "arr_list = []\n",
    "arr_res_list = []\n",
    "for i in range(n):\n",
    "    tmp = list(map(int, input().split()))\n",
    "    arr_list.append(tmp[:-1])\n",
    "    arr_res_list.append(tmp[-1])\n",
    "    \n",
    "arr_list = np.array(arr_list)\n",
    "arr_res_list = np.array(arr_res_list)\n",
    "\n",
    "res = np.linalg.solve(arr_list, arr_res_list)\n",
    "\n",
    "for r in res:\n",
    "    print(np.round(r, decimals = 1))\n",
    "\n",
    "# nu tipo galima prideti kad jei ats vien 0 tai tada ir 0 ats bus. Arba jei vien vienetai tiek lygciu sis. tiek atsakymuos tada gaunasi vien 1 but yeah"
   ]
  },
  {
   "cell_type": "markdown",
   "id": "ea9e23ad-46cb-401a-87ba-b99fc178b156",
   "metadata": {},
   "source": [
    "## 2 uzd\n",
    "\n",
    "Parašykite programą, kuri išsprendžia matricinę lygtį A*x = B\n",
    "\n",
    "n - matricos dimensija\n",
    "Kvadratinės matricos A ir B\n",
    "\n",
    "Matrica x"
   ]
  },
  {
   "cell_type": "code",
   "execution_count": 43,
   "id": "e1faf06e-b062-48d6-bc9e-7d9b43e1b785",
   "metadata": {
    "tags": []
   },
   "outputs": [
    {
     "name": "stdin",
     "output_type": "stream",
     "text": [
      " 3\n",
      " 1 0 3\n",
      " 1 -4 1\n",
      " -2 3 -5\n",
      " 10 -7 -10\n",
      " -14 -3 18\n",
      " -4 12 1\n"
     ]
    },
    {
     "name": "stdout",
     "output_type": "stream",
     "text": [
      "[[-2. -1.  2.]\n",
      " [ 4. -0. -5.]\n",
      " [ 4. -2. -4.]]\n"
     ]
    }
   ],
   "source": [
    "import numpy as np\n",
    "\n",
    "n = int(input())\n",
    "\n",
    "c_arr = []\n",
    "r_arr = []\n",
    "for i in range(n):\n",
    "    c_arr.append(list(map(int, input().split())))\n",
    "    \n",
    "for i in range(n):\n",
    "    r_arr.append(list(map(int, input().split())))\n",
    "    \n",
    "c_arr = np.array(c_arr)\n",
    "r_arr = np.array(r_arr)\n",
    "\n",
    "res = np.linalg.solve(c_arr, r_arr)\n",
    "print(res)"
   ]
  },
  {
   "cell_type": "markdown",
   "id": "b701ce03-eb85-46b7-b01b-f62d8b65b730",
   "metadata": {},
   "source": [
    "## 3 uzd\n",
    "\n",
    "Parašykite programą, kuri išsprendžia matricinę lygtį x*A = B.\n",
    "\n",
    "n - matricos dimensija  \n",
    "Kvadratinės matricos A ir B\n",
    "\n",
    "Matrica x"
   ]
  },
  {
   "cell_type": "code",
   "execution_count": 56,
   "id": "a77809eb-6661-4660-bcc4-c7bdfd3a3880",
   "metadata": {},
   "outputs": [
    {
     "name": "stdin",
     "output_type": "stream",
     "text": [
      " 3\n",
      " 5 2 -4\n",
      " -5 -5 -5\n",
      " 0 -1 -2\n",
      " 0 3 6\n",
      " 25 5 -30\n",
      " -5 -3 -1\n"
     ]
    },
    {
     "name": "stdout",
     "output_type": "stream",
     "text": [
      "[[ 0.  0. -3.]\n",
      " [ 5. -0.  5.]\n",
      " [-0.  1. -2.]]\n"
     ]
    }
   ],
   "source": [
    "import numpy as np\n",
    "\n",
    "n = int(input())\n",
    "\n",
    "c_arr = []\n",
    "r_arr = []\n",
    "for i in range(n):\n",
    "    c_arr.append(list(map(int, input().split())))\n",
    "    \n",
    "for i in range(n):\n",
    "    r_arr.append(list(map(int, input().split())))\n",
    "    \n",
    "c_arr = np.array(c_arr)\n",
    "r_arr = np.array(r_arr)\n",
    "\n",
    "res = np.matmul(r_arr, np.linalg.inv(c_arr))\n",
    "print(np.round(res, decimals=1))"
   ]
  },
  {
   "cell_type": "markdown",
   "id": "eaaae7ec-41e0-4a04-a993-79f5b6ce8149",
   "metadata": {},
   "source": [
    "## 4 ud\n",
    "\n",
    "Iš failo duom.txt nuskaitykite ir išveskite masyvą. Pakeiskite masyvo reikšmes inf reikšmėmis 100, o reikšmes nan reikšmėmis -10. Rezultatą įrašykite į failą rez.txt."
   ]
  },
  {
   "cell_type": "code",
   "execution_count": 68,
   "id": "60fa00fc-6701-4f52-82b7-344f06a6696f",
   "metadata": {},
   "outputs": [
    {
     "name": "stdout",
     "output_type": "stream",
     "text": [
      "[[ 1. nan  3.]\n",
      " [ 4.  5.  6.]\n",
      " [ 7.  8. inf]]\n",
      "0.0\n",
      "[[  1. -10.   3.]\n",
      " [  4.   5.   6.]\n",
      " [  7.   8. 100.]]\n"
     ]
    }
   ],
   "source": [
    "import numpy as np\n",
    "\n",
    "d = np.loadtxt(\"duom.txt\")\n",
    "print(d)\n",
    "d[np.isinf(d)] = 100\n",
    "d[np.isnan(d)] = -10\n",
    "\n",
    "# def f(x):\n",
    "#     if np.isinf(x):\n",
    "#         return 100\n",
    "#     elif np.isnan(x):\n",
    "#         return -10\n",
    "#     return x\n",
    "    \n",
    "# fv = np.vectorize(f)\n",
    "\n",
    "# d = fv(d)\n",
    "\n",
    "print(d)"
   ]
  },
  {
   "cell_type": "code",
   "execution_count": null,
   "id": "d98792b9-704a-4056-a54b-c3d6285b7bf0",
   "metadata": {},
   "outputs": [],
   "source": []
  }
 ],
 "metadata": {
  "kernelspec": {
   "display_name": "Python 3 (ipykernel)",
   "language": "python",
   "name": "python3"
  },
  "language_info": {
   "codemirror_mode": {
    "name": "ipython",
    "version": 3
   },
   "file_extension": ".py",
   "mimetype": "text/x-python",
   "name": "python",
   "nbconvert_exporter": "python",
   "pygments_lexer": "ipython3",
   "version": "3.9.5"
  }
 },
 "nbformat": 4,
 "nbformat_minor": 5
}

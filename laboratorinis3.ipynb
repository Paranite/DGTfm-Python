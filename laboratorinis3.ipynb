{
 "cells": [
  {
   "cell_type": "markdown",
   "metadata": {},
   "source": [
    "# 3 Laboratorinis\n",
    "\n",
    "Gediminas Antanas Kailiūnas DGTfm-21\n",
    "\n",
    "## 1 užduotis\n",
    "\n",
    "Parašykite programą, kuri apverčia nuskaitytą eilutę funkcijos reversed() pagalba"
   ]
  },
  {
   "cell_type": "code",
   "execution_count": null,
   "metadata": {},
   "outputs": [
    {
     "name": "stdin",
     "output_type": "stream",
     "text": [
      " The quick brown fox\n"
     ]
    },
    {
     "name": "stdout",
     "output_type": "stream",
     "text": [
      "xof nworb kciuq ehT\n"
     ]
    }
   ],
   "source": [
    "print(''.join(reversed(input())))"
   ]
  },
  {
   "cell_type": "markdown",
   "metadata": {},
   "source": [
    "## 2 užduotis\n",
    "\n",
    "Parašykite programą, kuri apverčia nuskaitytą eilutę ciklo while pagalba."
   ]
  },
  {
   "cell_type": "code",
   "execution_count": 12,
   "metadata": {},
   "outputs": [
    {
     "name": "stdin",
     "output_type": "stream",
     "text": [
      " The quick brown fox\n"
     ]
    },
    {
     "name": "stdout",
     "output_type": "stream",
     "text": [
      "xof nworb kciuq ehT"
     ]
    }
   ],
   "source": [
    "s = input()\n",
    "n = 1\n",
    "while n < len(s) + 1:\n",
    "    print(s[-n], end = '')\n",
    "    n +=1"
   ]
  },
  {
   "cell_type": "markdown",
   "metadata": {},
   "source": [
    "## 3 užduotis\n",
    "\n",
    "Parašykite programą, kuri sujungia dvi eilutes taip, kad antroji eilutė atsiduria pirmosios viduryje, jeigu eilutės simbolių skaičius yra lyginis. Jeigu eilutės simbolių skaičius yra nelyginis, pirmosios dalies ilgis turi būti vienu simboliu trumpesnis"
   ]
  },
  {
   "cell_type": "code",
   "execution_count": 3,
   "metadata": {},
   "outputs": [
    {
     "name": "stdin",
     "output_type": "stream",
     "text": [
      " PYTHON\n",
      " learning\n"
     ]
    },
    {
     "name": "stdout",
     "output_type": "stream",
     "text": [
      "PYTlearningHON\n"
     ]
    }
   ],
   "source": [
    "a = input()\n",
    "b = input()\n",
    "print(a[:len(a)//2] + b + a[len(a)//2:])"
   ]
  },
  {
   "cell_type": "markdown",
   "metadata": {},
   "source": [
    "## 4 užduotis\n",
    "\n",
    "Parašykite programą, kuri nuskaito dviejų žodžių eilutę ir sukeičia žodžius vietomis. Nenaudokite ciklų"
   ]
  },
  {
   "cell_type": "code",
   "execution_count": 9,
   "metadata": {},
   "outputs": [
    {
     "name": "stdin",
     "output_type": "stream",
     "text": [
      " Hello world\n"
     ]
    },
    {
     "name": "stdout",
     "output_type": "stream",
     "text": [
      "world Hello\n",
      "world Hello\n"
     ]
    }
   ],
   "source": [
    "a = input()\n",
    "# print(' '.join(reversed(a.split())))\n",
    "print(' '.join(a.split()[::-1]))"
   ]
  },
  {
   "cell_type": "markdown",
   "metadata": {},
   "source": [
    "## 5 užduotis\n",
    "\n",
    "Parašykite programą, kuri nuskaito eilutę ir išveda antrosios raidės „ a “ indeksą. Jeigu tokia raidė eilutėje tik viena, išveda „ –1 “. Jeigu tokios raidės eilutėje nėra, išveda „ -2 “ . Nenaudokite ciklų"
   ]
  },
  {
   "cell_type": "code",
   "execution_count": null,
   "metadata": {},
   "outputs": [],
   "source": []
  }
 ],
 "metadata": {
  "kernelspec": {
   "display_name": "Python 3",
   "language": "python",
   "name": "python3"
  },
  "language_info": {
   "codemirror_mode": {
    "name": "ipython",
    "version": 3
   },
   "file_extension": ".py",
   "mimetype": "text/x-python",
   "name": "python",
   "nbconvert_exporter": "python",
   "pygments_lexer": "ipython3",
   "version": "3.7.8"
  }
 },
 "nbformat": 4,
 "nbformat_minor": 4
}

{
 "cells": [
  {
   "cell_type": "markdown",
   "id": "2789c4c0-244a-4e14-bc54-4c38178ff0ae",
   "metadata": {},
   "source": [
    "# Laboratorinis 13\n",
    "\n",
    "## 1 uzd\n",
    "\n",
    "Duotas masyvas a.\n",
    "Iš masyvo a pašalinkite inf, -inf ir nan reikšmes."
   ]
  },
  {
   "cell_type": "code",
   "execution_count": 2,
   "id": "6912173e-8a10-4c77-94c8-22e8b19dbaa3",
   "metadata": {},
   "outputs": [
    {
     "name": "stdin",
     "output_type": "stream",
     "text": [
      " 10, 20, np.NINF, np.nan, np.inf\n"
     ]
    },
    {
     "name": "stdout",
     "output_type": "stream",
     "text": [
      "[10. 20.]\n"
     ]
    }
   ],
   "source": [
    "import numpy as np\n",
    "np.set_printoptions(suppress = True)\n",
    "\n",
    "a = np.array(eval(input()))\n",
    "# a = np.array([10, 20, np.NINF, np.nan, np.inf])\n",
    "a = np.delete(a, np.where(np.isinf(a)))\n",
    "a = np.delete(a, np.where(np.isnan(a)))\n",
    "\n",
    "print(a)\n"
   ]
  },
  {
   "cell_type": "markdown",
   "id": "8edc251e-4e54-4571-9a17-57a454c770ce",
   "metadata": {},
   "source": [
    "## 2 uzd\n",
    "\n",
    "Duotas masyvas (4x4). Išveskite antrą pagal dydį vertę."
   ]
  },
  {
   "cell_type": "code",
   "execution_count": 6,
   "id": "92592bc2-9f2d-42af-8d3b-8f32b4916522",
   "metadata": {},
   "outputs": [
    {
     "name": "stdout",
     "output_type": "stream",
     "text": [
      "7\n"
     ]
    }
   ],
   "source": [
    "import numpy as np\n",
    "np.set_printoptions(suppress = True)\n",
    "\n",
    "a = np.array([list(map(int, input().split())) for i in range(4)])\n",
    "\n",
    "a = np.unique(a)\n",
    "a = np.sort(a)\n",
    "\n",
    "print(a[-2])"
   ]
  },
  {
   "cell_type": "markdown",
   "id": "1d0e4580-1402-49c8-9a3a-b3f3b70d87bc",
   "metadata": {},
   "source": [
    "## 3 uzd\n",
    "\n",
    "Duotas masyvas (4x4).\n",
    "Išveskite pirmo elemento, kurio vertė >3 kordinates"
   ]
  },
  {
   "cell_type": "code",
   "execution_count": 21,
   "id": "f89ac973-95a5-4b2c-8c81-76ec5aefb3f4",
   "metadata": {},
   "outputs": [
    {
     "name": "stdout",
     "output_type": "stream",
     "text": [
      "0 1\n"
     ]
    }
   ],
   "source": [
    "import numpy as np\n",
    "np.set_printoptions(suppress = True)\n",
    "\n",
    "a = np.array([list(map(int, input().split())) for i in range(4)])\n",
    "# a = np.array([[2, 4, 1, 3],\n",
    "#               [4, 3, 3, 2],\n",
    "#               [4, 0, 2, 0],\n",
    "#               [0, 4, 4, 2]])\n",
    "\n",
    "print(*np.unravel_index(np.argmax(a > 3), shape = a.shape))\n"
   ]
  },
  {
   "cell_type": "markdown",
   "id": "6e4c4a65-2ed0-4970-9d6b-bad75f7b7667",
   "metadata": {},
   "source": [
    "## 4 uzd\n",
    "\n",
    "Duotas masyvas a (3x5).\n",
    "Surūšiuokite eilutes taip, kad trečio stulpelio elementai būtų išdėstyti didėjimo tvarka."
   ]
  },
  {
   "cell_type": "code",
   "execution_count": 35,
   "id": "d04df4df-2d63-451d-81f4-851ddd3826af",
   "metadata": {},
   "outputs": [
    {
     "name": "stdout",
     "output_type": "stream",
     "text": [
      "[[ 5  0  1  3  2]\n",
      " [-1  6  3  1  3]\n",
      " [-3  2  9  4  8]]\n"
     ]
    }
   ],
   "source": [
    "import numpy as np\n",
    "np.set_printoptions(suppress = True)\n",
    "\n",
    "a = np.array([list(map(float, input().split())) for i in range(3)])\n",
    "# a = np.array([[5, 0, 1, 3, 2],\n",
    "#             [-3, 2, 9, 4, 8],\n",
    "#             [-1, 6, 3, 1, 3]])\n",
    "\n",
    "a = a[a[:, 2].argsort()]\n",
    "\n",
    "print(a)"
   ]
  },
  {
   "cell_type": "markdown",
   "id": "98dfdcd6-3548-4301-8f95-cf4470f4f3d6",
   "metadata": {},
   "source": [
    "## 5 uzd\n",
    "\n",
    "Parašykite programą, kuri surūšiuoti vardų (first_names) ir pavardžių (last_names) poras (pirmiausia pagal pavardę, po to pagal vardą).\n",
    "Išveskite surūšiuotas poras."
   ]
  },
  {
   "cell_type": "code",
   "execution_count": 46,
   "id": "4c643954-8f8c-46ce-a235-1d5b0aedde16",
   "metadata": {},
   "outputs": [
    {
     "name": "stdin",
     "output_type": "stream",
     "text": [
      " (\"Margery\",\"Betsey\",\"Shelley\",\"Lanell\",\"Genesis\",\"Andy\")\n",
      " (\"Woolum\",\"Battle\",\"Plotner\",\"Brien\",\"Stahl\",\"Battle\")\n"
     ]
    },
    {
     "name": "stdout",
     "output_type": "stream",
     "text": [
      "Battle Andy\n",
      "Battle Betsey\n",
      "Brien Lanell\n",
      "Plotner Shelley\n",
      "Stahl Genesis\n",
      "Woolum Margery\n"
     ]
    }
   ],
   "source": [
    "import numpy as np\n",
    "np.set_printoptions(suppress = True)\n",
    "\n",
    "first_names = np.array(eval(input()))\n",
    "last_names = np.array(eval(input()))\n",
    "arr_type = [('last_name', 'U10'), ('first_name', 'U10')]\n",
    "\n",
    "arr = np.ones(len(first_names), dtype = arr_type)\n",
    "\n",
    "arr['first_name'] = first_names\n",
    "arr['last_name'] = last_names\n",
    "\n",
    "arr.sort(order = ['last_name', 'first_name'])\n",
    "for p in arr:\n",
    "    print(*p)\n"
   ]
  },
  {
   "cell_type": "markdown",
   "id": "04240f1f-0597-45a1-b985-36d9eae000e2",
   "metadata": {},
   "source": [
    "## 6 uzd\n",
    "\n",
    "Duotas masyvas a (nxn).\n",
    "Surūšiuokite paskutinę masyvo eilutę."
   ]
  },
  {
   "cell_type": "code",
   "execution_count": 50,
   "id": "cbd05683-5a5a-4f7f-a828-260cd07a67c9",
   "metadata": {},
   "outputs": [
    {
     "name": "stdin",
     "output_type": "stream",
     "text": [
      " 3\n",
      " -1.0111 -1.4711 0.8705\n",
      " -0.3318 -0.3436 2.1714\n",
      " 0.1773 0.7424 0.8548\n"
     ]
    },
    {
     "name": "stdout",
     "output_type": "stream",
     "text": [
      "[[-1.0111 -1.4711  0.8705]\n",
      " [-0.3318 -0.3436  2.1714]\n",
      " [ 0.1773  0.7424  0.8548]]\n"
     ]
    }
   ],
   "source": [
    "import numpy as np\n",
    "np.set_printoptions(suppress = True)\n",
    "\n",
    "n = int(input())\n",
    "a = np.array([list(map(float, input().split())) for i in range(n)])\n",
    "\n",
    "a[-1].sort() # a[-1, :/...]\n",
    "\n",
    "print(a)"
   ]
  },
  {
   "cell_type": "markdown",
   "id": "5acd0bcc-610a-4e90-a3f3-74be285332a7",
   "metadata": {},
   "source": [
    "## 7 uzd\n",
    "\n",
    "Duotas masyvas a.  \n",
    "Išveskite k mažiausių reikšmių. Masyvo nerūšiuokite!.\n",
    "\n",
    "Note  \n",
    "Privalote pasinaudoti numpy bibliotekos funkcionalumu. Jei rūšiuosite masyvą gausite neteisingą atsakymą."
   ]
  },
  {
   "cell_type": "code",
   "execution_count": 55,
   "id": "2c5db552-72e7-4f50-a626-4875dea272b0",
   "metadata": {},
   "outputs": [
    {
     "name": "stdin",
     "output_type": "stream",
     "text": [
      " 1 7 8 2 0.1 3 15 2.5 10 1.3 0.2 5\n",
      " 5\n"
     ]
    },
    {
     "name": "stdout",
     "output_type": "stream",
     "text": [
      "[0.1 0.2 1.  1.3 2. ]\n"
     ]
    }
   ],
   "source": [
    "import numpy as np\n",
    "np.set_printoptions(suppress = True)\n",
    "\n",
    "a = np.array(list(map(float, input().split())))\n",
    "k = int(input())\n",
    "\n",
    "a.partition(k)\n",
    "print(a[:k])"
   ]
  },
  {
   "cell_type": "markdown",
   "id": "0c9fb1ed-8182-41d9-9cd0-e03f8157a27e",
   "metadata": {},
   "source": [
    "## 8 uzd\n",
    "\n",
    "Duotas masyvas a (6x6) intervale.  \n",
    "Išveskite mažiausią elemento reikšmę.  \n",
    "Išveskite pirmo mažiausio elemento indeksų rinkinį (tuple).  \n",
    "Išveskite visų mažiausių elementų indeksų masyvą."
   ]
  },
  {
   "cell_type": "code",
   "execution_count": 76,
   "id": "2db0af0b-7d62-4164-a667-bdfa6f8e3b34",
   "metadata": {},
   "outputs": [
    {
     "name": "stdout",
     "output_type": "stream",
     "text": [
      "1\n",
      "(1, 0)\n",
      "[[1 0]\n",
      " [2 0]\n",
      " [3 2]\n",
      " [5 5]]\n"
     ]
    }
   ],
   "source": [
    "import numpy as np\n",
    "np.set_printoptions(suppress = True)\n",
    "\n",
    "# a = np.array([list(map(int, input().split())) for i in range(6)])\n",
    "\n",
    "a = np.array([[3, 8, 6, 2, 6, 8],\n",
    "            [1, 7, 4, 7, 2, 5],\n",
    "            [1, 8, 8, 6, 7, 9],\n",
    "            [3, 2, 1, 7, 4, 5],\n",
    "            [6, 6, 5, 4, 5, 7],\n",
    "            [6, 9, 7, 4, 3, 1]])\n",
    "\n",
    "min_val = a.min()\n",
    "print(min_val)\n",
    "print(np.unravel_index(a.argmin(), shape = a.shape))\n",
    "temp = np.where(a==min_val)\n",
    "temp = np.stack([*temp], axis = 1)\n",
    "# temp = np.concatenate([temp[0].reshape(-1, 1), temp[1].reshape(-1, 1)], axis = 1)\n",
    "print(temp)"
   ]
  },
  {
   "cell_type": "code",
   "execution_count": null,
   "id": "97ae9a3f-260c-42c6-a1a7-3971cfc2132e",
   "metadata": {},
   "outputs": [],
   "source": []
  }
 ],
 "metadata": {
  "kernelspec": {
   "display_name": "Python 3 (ipykernel)",
   "language": "python",
   "name": "python3"
  },
  "language_info": {
   "codemirror_mode": {
    "name": "ipython",
    "version": 3
   },
   "file_extension": ".py",
   "mimetype": "text/x-python",
   "name": "python",
   "nbconvert_exporter": "python",
   "pygments_lexer": "ipython3",
   "version": "3.9.5"
  }
 },
 "nbformat": 4,
 "nbformat_minor": 5
}

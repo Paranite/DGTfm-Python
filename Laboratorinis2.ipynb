{
 "cells": [
  {
   "cell_type": "markdown",
   "id": "24bdd44d-9eda-405e-a50a-90fc054eb9e9",
   "metadata": {},
   "source": [
    "# Laboratorinis darbas 2\n",
    "\n",
    "Gediminas Antanas Kailiūnas DGTfm-21\n",
    "\n",
    "## 1 užduotis\n",
    "\n",
    "Parašykite programą, kuri nuskaito natūralųjį skaičių x ir išveda sekantį po x lyginį skaičių."
   ]
  },
  {
   "cell_type": "code",
   "execution_count": 3,
   "id": "584118e5-eef5-47c9-a188-82b2b386b72d",
   "metadata": {},
   "outputs": [
    {
     "name": "stdin",
     "output_type": "stream",
     "text": [
      "iveskite skaiciu 222\n"
     ]
    },
    {
     "name": "stdout",
     "output_type": "stream",
     "text": [
      "224\n"
     ]
    }
   ],
   "source": [
    "a = int(input(\"iveskite skaiciu\"))\n",
    "if a % 2 == 0:\n",
    "    print(a + 2)\n",
    "else:\n",
    "    print(a + 1)"
   ]
  },
  {
   "cell_type": "markdown",
   "id": "5b838a2a-b256-4744-a0c3-bd08fa6337ae",
   "metadata": {},
   "source": [
    "## 2 užduotis\n",
    "\n",
    "Parašykite programą, kuri nuskaito sveikuosius skaičius a, b ir c ir palygina juos. Jeigu du arba trys kintamieji yra lygūs, išveda jų reikšmes."
   ]
  },
  {
   "cell_type": "code",
   "execution_count": 9,
   "id": "0e4ff812-816f-4262-819f-fc50cfc5b8aa",
   "metadata": {},
   "outputs": [
    {
     "name": "stdin",
     "output_type": "stream",
     "text": [
      "iveskite 3 skaicius 1 1 1\n"
     ]
    },
    {
     "name": "stdout",
     "output_type": "stream",
     "text": [
      "a = b = c = 1\n"
     ]
    }
   ],
   "source": [
    "a, b, c = input('iveskite 3 skaicius').split()\n",
    "if a == b == c:\n",
    "    print(\"a = b = c = \" + a)\n",
    "elif a == b:\n",
    "    print(\"a = {}, b = {}\".format(a, b))\n",
    "elif a == c:\n",
    "    print(\"a = {}, c = {}\".format(a, c))\n",
    "elif c == b:\n",
    "    print(\"b = {}, c = {}\".format(b, c))"
   ]
  },
  {
   "cell_type": "markdown",
   "id": "2f759cef-ce22-435c-ac72-de8d8f1493de",
   "metadata": {},
   "source": [
    "## 3 užduotis\n",
    "\n",
    "Parašykite programą, kuri nuskaito ne daugiau nei keturis sveikuosius skaičius, patikrina, ar visi jie priklauso intervalui [0; 100] ir išveda atitinkamą pranešimą."
   ]
  },
  {
   "cell_type": "code",
   "execution_count": 1,
   "id": "621d064a-5100-426d-af3d-acf417f6b4b5",
   "metadata": {},
   "outputs": [
    {
     "name": "stdin",
     "output_type": "stream",
     "text": [
      "Iveskite skaiciu:  5\n",
      "Iveskite skaiciu:  6\n",
      "Iveskite skaiciu:  12\n",
      "Iveskite skaiciu:  99\n"
     ]
    },
    {
     "name": "stdout",
     "output_type": "stream",
     "text": [
      "Visi įvesti skaičiai priklauso intervalui [0;100]\n"
     ]
    }
   ],
   "source": [
    "for i in range(4):\n",
    "    try:\n",
    "        s = int(input())\n",
    "        if not 0 <= s <= 100:\n",
    "            print(\"Ne visi ivesti skaiciai priklauso intervalui [0;100]\")\n",
    "            break\n",
    "    except:\n",
    "        continue\n",
    "else:\n",
    "    print(\"Visi ivesti skaiciai priklauso intervalui [0;100]\")"
   ]
  },
  {
   "cell_type": "markdown",
   "id": "9978185e-8261-46f2-9bf2-50e0e320646d",
   "metadata": {},
   "source": [
    "## 4 užduotis\n",
    "\n",
    "Parašykite programą, kuri nuskaito natūraliuosius skaičius a, b ir c (b > a) ir nustato, kiek skaičių iš intervalo [a;b] dalijasi iš c."
   ]
  },
  {
   "cell_type": "code",
   "execution_count": 11,
   "id": "1e595cd1-8e89-470b-b03b-d0f874415940",
   "metadata": {},
   "outputs": [
    {
     "name": "stdin",
     "output_type": "stream",
     "text": [
      "Įveskite skaičius a, b ir c (a < b):  3 15 20\n"
     ]
    },
    {
     "name": "stdout",
     "output_type": "stream",
     "text": [
      "0\n"
     ]
    }
   ],
   "source": [
    "a, b, c = input(\"Įveskite skaičius a, b ir c (a < b): \").split()\n",
    "if int(a) > int(b):\n",
    "    print(\"a > b kai turetu buti a < b\")\n",
    "    exit()\n",
    "n = 0\n",
    "for i in range(int(a), int(b) + 1):\n",
    "    if i % int(c) == 0:\n",
    "        n += 1\n",
    "print(n)"
   ]
  },
  {
   "cell_type": "markdown",
   "id": "338a7bf0-75f1-42d4-9177-bd34c490dbfa",
   "metadata": {},
   "source": [
    "## 5 užduotis\n",
    "\n",
    "Parašykite programą, kuri nuskaito natūralųjį skaičių n ir išveda trikampį taip, kaip parodyta\n",
    "pavyzdyje:  \n",
    "Įveskite skaičių: 5  \n",
    "1  \n",
    "2 2  \n",
    "3 3 3  \n",
    "4 4 4 4  \n",
    "5 5 5 5 5"
   ]
  },
  {
   "cell_type": "code",
   "execution_count": 6,
   "id": "c6b236db-8221-437c-b358-9d0904c66578",
   "metadata": {},
   "outputs": [
    {
     "name": "stdin",
     "output_type": "stream",
     "text": [
      "iveskite skaiciu 5\n"
     ]
    },
    {
     "name": "stdout",
     "output_type": "stream",
     "text": [
      "1\n",
      "2 2\n",
      "3 3 3\n",
      "4 4 4 4\n",
      "5 5 5 5 5\n"
     ]
    }
   ],
   "source": [
    "a = int(input(\"iveskite skaiciu\"))\n",
    "for i in range(1, a + 1):\n",
    "    txt = \"\"\n",
    "    for j in range(i):\n",
    "        txt += str(i)\n",
    "        if (j != i - 1):\n",
    "            txt += \" \"\n",
    "    print(txt)"
   ]
  },
  {
   "cell_type": "markdown",
   "id": "b76045aa-91ca-4022-81a0-791e7eb7b046",
   "metadata": {},
   "source": [
    "## 6 užduotis\n",
    "\n",
    "Parašykite programą, kuri nuskaito natūralųjį skaičių n ( n > 1), patikrina ar jis yra pirminis ir išveda atitinkamą pranešimą."
   ]
  },
  {
   "cell_type": "code",
   "execution_count": 21,
   "id": "2e5fffc9-846c-4c51-9a9d-d0719df6b628",
   "metadata": {},
   "outputs": [
    {
     "name": "stdin",
     "output_type": "stream",
     "text": [
      "iveskite skaiciu 155\n"
     ]
    },
    {
     "name": "stdout",
     "output_type": "stream",
     "text": [
      "nepirminis\n"
     ]
    }
   ],
   "source": [
    "a = int(input(\"iveskite skaiciu\"))\n",
    "\n",
    "if not a > 1:\n",
    "    print(\"sk. turi buti didesnis uz 1\")\n",
    "    exit()\n",
    "    \n",
    "def isPrime(a, div = 2):\n",
    "    if(a == div):\n",
    "        return True\n",
    "    elif(a % div == 0):\n",
    "        return False\n",
    "    else:\n",
    "        return isPrime(a, div + 1)\n",
    "    \n",
    "if isPrime(a):\n",
    "    print(\"pirminis\")\n",
    "else:\n",
    "    print(\"nepirminis\")"
   ]
  },
  {
   "cell_type": "markdown",
   "id": "ec8240a9-5d9c-4abd-a1ef-fad8f3c67f32",
   "metadata": {},
   "source": [
    "## 7 užduotis\n",
    "\n",
    "Parašykite programą, kuri nuskaito natūraliuosius skaičius a ir b (b > a) ir išveda visus pirminius skaičius iš intervalo [a;b] ."
   ]
  },
  {
   "cell_type": "code",
   "execution_count": 3,
   "id": "dd65689b-9447-4ac6-9046-2adb8215c458",
   "metadata": {},
   "outputs": [
    {
     "name": "stdin",
     "output_type": "stream",
     "text": [
      "iveskite skaiciu 15\n",
      "iveskite skaiciu 26\n"
     ]
    },
    {
     "name": "stdout",
     "output_type": "stream",
     "text": [
      "17\n",
      "19\n",
      "23\n",
      "3\n"
     ]
    }
   ],
   "source": [
    "a = int(input(\"iveskite skaiciu\"))\n",
    "b = int(input(\"iveskite skaiciu\"))\n",
    "    \n",
    "def isPrime(a, div = 2):\n",
    "    if (a == 1):\n",
    "        return False\n",
    "    elif (a == div):\n",
    "        return True\n",
    "    elif (a % div == 0):\n",
    "        return False\n",
    "    else:\n",
    "        return isPrime(a, div + 1)\n",
    "\n",
    "c = 0\n",
    "for i in range(a, b + 1): \n",
    "    if isPrime(i):\n",
    "        print(i)\n",
    "        c += 1\n",
    "print(c)"
   ]
  },
  {
   "cell_type": "markdown",
   "id": "fecf2cf5-576f-4445-a5d4-23c0d802a6d4",
   "metadata": {},
   "source": [
    "## 8 užduotis\n",
    "\n",
    "Parašykite programą, kuri nuskaito natūralųjį skaičių n ir išveda sumą 1!+2!+3!+...+n! Šiai užduočiai atlikti galima naudoti tik vieną ciklą"
   ]
  },
  {
   "cell_type": "code",
   "execution_count": 12,
   "id": "3e52f725-f61b-44a7-92d5-1c1be0409bc7",
   "metadata": {},
   "outputs": [
    {
     "name": "stdin",
     "output_type": "stream",
     "text": [
      " 3\n"
     ]
    },
    {
     "name": "stdout",
     "output_type": "stream",
     "text": [
      "9\n"
     ]
    }
   ],
   "source": [
    "import math\n",
    "a = int(input())\n",
    "s = 0\n",
    "for i in range(1, a + 1):\n",
    "    s += math.factorial(i)\n",
    "print(s)"
   ]
  },
  {
   "cell_type": "markdown",
   "id": "32641943-395f-4b6f-94aa-0da8da576490",
   "metadata": {},
   "source": [
    "## 9 užduotis\n",
    "\n",
    "Parašykite programą, kuri nuskaito natūralųjį skaičių x, randa didžiausią dvejeto laipsnio rodiklį n ( 2n ≤ x ) ir išveda 2n ir n reikšmes"
   ]
  },
  {
   "cell_type": "code",
   "execution_count": 5,
   "id": "723a01a0-c15f-4bde-977e-c68c1781fa67",
   "metadata": {},
   "outputs": [
    {
     "name": "stdin",
     "output_type": "stream",
     "text": [
      " 50\n"
     ]
    },
    {
     "name": "stdout",
     "output_type": "stream",
     "text": [
      "32 5\n"
     ]
    }
   ],
   "source": [
    "x = int(input())\n",
    "\n",
    "if x <= 0:\n",
    "    print(\"sk. turi buti didesnis uz 0\")\n",
    "\n",
    "n = 0\n",
    "ns = 0\n",
    "while ns <= x:\n",
    "    n += 1\n",
    "    ns = 2 ** n\n",
    "print(\"{} {}\".format(2**(n-1), n-1))"
   ]
  },
  {
   "cell_type": "markdown",
   "id": "cdc3dc57-e3e2-4cf0-8258-49b8c6a55530",
   "metadata": {},
   "source": [
    "## 10 užduotis\n",
    "\n",
    "Parašykite programą, kuri nuskaito skaičių x (x – sveikasis skaičius), nustato ir išveda mažiausią skaičiaus x natūralųjį daliklį n ( n ≠ 1)."
   ]
  },
  {
   "cell_type": "code",
   "execution_count": 7,
   "id": "9c5a3ef9-a8c8-4fad-92be-ddeadfc6f26f",
   "metadata": {},
   "outputs": [
    {
     "name": "stdin",
     "output_type": "stream",
     "text": [
      " -27\n"
     ]
    },
    {
     "name": "stdout",
     "output_type": "stream",
     "text": [
      "3\n"
     ]
    }
   ],
   "source": [
    "x = int(input())\n",
    "for i in range(2, abs(x)+1):\n",
    "    if x % i == 0:\n",
    "        print(i)\n",
    "        break"
   ]
  },
  {
   "cell_type": "markdown",
   "id": "925de841-6ca5-4a6f-a1db-a3786b2b88b6",
   "metadata": {},
   "source": [
    "## 11 užduotis\n",
    "\n",
    "Parašykite programą, kuri leidžia nuskaityti iš ekrano natūraliųjų skaičių seką (skaičiai įvedami po vieną) ir baigia nuskaitymą įvedus 0. Nustatykite ir išveskite sekos lyginių skaičių kiekį."
   ]
  },
  {
   "cell_type": "code",
   "execution_count": 6,
   "id": "77d67654-9b90-4e3b-b97b-a0a86cbec940",
   "metadata": {},
   "outputs": [
    {
     "name": "stdin",
     "output_type": "stream",
     "text": [
      " 1\n",
      " 1\n",
      " 1\n",
      " 0\n"
     ]
    },
    {
     "name": "stdout",
     "output_type": "stream",
     "text": [
      "0\n"
     ]
    }
   ],
   "source": [
    "inp = None\n",
    "s = []\n",
    "while inp != 0:\n",
    "    inp = int(input())\n",
    "    s.append(inp)\n",
    "    \n",
    "s = len([a for a in s if a % 2 == 0]) - 1\n",
    "print(s)"
   ]
  },
  {
   "cell_type": "markdown",
   "id": "c61743dd-d68b-43b9-960e-345cfb6be4cc",
   "metadata": {},
   "source": [
    "## 12 užduotis\n",
    "\n",
    "Parašykite programą, kuri leidžia nuskaityti iš ekrano sveikųjų skaičių seką (skaičiai įvedami po vieną) ir baigia nuskaitymą įvedus 0. Nustatykite antrojo pagal dydį šios sekos elemento vertę. Sekoje privalo būti bent du elementai. Nenaudokite rikiavimo!."
   ]
  },
  {
   "cell_type": "code",
   "execution_count": 18,
   "id": "4dd5eb8b-1075-405a-91bd-2019fcaf6a48",
   "metadata": {},
   "outputs": [
    {
     "name": "stdin",
     "output_type": "stream",
     "text": [
      " -10\n",
      " -20\n",
      " -30\n",
      " -40\n",
      " -50\n",
      " 0\n"
     ]
    },
    {
     "name": "stdout",
     "output_type": "stream",
     "text": [
      "-20\n"
     ]
    }
   ],
   "source": [
    "import math\n",
    "inp = None\n",
    "s = []\n",
    "fmax = -math.inf\n",
    "smax = -math.inf\n",
    "while inp != 0:\n",
    "    inp = int(input())\n",
    "    if inp == 0:\n",
    "        break\n",
    "    if inp > fmax:\n",
    "        smax = fmax\n",
    "        fmax = inp\n",
    "    elif inp != fmax and smax < inp:\n",
    "        smax = inp\n",
    "        \n",
    "print(fmax if smax == -math.inf else smax)"
   ]
  },
  {
   "cell_type": "markdown",
   "id": "4c3b2c7e-2928-4584-893a-6861a8d101f2",
   "metadata": {},
   "source": [
    "## 13 užduotis\n",
    "\n",
    "Parašykite programą, kuri leidžia nuskaityti iš ekrano sveikųjų skaičių seką (skaičiai įvedami po vieną) ir baigia nuskaitymą įvedus 0. Nustatykite kiek sekos elementų turi didžiausią vertę."
   ]
  },
  {
   "cell_type": "code",
   "execution_count": 17,
   "id": "7ac4defe-b737-43bb-a271-51cfa3ea2204",
   "metadata": {},
   "outputs": [
    {
     "name": "stdin",
     "output_type": "stream",
     "text": [
      " 10\n",
      " 1\n",
      " 2\n",
      " 10\n",
      " 3\n",
      " 4\n",
      " 10\n",
      " 0\n"
     ]
    },
    {
     "name": "stdout",
     "output_type": "stream",
     "text": [
      "3\n"
     ]
    }
   ],
   "source": [
    "inp = None\n",
    "s = []\n",
    "while inp != 0:\n",
    "    inp = int(input())\n",
    "    if inp != 0:\n",
    "        s.append(inp)\n",
    "\n",
    "s = sorted(s, reverse = True)\n",
    "tmp = s[0]\n",
    "n = 0\n",
    "for i in s:\n",
    "    if i != tmp:\n",
    "        break\n",
    "    n += 1\n",
    "\n",
    "print(n)"
   ]
  },
  {
   "cell_type": "markdown",
   "id": "232705ab-d79c-4f0b-a394-a1b493ce2d50",
   "metadata": {},
   "source": [
    "## 14 užduotis\n",
    "\n",
    "Parašykite programą, kuri nuskaito natūralųjį skaičių n ir nustato n-tąjį Fibonačio sekos skaičių. Fibonačio skaičių seka nusakoma taip: F0 = 0, F1 = 1, Fn = Fn-1 + Fn-2"
   ]
  },
  {
   "cell_type": "code",
   "execution_count": 2,
   "id": "2fb940c7-dbdc-449a-b33c-2e5e6e04f7d5",
   "metadata": {},
   "outputs": [
    {
     "name": "stdin",
     "output_type": "stream",
     "text": [
      " 1\n"
     ]
    },
    {
     "name": "stdout",
     "output_type": "stream",
     "text": [
      "1\n"
     ]
    }
   ],
   "source": [
    "n = int(input())\n",
    "f0 = 0\n",
    "f1 = 1\n",
    "if n == 0:\n",
    "    print(f0)\n",
    "else:\n",
    "    for i in range(n-1):\n",
    "        temp = f1\n",
    "        f1 = f0 + f1\n",
    "        f0 = temp\n",
    "\n",
    "    print(f1)"
   ]
  },
  {
   "cell_type": "markdown",
   "id": "9de58213-7648-4bb5-8108-8af48aa30e65",
   "metadata": {},
   "source": [
    "## 15 užduotis\n",
    "\n",
    "Parašykite programą, kuri leidžia nuskaityti iš ekrano sveikųjų skaičių seką (skaičiai įvedami po vieną) ir baigia nuskaitymą įvedus raidę \"x\". Nustatykite ir išveskite mažiausią ir didžiausią sekos skaičius.  \n",
    "Jeigu visi sekos skaičiai yra lygūs, atsakymą išveskite kaip maksimalią reikšmę.  \n",
    "Sekoje privalo būti bent du elementai  "
   ]
  },
  {
   "cell_type": "code",
   "execution_count": 10,
   "id": "b728303c-775c-4d02-b790-20b62036ad70",
   "metadata": {},
   "outputs": [
    {
     "name": "stdin",
     "output_type": "stream",
     "text": [
      " 1\n",
      " 1\n",
      " 1\n",
      " x\n"
     ]
    },
    {
     "name": "stdout",
     "output_type": "stream",
     "text": [
      "1\n"
     ]
    }
   ],
   "source": [
    "inp = None\n",
    "s = []\n",
    "while inp != 'x':\n",
    "    inp = input()\n",
    "    if inp != 'x':\n",
    "        s.append(int(inp))\n",
    "if len(dict.fromkeys(s)) == 1:\n",
    "    print(max(s))\n",
    "else:\n",
    "    print(\"{} {}\".format(min(s), max(s)))"
   ]
  },
  {
   "cell_type": "code",
   "execution_count": null,
   "id": "a656bf43-6973-4f57-92e0-8f3f1b253ac0",
   "metadata": {},
   "outputs": [],
   "source": []
  }
 ],
 "metadata": {
  "kernelspec": {
   "display_name": "Python 3",
   "language": "python",
   "name": "python3"
  },
  "language_info": {
   "codemirror_mode": {
    "name": "ipython",
    "version": 3
   },
   "file_extension": ".py",
   "mimetype": "text/x-python",
   "name": "python",
   "nbconvert_exporter": "python",
   "pygments_lexer": "ipython3",
   "version": "3.7.8"
  }
 },
 "nbformat": 4,
 "nbformat_minor": 5
}

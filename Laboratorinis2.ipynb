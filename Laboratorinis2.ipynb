{
 "cells": [
  {
   "cell_type": "markdown",
   "id": "24bdd44d-9eda-405e-a50a-90fc054eb9e9",
   "metadata": {},
   "source": [
    "# Laboratorinis darbas 2\n",
    "\n",
    "Gediminas Antanas Kailiūnas DGTfm-21\n",
    "\n",
    "## 1 užduotis\n",
    "\n",
    "Parašykite programą, kuri nuskaito natūralųjį skaičių x ir išveda sekantį po x lyginį skaičių."
   ]
  },
  {
   "cell_type": "code",
   "execution_count": 3,
   "id": "584118e5-eef5-47c9-a188-82b2b386b72d",
   "metadata": {},
   "outputs": [
    {
     "name": "stdin",
     "output_type": "stream",
     "text": [
      "iveskite skaiciu 222\n"
     ]
    },
    {
     "name": "stdout",
     "output_type": "stream",
     "text": [
      "224\n"
     ]
    }
   ],
   "source": [
    "a = int(input(\"iveskite skaiciu\"))\n",
    "if a % 2 == 0:\n",
    "    print(a + 2)\n",
    "else:\n",
    "    print(a + 1)"
   ]
  },
  {
   "cell_type": "markdown",
   "id": "5b838a2a-b256-4744-a0c3-bd08fa6337ae",
   "metadata": {},
   "source": [
    "## 2 užduotis\n",
    "\n",
    "Parašykite programą, kuri nuskaito sveikuosius skaičius a, b ir c ir palygina juos. Jeigu du arba trys kintamieji yra lygūs, išveda jų reikšmes."
   ]
  },
  {
   "cell_type": "code",
   "execution_count": 9,
   "id": "0e4ff812-816f-4262-819f-fc50cfc5b8aa",
   "metadata": {},
   "outputs": [
    {
     "name": "stdin",
     "output_type": "stream",
     "text": [
      "iveskite 3 skaicius 1 1 1\n"
     ]
    },
    {
     "name": "stdout",
     "output_type": "stream",
     "text": [
      "a = b = c = 1\n"
     ]
    }
   ],
   "source": [
    "a, b, c = input('iveskite 3 skaicius').split()\n",
    "if a == b == c:\n",
    "    print(\"a = b = c = \" + a)\n",
    "elif a == b:\n",
    "    print(\"a = {}, b = {}\".format(a, b))\n",
    "elif a == c:\n",
    "    print(\"a = {}, c = {}\".format(a, c))\n",
    "elif c == b:\n",
    "    print(\"b = {}, c = {}\".format(b, c))"
   ]
  },
  {
   "cell_type": "markdown",
   "id": "2f759cef-ce22-435c-ac72-de8d8f1493de",
   "metadata": {},
   "source": [
    "## 3 užduotis\n",
    "\n",
    "Parašykite programą, kuri nuskaito keturis sveikuosius skaičius, patikrina, ar visi jie priklauso intervalui [0; 100] ir išveda atitinkamą pranešimą. "
   ]
  },
  {
   "cell_type": "code",
   "execution_count": 5,
   "id": "621d064a-5100-426d-af3d-acf417f6b4b5",
   "metadata": {},
   "outputs": [
    {
     "name": "stdin",
     "output_type": "stream",
     "text": [
      "Iveskite skaiciu:  100\n",
      "Iveskite skaiciu:  101\n"
     ]
    },
    {
     "name": "stdout",
     "output_type": "stream",
     "text": [
      "Ne visi įvesti skaičiai priklauso intervalui [0;100]\n"
     ]
    }
   ],
   "source": [
    "for i in range(4):\n",
    "    s = int(input(\"Iveskite skaiciu: \"))\n",
    "    if not 0 <= s <= 100:\n",
    "        print(\"Ne visi įvesti skaičiai priklauso intervalui [0;100]\")\n",
    "        break\n",
    "else:\n",
    "    print(\"Visi įvesti skaičiai priklauso intervalui [0;100]\")"
   ]
  },
  {
   "cell_type": "markdown",
   "id": "9978185e-8261-46f2-9bf2-50e0e320646d",
   "metadata": {},
   "source": [
    "## 4 užduotis\n",
    "\n",
    "Parašykite programą, kuri nuskaito natūraliuosius skaičius a, b ir c (b > a) ir nustato, kiek skaičių iš intervalo [a;b] dalijasi iš c."
   ]
  },
  {
   "cell_type": "code",
   "execution_count": 11,
   "id": "1e595cd1-8e89-470b-b03b-d0f874415940",
   "metadata": {},
   "outputs": [
    {
     "name": "stdin",
     "output_type": "stream",
     "text": [
      "Įveskite skaičius a, b ir c (a < b):  3 15 20\n"
     ]
    },
    {
     "name": "stdout",
     "output_type": "stream",
     "text": [
      "0\n"
     ]
    }
   ],
   "source": [
    "a, b, c = input(\"Įveskite skaičius a, b ir c (a < b): \").split()\n",
    "if int(a) > int(b):\n",
    "    print(\"a > b kai turetu buti a < b\")\n",
    "    exit()\n",
    "n = 0\n",
    "for i in range(int(a), int(b)):\n",
    "    if i % int(c) == 0:\n",
    "        n += 1\n",
    "print(n)"
   ]
  },
  {
   "cell_type": "markdown",
   "id": "338a7bf0-75f1-42d4-9177-bd34c490dbfa",
   "metadata": {},
   "source": [
    "## 5 užduotis\n",
    "\n",
    "Parašykite programą, kuri nuskaito natūralųjį skaičių n ir išveda trikampį taip, kaip parodyta\n",
    "pavyzdyje:  \n",
    "Įveskite skaičių: 5  \n",
    "1  \n",
    "2 2  \n",
    "3 3 3  \n",
    "4 4 4 4  \n",
    "5 5 5 5 5"
   ]
  },
  {
   "cell_type": "code",
   "execution_count": 19,
   "id": "c6b236db-8221-437c-b358-9d0904c66578",
   "metadata": {},
   "outputs": [
    {
     "name": "stdin",
     "output_type": "stream",
     "text": [
      "iveskite skaiciu 5\n"
     ]
    },
    {
     "name": "stdout",
     "output_type": "stream",
     "text": [
      "1 \n",
      "2 2 \n",
      "3 3 3 \n",
      "4 4 4 4 \n",
      "5 5 5 5 5 \n"
     ]
    }
   ],
   "source": [
    "a = int(input(\"iveskite skaiciu\"))\n",
    "for i in range(1, a + 1):\n",
    "    txt = \"\"\n",
    "    for j in range(i):\n",
    "        txt += str(i) + \" \"\n",
    "    print(txt)"
   ]
  },
  {
   "cell_type": "markdown",
   "id": "b76045aa-91ca-4022-81a0-791e7eb7b046",
   "metadata": {},
   "source": [
    "## 6 užduotis\n",
    "\n",
    "Parašykite programą, kuri nuskaito natūralųjį skaičių n ( n > 1), patikrina ar jis yra pirminis ir išveda atitinkamą pranešimą."
   ]
  },
  {
   "cell_type": "code",
   "execution_count": 21,
   "id": "2e5fffc9-846c-4c51-9a9d-d0719df6b628",
   "metadata": {},
   "outputs": [
    {
     "name": "stdin",
     "output_type": "stream",
     "text": [
      "iveskite skaiciu 155\n"
     ]
    },
    {
     "name": "stdout",
     "output_type": "stream",
     "text": [
      "nepirminis\n"
     ]
    }
   ],
   "source": [
    "a = int(input(\"iveskite skaiciu\"))\n",
    "n = 0\n",
    "for i in range(1, a):\n",
    "    if a % i == 0:\n",
    "        n += 1\n",
    "if n == 1:\n",
    "    print(\"pirminis\")\n",
    "else:\n",
    "    print(\"nepirminis\")"
   ]
  },
  {
   "cell_type": "markdown",
   "id": "ec8240a9-5d9c-4abd-a1ef-fad8f3c67f32",
   "metadata": {},
   "source": [
    "## 7 užduotis\n",
    "\n",
    "Parašykite programą, kuri nuskaito natūraliuosius skaičius a ir b (b > a) ir išveda visus pirminius skaičius iš intervalo [a;b] ."
   ]
  },
  {
   "cell_type": "code",
   "execution_count": null,
   "id": "dd65689b-9447-4ac6-9046-2adb8215c458",
   "metadata": {},
   "outputs": [],
   "source": []
  }
 ],
 "metadata": {
  "kernelspec": {
   "display_name": "Python 3",
   "language": "python",
   "name": "python3"
  },
  "language_info": {
   "codemirror_mode": {
    "name": "ipython",
    "version": 3
   },
   "file_extension": ".py",
   "mimetype": "text/x-python",
   "name": "python",
   "nbconvert_exporter": "python",
   "pygments_lexer": "ipython3",
   "version": "3.7.8"
  }
 },
 "nbformat": 4,
 "nbformat_minor": 5
}

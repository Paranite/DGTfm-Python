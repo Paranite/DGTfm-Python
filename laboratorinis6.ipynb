{
 "cells": [
  {
   "cell_type": "markdown",
   "id": "32df153e-4389-4305-ad87-60288e806f00",
   "metadata": {},
   "source": [
    "# Laboratorinis 6\n",
    "\n",
    "## 2 uzd\n",
    "\n",
    "Parašykite programą, kuri prie aibės A prideda sąrašo L elementus. Atsakymas turi būti pateiktas surūšiuota tvarka"
   ]
  },
  {
   "cell_type": "code",
   "execution_count": 17,
   "id": "3de9d287-65b1-48d3-a5d2-a6a051c792ca",
   "metadata": {},
   "outputs": [
    {
     "name": "stdin",
     "output_type": "stream",
     "text": [
      " {\"Yellow\", \"Orange\", \"Black\"}\n",
      " [\"Blue\", \"Green\", \"Red\"]\n"
     ]
    },
    {
     "name": "stdout",
     "output_type": "stream",
     "text": [
      "['Black', 'Blue', 'Green', 'Orange', 'Red', 'Yellow']\n"
     ]
    }
   ],
   "source": [
    "a = eval(input())\n",
    "l = eval(input())\n",
    "\n",
    "a.update(l)\n",
    "print(sorted(list(a)))"
   ]
  },
  {
   "cell_type": "markdown",
   "id": "8b3b5e81-a26b-4f38-8793-120fe77f3c62",
   "metadata": {},
   "source": [
    "## 3 uzd\n",
    "\n",
    "Parašykite programą, kuri nuskaito keturių elementų rinkinį, išpakuoja elementus į kintamuosius a, b, c, d ir išveda juos į failą kint.txt."
   ]
  },
  {
   "cell_type": "code",
   "execution_count": 19,
   "id": "e0533f1d-0f9b-492a-9112-508af3392034",
   "metadata": {},
   "outputs": [
    {
     "name": "stdin",
     "output_type": "stream",
     "text": [
      " (100, 200, 300, 400)\n"
     ]
    }
   ],
   "source": [
    "a, b, c, d = eval(input())\n",
    "with open('kint.txt', 'w') as f:\n",
    "    f.write(\"a = {}\\nb = {}\\nc = {}\\nd = {}\".format(a, b, c, d))"
   ]
  },
  {
   "cell_type": "markdown",
   "id": "866e8cc6-9a72-4f84-b633-57aabf9e0b7c",
   "metadata": {},
   "source": [
    "## 4 uzd\n",
    "\n",
    "Duotas skaitmenų sąrašas. Nustatykite, kiek skirtingų skaitmenų jame randama."
   ]
  },
  {
   "cell_type": "code",
   "execution_count": 23,
   "id": "c7eb5802-04d5-4946-997d-cc439653349e",
   "metadata": {},
   "outputs": [
    {
     "name": "stdin",
     "output_type": "stream",
     "text": [
      " 00987\n"
     ]
    },
    {
     "name": "stdout",
     "output_type": "stream",
     "text": [
      "4\n"
     ]
    }
   ],
   "source": [
    "a = input()\n",
    "a = dict.fromkeys(a)\n",
    "print(len(a))"
   ]
  },
  {
   "cell_type": "markdown",
   "id": "62d5290b-b5e4-4d03-aa30-ba19ddf75e88",
   "metadata": {},
   "source": [
    "## 5 uzd\n",
    "\n",
    "Duotas rinkinys t. Pakeiskite sąrašo reikšmę a reikšme b. Išveskite rinkinį t."
   ]
  },
  {
   "cell_type": "code",
   "execution_count": 41,
   "id": "292fb116-d691-4f65-bb80-e2d6a824a9c3",
   "metadata": {},
   "outputs": [
    {
     "name": "stdin",
     "output_type": "stream",
     "text": [
      " (11, [22, 33], 44, 55)\n",
      " 22 2000\n"
     ]
    },
    {
     "name": "stdout",
     "output_type": "stream",
     "text": [
      "(11, [2000, 33], 44, 55)\n"
     ]
    }
   ],
   "source": [
    "t = eval(input())\n",
    "a, b = input().split()\n",
    "\n",
    "for i in t:\n",
    "    if type(i) == list:\n",
    "        try:\n",
    "            i[i.index(int(a))] = int(b)\n",
    "            break\n",
    "        except:\n",
    "            pass\n",
    "print(t)"
   ]
  },
  {
   "cell_type": "markdown",
   "id": "89e205b9-356c-44ea-987b-ae510d397347",
   "metadata": {},
   "source": [
    "## 6 uzd\n",
    "\n",
    "Duotas sąrašas L. Iš sąrašo elementų sudarykite surušiuotas aibes (set comprehension) A ir B taip, kaip parodyta."
   ]
  },
  {
   "cell_type": "code",
   "execution_count": 65,
   "id": "26d021fa-a051-4511-99ad-09c6b4ed4122",
   "metadata": {},
   "outputs": [
    {
     "name": "stdin",
     "output_type": "stream",
     "text": [
      " [\"10\", \"25\", \"a\", \"100\", \"c\", \"a\", \"100\", \"d\", \"b\", \"b\", \"5\"]\n"
     ]
    },
    {
     "name": "stdout",
     "output_type": "stream",
     "text": [
      "['a', 'b', 'c', 'd']\n",
      "[5, 10, 25, 100]\n"
     ]
    }
   ],
   "source": [
    "l = eval(input())\n",
    "a = {i for i in l if not i.isnumeric()}\n",
    "b = {int(i) for i in l if i.isnumeric()}\n",
    "\n",
    "if a:\n",
    "    print(sorted(a))\n",
    "if b:\n",
    "    print(sorted(b))"
   ]
  },
  {
   "cell_type": "markdown",
   "id": "b65e4b81-31a3-4830-8a6c-0c2c0f554a1f",
   "metadata": {},
   "source": [
    "## 7 uzd\n",
    "\n",
    "Parašykite programą, kuri iš aibės A pašalina reikšmes 100, 200 ir 300 naudojant tik vieną komandą. Rezultatą pateikite kaip surūšiuotą sąrašą (naudokite funkciją sorted)."
   ]
  },
  {
   "cell_type": "code",
   "execution_count": 71,
   "id": "69f52456-4b2e-4e17-8994-731e65eba260",
   "metadata": {},
   "outputs": [
    {
     "name": "stdin",
     "output_type": "stream",
     "text": [
      " {100, 200, 300, 400, 500, 600, 700}\n"
     ]
    },
    {
     "name": "stdout",
     "output_type": "stream",
     "text": [
      "[400, 500, 600, 700]\n"
     ]
    }
   ],
   "source": [
    "a = eval(input())\n",
    "\n",
    "a.difference_update({100, 200, 300})\n",
    "\n",
    "print(sorted(a))"
   ]
  },
  {
   "cell_type": "markdown",
   "id": "ce196fc9-222c-4d05-9f73-dfa9a1c32e97",
   "metadata": {},
   "source": [
    "## 8 uzd\n",
    "\n",
    "Pateikti du skaičių sąrašai. Suskaičiuokite, kiek yra elementų, esančių tiek L1, tiek ir L2 sąrašuose. Išveskite bendrų skaičių sąrąšą didėjimo tvarka."
   ]
  },
  {
   "cell_type": "code",
   "execution_count": 75,
   "id": "8747f3ed-1dff-44da-82ae-026b3382a3e2",
   "metadata": {},
   "outputs": [
    {
     "name": "stdin",
     "output_type": "stream",
     "text": [
      " 7 3 6 5 1 3 4 6 2\n",
      " 0 0 6 8 9 3 6 4 5\n"
     ]
    },
    {
     "name": "stdout",
     "output_type": "stream",
     "text": [
      "4\n",
      "[3, 4, 5, 6]\n"
     ]
    }
   ],
   "source": [
    "l1 = set(map(int, input().split()))\n",
    "l2 = set(map(int, input().split()))\n",
    "\n",
    "l3 = l1.intersection(l2)\n",
    "print(len(l3))\n",
    "print(sorted(l3))"
   ]
  },
  {
   "cell_type": "markdown",
   "id": "6bbf9aaf-84ef-468f-8eaa-29f1254a41b5",
   "metadata": {},
   "source": [
    "## 9 uzd\n",
    "\n",
    "Parašykite programą, kuri išveda skirtingas priebalses, esančias nurodytame žodyje. Rezultatą pateikite kaip surikiuotą rinkinį iš mažųjų raidžių.  \n",
    "Aibė iš visų balsių: set('aeiyou')"
   ]
  },
  {
   "cell_type": "code",
   "execution_count": 82,
   "id": "4733e1e1-166d-4da9-b9a9-ecc8970a63df",
   "metadata": {},
   "outputs": [
    {
     "name": "stdin",
     "output_type": "stream",
     "text": [
      " Universitetas\n"
     ]
    },
    {
     "name": "stdout",
     "output_type": "stream",
     "text": [
      "('n', 'r', 's', 't', 'v')\n"
     ]
    }
   ],
   "source": [
    "w = set(input().lower())\n",
    "vowels = set('aeiyou')\n",
    "consonants = w.difference(vowels)\n",
    "print(tuple(sorted(consonants)))"
   ]
  },
  {
   "cell_type": "markdown",
   "id": "832e2ccc-3311-4c6a-8bf9-e4e982f38ef6",
   "metadata": {},
   "source": [
    "## 10 uzd\n",
    "\n",
    "Parašykite programą, kuri patikrina ar visi įvestos sekos skaičiai yra unikalūs. Jeigu įvesta tuščia seką, išveda atitinkamą pranešimą."
   ]
  },
  {
   "cell_type": "code",
   "execution_count": 85,
   "id": "b5b86154-32d7-4caa-80e4-4aa65753d8de",
   "metadata": {},
   "outputs": [
    {
     "name": "stdin",
     "output_type": "stream",
     "text": [
      " 10 12 13 14 11 15\n"
     ]
    },
    {
     "name": "stdout",
     "output_type": "stream",
     "text": [
      "Visi sekos skaiciai yra unikalus\n"
     ]
    }
   ],
   "source": [
    "a = input().split()\n",
    "if len(set(a)) == len(a):\n",
    "    print(\"Visi sekos skaiciai yra unikalus\")\n",
    "else:\n",
    "    print(\"Ne visi sekos skaiciai yra unikalus\")"
   ]
  },
  {
   "cell_type": "markdown",
   "id": "94608669-fbe4-4bec-860f-a8491ea50063",
   "metadata": {},
   "source": [
    "## 11 uzd\n",
    "\n",
    "Duotas failas text.txt. Nepaisydami raidžių registro, raskite tekste nepasikartojančius žodžius.\n",
    "\n",
    "Output  \n",
    "Išveskite rastų žodžių kiekį. Pačius žodžius išveskite stulpeliu ir tokia tvarka, kokia jie yra tekste."
   ]
  },
  {
   "cell_type": "code",
   "execution_count": 1,
   "id": "cfa2a434-a95a-49ba-9bd6-6ccab02f4e7f",
   "metadata": {},
   "outputs": [
    {
     "name": "stdout",
     "output_type": "stream",
     "text": [
      "7\n",
      "quick\n",
      "brown\n",
      "fox\n",
      "jumps\n",
      "over\n",
      "lazy\n",
      "dog\n"
     ]
    }
   ],
   "source": [
    "S = set()\n",
    "with open(\"text.txt\", 'r') as f:\n",
    "    lines = ''.join(f.readlines()).lower().split()\n",
    "    S = {x: lines.count(x) for x in lines}\n",
    "\n",
    "print(list(S.values()).count(1))\n",
    "for key, val in S.items():\n",
    "    if val < 2:\n",
    "        print(key)"
   ]
  },
  {
   "cell_type": "markdown",
   "id": "ab217631-e005-471a-a70b-763af5c7f777",
   "metadata": {},
   "source": [
    "## 12 uzd\n",
    "\n",
    "Parašykite programą, kuri nuskaito dvi aibes ir patikrina ar viena aibė yra kitos aibės poaibis."
   ]
  },
  {
   "cell_type": "code",
   "execution_count": 103,
   "id": "dc8e62d4-ab97-46b5-87a4-5ae657c5d348",
   "metadata": {},
   "outputs": [
    {
     "name": "stdin",
     "output_type": "stream",
     "text": [
      " 1 2 3 4 5\n",
      " 6 7 8 9 0\n"
     ]
    },
    {
     "name": "stdout",
     "output_type": "stream",
     "text": [
      "False\n"
     ]
    }
   ],
   "source": [
    "l1 = set(input().split())\n",
    "l2 = set(input().split())\n",
    "print(l2.issubset(l1) or l1.issubset(l2)) # or issuperset"
   ]
  },
  {
   "cell_type": "code",
   "execution_count": null,
   "id": "e7a6b11f-1b71-42f7-ac89-759e947ecf82",
   "metadata": {},
   "outputs": [],
   "source": []
  }
 ],
 "metadata": {
  "kernelspec": {
   "display_name": "Python 3 (ipykernel)",
   "language": "python",
   "name": "python3"
  },
  "language_info": {
   "codemirror_mode": {
    "name": "ipython",
    "version": 3
   },
   "file_extension": ".py",
   "mimetype": "text/x-python",
   "name": "python",
   "nbconvert_exporter": "python",
   "pygments_lexer": "ipython3",
   "version": "3.9.5"
  }
 },
 "nbformat": 4,
 "nbformat_minor": 5
}

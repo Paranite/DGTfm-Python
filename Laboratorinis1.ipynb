{
 "cells": [
  {
   "cell_type": "markdown",
   "id": "eab45b40-ed87-41d4-9107-5cb66136f99d",
   "metadata": {
    "tags": []
   },
   "source": [
    "# Laboratorinis darbas 1\n",
    "\n",
    "Gediminas Antanas Kailiūnas DGTfm-21\n",
    "\n",
    "## 1 užduotis\n",
    "Nuskaityti simbolių eilutę. Jeigu pirmas ir paskutinis eilutės simboliai sutampa, išvesti “True”, jeigu nesutampa – “False”.\n",
    "\n",
    "aaa bbb ccc dda\n",
    "True\n",
    "\n",
    "Aaa bbb ccc dda\n",
    "False"
   ]
  },
  {
   "cell_type": "code",
   "execution_count": 1,
   "id": "daef63df-e53e-45da-86c7-84c5ca6132ff",
   "metadata": {},
   "outputs": [
    {
     "name": "stdin",
     "output_type": "stream",
     "text": [
      "enter 1 Aaa bbb ccc dda\n"
     ]
    },
    {
     "name": "stdout",
     "output_type": "stream",
     "text": [
      "False\n"
     ]
    }
   ],
   "source": [
    "a = input(\"enter 1\")\n",
    "print(a[0] == a[-1])"
   ]
  },
  {
   "cell_type": "markdown",
   "id": "3556f214-be43-4029-a550-1d30c1f9608c",
   "metadata": {},
   "source": [
    "## 2 užduotis\n",
    "Duotas dviženklis sveikasis skaičius. Išveskite jį taip, kaip parodyta pavyzdyje:\n",
    "\n",
    "a = 23  \n",
    "2*****3"
   ]
  },
  {
   "cell_type": "code",
   "execution_count": 7,
   "id": "642ebc3c-ebaf-46b8-bc29-4eb49c5d5e10",
   "metadata": {},
   "outputs": [
    {
     "name": "stdin",
     "output_type": "stream",
     "text": [
      "enter 1 23\n"
     ]
    },
    {
     "name": "stdout",
     "output_type": "stream",
     "text": [
      "2*****3\n"
     ]
    }
   ],
   "source": [
    "a = input(\"enter 1\")\n",
    "print(a[0], a[-1], sep =\"*****\")"
   ]
  },
  {
   "cell_type": "markdown",
   "id": "26a6a5e8-8674-4e45-a01d-306ffbd24d59",
   "metadata": {},
   "source": [
    "## 3 užduotis\n",
    "Parašykite programą, kuri leidžia nuskaityti darbuotojų duomenis iš klaviatūros. Pakeičia nuskaitytų reikšmių tipus į nurodytus skliaustuose ir rezultatą išveda ekrane.  \n",
    "Nuskaito reikšmes:    \n",
    "Employee No (int)  \n",
    "Employee Name (str)  \n",
    "Employee Salary (float)  \n",
    "Employee Address (str)  \n",
    "Employee Married ?[True|False] (bool)  "
   ]
  },
  {
   "cell_type": "code",
   "execution_count": 8,
   "id": "01dd5755-2d40-4cda-b1df-df24dd5c3152",
   "metadata": {},
   "outputs": [
    {
     "name": "stdin",
     "output_type": "stream",
     "text": [
      "Employee No 1\n"
     ]
    },
    {
     "name": "stdout",
     "output_type": "stream",
     "text": [
      "Employee No 1 <class 'int'>\n"
     ]
    },
    {
     "name": "stdin",
     "output_type": "stream",
     "text": [
      "Employee Name John\n"
     ]
    },
    {
     "name": "stdout",
     "output_type": "stream",
     "text": [
      "Employee Name John <class 'str'>\n"
     ]
    },
    {
     "name": "stdin",
     "output_type": "stream",
     "text": [
      "Employee Salary 2000.5\n"
     ]
    },
    {
     "name": "stdout",
     "output_type": "stream",
     "text": [
      "Employee Salary 2000.5 <class 'float'>\n"
     ]
    },
    {
     "name": "stdin",
     "output_type": "stream",
     "text": [
      "Employee Address Address str. 8\n"
     ]
    },
    {
     "name": "stdout",
     "output_type": "stream",
     "text": [
      "Employee Address Address str. 8 <class 'str'>\n"
     ]
    },
    {
     "name": "stdin",
     "output_type": "stream",
     "text": [
      "Employee Married True\n"
     ]
    },
    {
     "name": "stdout",
     "output_type": "stream",
     "text": [
      "Employee Married True <class 'bool'>\n"
     ]
    }
   ],
   "source": [
    "def print_type(text, value):\n",
    "    print(\"{} {} {}\".format(text, value, type(value)))\n",
    "         \n",
    "a = input(\"Employee No\")\n",
    "print_type(\"Employee No\", int(a))\n",
    "a = input(\"Employee Name\")\n",
    "print_type(\"Employee Name\", str(a))\n",
    "a = input(\"Employee Salary\")\n",
    "print_type(\"Employee Salary\", float(a))\n",
    "a = input(\"Employee Address\")\n",
    "print_type(\"Employee Address\", str(a))\n",
    "a = input(\"Employee Married\")\n",
    "print_type(\"Employee Married\", bool(eval(a)))"
   ]
  },
  {
   "cell_type": "markdown",
   "id": "815290e0-eb37-444f-b993-4a4675b2ed3d",
   "metadata": {},
   "source": [
    "## 4 užduotis\n",
    "Importuokite modulį math.  \n",
    "Parašykite programą, kuri nuskaito apskritimo spindulio reikšmę ir apskaičiuoja apskritimo plotą.  \n",
    "π reikšmę reikia paimti iš modulio math.  \n",
    "\n",
    "r = 1.5  \n",
    "s = 7.0685834705770345\n"
   ]
  },
  {
   "cell_type": "code",
   "execution_count": 26,
   "id": "072b256b-01c2-49ee-b582-91cf735471b2",
   "metadata": {},
   "outputs": [
    {
     "name": "stdin",
     "output_type": "stream",
     "text": [
      "spindulio ilg 1.5\n"
     ]
    },
    {
     "name": "stdout",
     "output_type": "stream",
     "text": [
      "7.0685834705770345\n"
     ]
    }
   ],
   "source": [
    "import math\n",
    "r = float(input(\"spindulio ilg\"))\n",
    "print(r*r*math.pi)"
   ]
  },
  {
   "cell_type": "markdown",
   "id": "3467561e-bfc3-4a09-8292-b8902d7f7014",
   "metadata": {},
   "source": [
    "## 5 užduotis\n",
    "Parašykite programą, kuri nuskaito simbolių eilutę ir išveda:\n",
    "- tris pirmus simbolius\n",
    "- tris paskutinius simbolius\n",
    "- simbolius su lyginiais indeksais\n",
    "- simbolius su nelyginiais indeksais\n",
    "-eilutę atvirkštine tvarka"
   ]
  },
  {
   "cell_type": "code",
   "execution_count": 27,
   "id": "c27e8ca9-7514-465f-864a-89fc2a33e725",
   "metadata": {},
   "outputs": [
    {
     "name": "stdin",
     "output_type": "stream",
     "text": [
      "enter word qwerty\n"
     ]
    },
    {
     "name": "stdout",
     "output_type": "stream",
     "text": [
      "qwe\n",
      "rty\n",
      "qet\n",
      "wry\n",
      "ytrewq\n"
     ]
    }
   ],
   "source": [
    "a = input(\"enter word\")\n",
    "print(a[:3])\n",
    "print(a[-3:])\n",
    "print(a[::2])\n",
    "print(a[1::2])\n",
    "print(a[::-1])"
   ]
  },
  {
   "cell_type": "markdown",
   "id": "2f1635a4-067f-4e48-b9b8-ea0a90b75e77",
   "metadata": {},
   "source": [
    "## 6 užduotis\n",
    "Parašykite programą, kuri nuskaito triženklį skaičių ir išveda jo skaitmenų sumą. Nenaudokite dalybos."
   ]
  },
  {
   "cell_type": "code",
   "execution_count": 1,
   "id": "8b27a085-a382-49c9-b8b7-b397a0c3ae11",
   "metadata": {},
   "outputs": [
    {
     "name": "stdin",
     "output_type": "stream",
     "text": [
      "3zenklis sk 519\n"
     ]
    },
    {
     "name": "stdout",
     "output_type": "stream",
     "text": [
      "15\n"
     ]
    }
   ],
   "source": [
    "a = input(\"3zenklis sk\")\n",
    "if len(a) > 3:\n",
    "    exit()\n",
    "tmp = 0\n",
    "for i in a:\n",
    "    tmp += int(i)\n",
    "print(tmp)"
   ]
  },
  {
   "cell_type": "markdown",
   "id": "dd2a6a98-4398-44be-8ec0-b83ab2656d00",
   "metadata": {},
   "source": [
    "## 7 užduotis\n",
    "Parašykite programą, kuri nuskaito sveiką skaičių ir išveda jį dvejetaine, aštuntaine ir šešioliktaineforma. Atsakymus išveskite stulpeliu. Komandą print galima naudoti tik vieną kartą.\n",
    "\n",
    "2020  \n",
    "0b11111100100  \n",
    "0o3744  \n",
    "0x7e4  "
   ]
  },
  {
   "cell_type": "code",
   "execution_count": 2,
   "id": "960b613b-5700-4bd3-bc33-ef696a43b2c5",
   "metadata": {},
   "outputs": [
    {
     "name": "stdin",
     "output_type": "stream",
     "text": [
      "sveik. sk. 2020\n"
     ]
    },
    {
     "name": "stdout",
     "output_type": "stream",
     "text": [
      "0b11111100100\n",
      "0o3744\n",
      "0x7e4\n",
      "\n"
     ]
    }
   ],
   "source": [
    "a = int(input(\"sveik. sk.\"))\n",
    "s2 = bin(a)\n",
    "s8 = oct(a)\n",
    "s16 = hex(a)\n",
    "print(\"{}\\n{}\\n{}\\n\".format(s2, s8, s16))"
   ]
  },
  {
   "cell_type": "markdown",
   "id": "b1d2d675-27c8-43d1-8147-52873a59f0d8",
   "metadata": {},
   "source": [
    "## 8 užduotis\n",
    "Parašykite programą, kuri nuskaito stataus trikampio statinių a ir b ilgius ir išveda trikampio plotą. Reikšmes iš klaviatūros nuskaitykite viena eilute.\n",
    "\n",
    "10.5 21  \n",
    "s = 110.25"
   ]
  },
  {
   "cell_type": "code",
   "execution_count": 3,
   "id": "48eb8b5e-6dc1-43f8-a74f-ca3384f88596",
   "metadata": {},
   "outputs": [
    {
     "name": "stdin",
     "output_type": "stream",
     "text": [
      "ilg1 10.5\n",
      "ilg2 21\n"
     ]
    },
    {
     "name": "stdout",
     "output_type": "stream",
     "text": [
      "110.25\n"
     ]
    }
   ],
   "source": [
    "a = float(input(\"ilg1\"))\n",
    "b = float(input(\"ilg2\"))\n",
    "print((a*b)/2)"
   ]
  },
  {
   "cell_type": "markdown",
   "id": "a3eb6038-1955-4d16-bb8c-c695af933c17",
   "metadata": {},
   "source": [
    "## 9 užduotis\n",
    "Parašykite programą, kuri nuskaito minučių skaičių – n (n – sveikasis skaičius).  \n",
    "Tiek minučių praėjo nuo paros pradžios.  \n",
    "Nustatykite, kiek valandų ir minučių skaitmeninis laikrodis rodys šią akimirką.  \n",
    "Išveskite valandų (nuo 0 iki 23) ir minučių (nuo 0 iki 59) skaičius.  \n",
    "Skaičius n gali būti didesnis nei paros minučių skaičius.\n",
    "\n",
    "3456  \n",
    "h = 9  \n",
    "m = 36"
   ]
  },
  {
   "cell_type": "code",
   "execution_count": 4,
   "id": "8d9950e9-93d2-43f7-baae-adab5f000c52",
   "metadata": {},
   "outputs": [
    {
     "name": "stdin",
     "output_type": "stream",
     "text": [
      "minutes 3456\n"
     ]
    },
    {
     "name": "stdout",
     "output_type": "stream",
     "text": [
      "h = 9\n",
      "m = 36\n"
     ]
    }
   ],
   "source": [
    "a = int(input(\"minutes\"))\n",
    "print(\"h = {}\\nm = {}\".format(a//60%24, a%60))"
   ]
  },
  {
   "cell_type": "markdown",
   "id": "be524eb8-b3c0-401a-b79a-bb933a0cad08",
   "metadata": {},
   "source": [
    "## 10 užduotis\n",
    "Importuokite modulį math.  \n",
    "Parašykite programą, kuri nuskaito x ir t reikšmes (x ir t – sveikieji skaičiai) ir išveda Z.  \n",
    "Rezultatą pateikite su dviem skaitmenimis po kablelio.\n",
    "\n",
    "x = 10, t = 1  \n",
    "z = 2762685.71"
   ]
  },
  {
   "cell_type": "code",
   "execution_count": 6,
   "id": "c9a68a94-3666-4083-9726-ad258712202d",
   "metadata": {},
   "outputs": [
    {
     "name": "stdin",
     "output_type": "stream",
     "text": [
      "x 10\n",
      "t 1\n"
     ]
    },
    {
     "name": "stdout",
     "output_type": "stream",
     "text": [
      "x = 10, t = 1\n",
      "z = 2762685.71\n"
     ]
    }
   ],
   "source": [
    "import math\n",
    "x = int(input(\"x\"))\n",
    "t = int(input(\"t\"))\n",
    "print(\"x = {}, t = {}\".format(x, t))\n",
    "z = (9*math.pi*t + 10*math.cos(x)) / (math.sqrt(t) - abs(math.sin(t))) * math.exp(x)\n",
    "print(\"z = {}\".format(round(z, 2)))"
   ]
  },
  {
   "cell_type": "code",
   "execution_count": null,
   "id": "34e9a16c-e12e-4f48-82cd-86903f7cb5d6",
   "metadata": {},
   "outputs": [],
   "source": []
  }
 ],
 "metadata": {
  "kernelspec": {
   "display_name": "Python 3",
   "language": "python",
   "name": "python3"
  },
  "language_info": {
   "codemirror_mode": {
    "name": "ipython",
    "version": 3
   },
   "file_extension": ".py",
   "mimetype": "text/x-python",
   "name": "python",
   "nbconvert_exporter": "python",
   "pygments_lexer": "ipython3",
   "version": "3.7.8"
  }
 },
 "nbformat": 4,
 "nbformat_minor": 5
}

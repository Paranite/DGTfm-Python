{
 "cells": [
  {
   "cell_type": "markdown",
   "id": "bf6ab174-e255-4796-b41a-e5e373788694",
   "metadata": {},
   "source": [
    "# 4 laboratorinis\n",
    "\n",
    "## 1 uzd\n",
    "\n",
    "Parašykite programą, kuri į failą lines.txt įrašo pateiktą input’ą (skaityti iki EOF)"
   ]
  },
  {
   "cell_type": "code",
   "execution_count": 4,
   "id": "4e75b0f7-5864-4161-aacc-fd18bb05ba3a",
   "metadata": {},
   "outputs": [
    {
     "name": "stdin",
     "output_type": "stream",
     "text": [
      " 1eil\n",
      " 2eil\n",
      " 3eil\n",
      " \n"
     ]
    }
   ],
   "source": [
    "with open('lines.txt', 'w') as f:\n",
    "    while True:\n",
    "        try:\n",
    "            f.write(input() + '\\n')\n",
    "        except:\n",
    "            break"
   ]
  },
  {
   "cell_type": "markdown",
   "id": "0154b3ca-8d1f-46d8-9c79-3280ee6d6790",
   "metadata": {},
   "source": [
    "## 2 uzd\n",
    "\n",
    "Duotas failas names.txt.  \n",
    "Raskite ir išveskite failo eilučių, žodžių ir simbolių skaičių. Nenaudokite ciklų"
   ]
  },
  {
   "cell_type": "code",
   "execution_count": 27,
   "id": "fe4e66e9-34e3-4bc9-9c81-74768fd498dc",
   "metadata": {},
   "outputs": [
    {
     "name": "stdout",
     "output_type": "stream",
     "text": [
      "eiluciu - 3\n",
      "zodziu - 3\n",
      "simboliu - 13\n"
     ]
    }
   ],
   "source": [
    "with open('names2.txt', 'r') as f:\n",
    "    lines = f.readlines()\n",
    "    \n",
    "rows = len(lines)\n",
    "s = ''.join(lines)\n",
    "words = len(s.split())\n",
    "symbols = len(s) - words\n",
    "\n",
    "print(\"eiluciu - {}\".format(rows))\n",
    "print(\"zodziu - {}\".format(words))\n",
    "print(\"simboliu - {}\".format(symbols))"
   ]
  },
  {
   "cell_type": "markdown",
   "id": "b458b1dd-86de-45c2-81c9-5ec3d06c06c7",
   "metadata": {},
   "source": [
    "## 3 uzd\n",
    "\n",
    "Duotas failas names.txt.  \n",
    "Raskite septintosios eilutes pirmojo simbolio poziciją. Išveskite rastą pozicijos reikšmę ir failo tekstą pradedant septintąja eilute"
   ]
  },
  {
   "cell_type": "code",
   "execution_count": 48,
   "id": "6f15818b-08b9-465e-9bfe-a1ff6e18592a",
   "metadata": {},
   "outputs": [
    {
     "name": "stdout",
     "output_type": "stream",
     "text": [
      "The\n",
      "quick\n",
      "brown\n",
      "fox\n",
      "jumps\n",
      "over\n",
      "\n",
      "25\n",
      "lazy\n",
      "dog"
     ]
    }
   ],
   "source": [
    "with open('names.txt', 'r') as f:\n",
    "    lines = f.readlines()\n",
    "s = ''.join(lines[:6]).\n",
    "print(s)\n",
    "print(len(s) - 6)\n",
    "for l in lines[6:]:\n",
    "    print(l, end = '')"
   ]
  },
  {
   "cell_type": "code",
   "execution_count": null,
   "id": "10113b63-6d50-44f4-ac77-34e6b48083ac",
   "metadata": {},
   "outputs": [],
   "source": []
  }
 ],
 "metadata": {
  "kernelspec": {
   "display_name": "Python 3",
   "language": "python",
   "name": "python3"
  },
  "language_info": {
   "codemirror_mode": {
    "name": "ipython",
    "version": 3
   },
   "file_extension": ".py",
   "mimetype": "text/x-python",
   "name": "python",
   "nbconvert_exporter": "python",
   "pygments_lexer": "ipython3",
   "version": "3.7.8"
  }
 },
 "nbformat": 4,
 "nbformat_minor": 5
}

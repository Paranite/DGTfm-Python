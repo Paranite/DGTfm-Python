{
 "cells": [
  {
   "cell_type": "markdown",
   "id": "8427c9b4-477c-44f1-ac8d-0e5a7c6fe8db",
   "metadata": {},
   "source": [
    "# 5 laboratorinis\n",
    "\n",
    "## 1 uzd\n",
    "\n",
    "Duotas skaicius n, toliau n reikšmių kurie sudaro sąrašą L. Parašykite programą, kuri sąraše L suranda ir pašalina iš jo pirmąją nurodytą reikšmę.  \n",
    "Išveda likusių nurodytų reikšmių skaičių"
   ]
  },
  {
   "cell_type": "code",
   "execution_count": 16,
   "id": "2fd59668-8f14-4f7e-854d-11501cec98b6",
   "metadata": {},
   "outputs": [
    {
     "name": "stdin",
     "output_type": "stream",
     "text": [
      " 13\n",
      " 1 1 3 1 4 5 6 7 5 9 0 0 2\n",
      " 1\n"
     ]
    },
    {
     "name": "stdout",
     "output_type": "stream",
     "text": [
      "Elemento \"1\" indeksas - 0\n",
      "Elementas is pozicijos 0 pasalintas\n",
      "Liko \"1\" elementu sarase - 2\n"
     ]
    }
   ],
   "source": [
    "n = input()\n",
    "l = input().split()\n",
    "r = input()\n",
    "\n",
    "try:\n",
    "    rindex = l.index(r)\n",
    "    l.pop(rindex)\n",
    "    rcount = l.count(r)\n",
    "\n",
    "    print('Elemento \"{}\" indeksas - {}'.format(r, rindex))\n",
    "    print('Elementas is pozicijos {} pasalintas'.format(rindex))\n",
    "    print('Liko \"{}\" elementu sarase - {}'.format(r, rcount))\n",
    "except:\n",
    "    print(\"Tokio elemento sarase nera\")"
   ]
  },
  {
   "cell_type": "markdown",
   "id": "b0c2c207-076b-41d6-898c-e031882e3806",
   "metadata": {},
   "source": [
    "## 2 uzd\n",
    "\n",
    "Duotas skaicius n, toliau n reikšmių kurie sudaro sąrašą L. Parašykite programą, kuri suranda ir pašalina visas nurodytas reikšmes. Išveda pašalintų elementų skaičių ir sąrašą L, jeigu elementai buvo pašalinti, arba pranešimą, kad tokių elementų sąrąše nėra."
   ]
  },
  {
   "cell_type": "code",
   "execution_count": 42,
   "id": "e65dcb71-5f93-4799-977a-95a4c7a2c835",
   "metadata": {},
   "outputs": [
    {
     "name": "stdin",
     "output_type": "stream",
     "text": [
      " 13\n",
      " 1 1 3 1 4 5 6 7 5 9 0 0 2\n",
      " 1\n"
     ]
    },
    {
     "name": "stdout",
     "output_type": "stream",
     "text": [
      "[3, 4, 5, 6, 7, 5, 9, 0, 0, 2]\n",
      "3\n"
     ]
    }
   ],
   "source": [
    "n = input()\n",
    "l = list(map(int, input().split()))\n",
    "r = int(input())\n",
    "\n",
    "i = 0\n",
    "\n",
    "while True:\n",
    "    try:\n",
    "        l.remove(r)\n",
    "        i += 1\n",
    "    except:\n",
    "        if i:\n",
    "            print(l)\n",
    "            print(i)\n",
    "        else:\n",
    "            print(\"Tokio elemento sarase nera\")\n",
    "        break"
   ]
  },
  {
   "cell_type": "markdown",
   "id": "fa044938-71fa-41e1-aff6-2cb7642461c4",
   "metadata": {},
   "source": [
    "## 3 uzd\n",
    "\n",
    "Duotas skaičius n, toliau n iš eilės einantis sąrašo L1 elementai. Tada duotas skaičius m ir m iš eilės einantis sąrašo L2 elementai (n == m). Parašykite programą, kuri iš sąrašų L1 ir L2 elementų sudaro sąrašą L3 taip, kaip parodyta pavyzdyje."
   ]
  },
  {
   "cell_type": "code",
   "execution_count": 1,
   "id": "9af7cbeb-8d08-45f0-b87e-99d45c00540d",
   "metadata": {},
   "outputs": [
    {
     "name": "stdin",
     "output_type": "stream",
     "text": [
      " 0\n",
      " 0\n"
     ]
    },
    {
     "name": "stdout",
     "output_type": "stream",
     "text": [
      "[]\n"
     ]
    }
   ],
   "source": [
    "n = int(input())\n",
    "if n: nl = input().split()\n",
    "m = int(input())\n",
    "if m: ml = input().split()\n",
    "\n",
    "ol = [nl[i] + ml[i] for i in range(n)]\n",
    "\n",
    "print(ol)"
   ]
  },
  {
   "cell_type": "markdown",
   "id": "1144f35f-05e7-49c7-9723-1e6e656de467",
   "metadata": {},
   "source": [
    "## 4 uzd\n",
    "\n",
    "Duotas skaičius n, toliau n iš eilės einantis skaičiai, kurie sudrao sąrašą L1. Pakeiskite jo elementus jų reikšmių kvadratais"
   ]
  },
  {
   "cell_type": "code",
   "execution_count": 2,
   "id": "89d7914d-f3bc-4732-ad77-36d1276f6a54",
   "metadata": {},
   "outputs": [
    {
     "name": "stdin",
     "output_type": "stream",
     "text": [
      " 0\n"
     ]
    },
    {
     "name": "stdout",
     "output_type": "stream",
     "text": [
      "[]\n"
     ]
    }
   ],
   "source": [
    "n = int(input())\n",
    "if n:\n",
    "    nl = list(map(int, input().split()))\n",
    "else:\n",
    "    nl = []\n",
    "\n",
    "nl = [e**2 for e in nl]\n",
    "print(nl)"
   ]
  },
  {
   "cell_type": "markdown",
   "id": "6ce8c307-d32e-4de7-b87b-63646c8e206b",
   "metadata": {},
   "source": [
    "## 5 uzd\n",
    "\n",
    "Duotas sąrašas L. Įterpkite skaičių b po kiekvieno skaičiaus a. Garantuojama, kad egzistuoja bent vienas skaičius a."
   ]
  },
  {
   "cell_type": "code",
   "execution_count": 23,
   "id": "c7b0a459-40fb-45f2-89f3-6c4a158a014a",
   "metadata": {},
   "outputs": [
    {
     "name": "stdin",
     "output_type": "stream",
     "text": [
      " [1, 2, [30, 40, [500, 600], 50], 3, 4]\n",
      " 600\n",
      " 700\n"
     ]
    },
    {
     "name": "stdout",
     "output_type": "stream",
     "text": [
      "[1, 2, [30, 40, [500, 600, 700], 50], 3, 4]\n"
     ]
    }
   ],
   "source": [
    "l = eval(input())\n",
    "a = int(input())\n",
    "b = int(input())\n",
    "\n",
    "def recursive(l, a, b):\n",
    "    for index, value in enumerate(l):\n",
    "        if type(value) == list:\n",
    "            recursive(value, a, b)\n",
    "        elif value == a:\n",
    "            l.insert(index + 1, b)\n",
    "    return l\n",
    "    \n",
    "print(recursive(l, a, b))\n"
   ]
  },
  {
   "cell_type": "markdown",
   "id": "e9d1e0b7-3ab0-4e3e-99c8-e2f5c643f295",
   "metadata": {},
   "source": [
    "## 6 uzd\n",
    "\n",
    "Funkcijos zip() pagalba iš dviejų sąrašų L1 ir L2 sukurkite dvimatį sąrašą L, kur įdėtiniai sąrašai sudaryti iš L1 ir L2 elementų. Sąrašo L elementus išveskite stulpeliu. L1 sąrašas visada skaičiai, L2 visada string"
   ]
  },
  {
   "cell_type": "code",
   "execution_count": 29,
   "id": "5fb411f7-93d9-4e3a-abaa-6c33d4a25c85",
   "metadata": {},
   "outputs": [
    {
     "name": "stdin",
     "output_type": "stream",
     "text": [
      " [19542209, 4887871, 1420491, 626299, 1805832, 39865590]\n",
      " [\"New York\", \"Alabama\", \"Hawaii\", \"Vermont\", \"West Virginia\", \"California\"]\n"
     ]
    },
    {
     "name": "stdout",
     "output_type": "stream",
     "text": [
      "[19542209, 'New York']\n",
      "[4887871, 'Alabama']\n",
      "[1420491, 'Hawaii']\n",
      "[626299, 'Vermont']\n",
      "[1805832, 'West Virginia']\n",
      "[39865590, 'California']\n"
     ]
    }
   ],
   "source": [
    "L1 = eval(input())\n",
    "L2 = eval(input())\n",
    "\n",
    "L = [list(a) for a in zip(L1, L2)]\n",
    "\n",
    "for l in L:\n",
    "    print(l)"
   ]
  },
  {
   "cell_type": "code",
   "execution_count": 43,
   "id": "898cd842-fe8c-4540-8f24-b5edf44412b4",
   "metadata": {},
   "outputs": [
    {
     "name": "stdout",
     "output_type": "stream",
     "text": [
      "[1, 1, 3, 1, 4, 5, 6, 7, 5, 9, 0, 0, 2]\n"
     ]
    }
   ],
   "source": [
    "l = list(map(int, \"1 1 3 1 4 5 6 7 5 9 0 0 2\".split()))\n",
    "print(l)"
   ]
  },
  {
   "cell_type": "code",
   "execution_count": 5,
   "id": "adeb44c0-3669-4ecc-9ff3-1731f2fbc3fa",
   "metadata": {},
   "outputs": [],
   "source": [
    "l = [1, 2, [30, 40, [500, 600], 50], 3, 3, 4]"
   ]
  },
  {
   "cell_type": "code",
   "execution_count": 6,
   "id": "84217746-8c8c-468d-921d-e1c39deba3ba",
   "metadata": {},
   "outputs": [
    {
     "data": {
      "text/plain": [
       "[1, 2, [30, 40, [500, 600], 50], 3, 3, 4]"
      ]
     },
     "execution_count": 6,
     "metadata": {},
     "output_type": "execute_result"
    }
   ],
   "source": []
  },
  {
   "cell_type": "code",
   "execution_count": 9,
   "id": "d072c9b5-adb0-4df2-a5b3-a57801cb3b6a",
   "metadata": {},
   "outputs": [
    {
     "data": {
      "text/plain": [
       "3"
      ]
     },
     "execution_count": 9,
     "metadata": {},
     "output_type": "execute_result"
    }
   ],
   "source": [
    "l.index(3)"
   ]
  },
  {
   "cell_type": "code",
   "execution_count": null,
   "id": "bf98f6c4-7dc6-4ee2-9541-5b3b5349aebe",
   "metadata": {},
   "outputs": [],
   "source": []
  }
 ],
 "metadata": {
  "kernelspec": {
   "display_name": "Python 3",
   "language": "python",
   "name": "python3"
  },
  "language_info": {
   "codemirror_mode": {
    "name": "ipython",
    "version": 3
   },
   "file_extension": ".py",
   "mimetype": "text/x-python",
   "name": "python",
   "nbconvert_exporter": "python",
   "pygments_lexer": "ipython3",
   "version": "3.7.8"
  }
 },
 "nbformat": 4,
 "nbformat_minor": 5
}

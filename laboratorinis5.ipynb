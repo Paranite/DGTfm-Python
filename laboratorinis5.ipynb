{
 "cells": [
  {
   "cell_type": "markdown",
   "id": "8427c9b4-477c-44f1-ac8d-0e5a7c6fe8db",
   "metadata": {},
   "source": [
    "# 5 laboratorinis\n",
    "\n",
    "## 1 uzd\n",
    "\n",
    "Duotas skaicius n, toliau n reikšmių kurie sudaro sąrašą L. Parašykite programą, kuri sąraše L suranda ir pašalina iš jo pirmąją nurodytą reikšmę.  \n",
    "Išveda likusių nurodytų reikšmių skaičių"
   ]
  },
  {
   "cell_type": "code",
   "execution_count": 16,
   "id": "2fd59668-8f14-4f7e-854d-11501cec98b6",
   "metadata": {},
   "outputs": [
    {
     "name": "stdin",
     "output_type": "stream",
     "text": [
      " 13\n",
      " 1 1 3 1 4 5 6 7 5 9 0 0 2\n",
      " 1\n"
     ]
    },
    {
     "name": "stdout",
     "output_type": "stream",
     "text": [
      "Elemento \"1\" indeksas - 0\n",
      "Elementas is pozicijos 0 pasalintas\n",
      "Liko \"1\" elementu sarase - 2\n"
     ]
    }
   ],
   "source": [
    "n = input()\n",
    "l = input().split()\n",
    "r = input()\n",
    "\n",
    "try:\n",
    "    rindex = l.index(r)\n",
    "    l.pop(rindex)\n",
    "    rcount = l.count(r)\n",
    "\n",
    "    print('Elemento \"{}\" indeksas - {}'.format(r, rindex))\n",
    "    print('Elementas is pozicijos {} pasalintas'.format(rindex))\n",
    "    print('Liko \"{}\" elementu sarase - {}'.format(r, rcount))\n",
    "except:\n",
    "    print(\"Tokio elemento sarase nera\")"
   ]
  },
  {
   "cell_type": "markdown",
   "id": "b0c2c207-076b-41d6-898c-e031882e3806",
   "metadata": {},
   "source": [
    "## 2 uzd\n",
    "\n",
    "Duotas skaicius n, toliau n reikšmių kurie sudaro sąrašą L. Parašykite programą, kuri suranda ir pašalina visas nurodytas reikšmes. Išveda pašalintų elementų skaičių ir sąrašą L, jeigu elementai buvo pašalinti, arba pranešimą, kad tokių elementų sąrąše nėra."
   ]
  },
  {
   "cell_type": "code",
   "execution_count": 42,
   "id": "e65dcb71-5f93-4799-977a-95a4c7a2c835",
   "metadata": {},
   "outputs": [
    {
     "name": "stdin",
     "output_type": "stream",
     "text": [
      " 13\n",
      " 1 1 3 1 4 5 6 7 5 9 0 0 2\n",
      " 1\n"
     ]
    },
    {
     "name": "stdout",
     "output_type": "stream",
     "text": [
      "[3, 4, 5, 6, 7, 5, 9, 0, 0, 2]\n",
      "3\n"
     ]
    }
   ],
   "source": [
    "n = input()\n",
    "l = list(map(int, input().split()))\n",
    "r = int(input())\n",
    "\n",
    "i = 0\n",
    "\n",
    "while True:\n",
    "    try:\n",
    "        l.remove(r)\n",
    "        i += 1\n",
    "    except:\n",
    "        if i:\n",
    "            print(l)\n",
    "            print(i)\n",
    "        else:\n",
    "            print(\"Tokio elemento sarase nera\")\n",
    "        break"
   ]
  },
  {
   "cell_type": "markdown",
   "id": "fa044938-71fa-41e1-aff6-2cb7642461c4",
   "metadata": {},
   "source": [
    "## 3 uzd\n",
    "\n",
    "Duotas skaičius n, toliau n iš eilės einantis sąrašo L1 elementai. Tada duotas skaičius m ir m iš eilės einantis sąrašo L2 elementai (n == m). Parašykite programą, kuri iš sąrašų L1 ir L2 elementų sudaro sąrašą L3 taip, kaip parodyta pavyzdyje."
   ]
  },
  {
   "cell_type": "code",
   "execution_count": 1,
   "id": "9af7cbeb-8d08-45f0-b87e-99d45c00540d",
   "metadata": {},
   "outputs": [
    {
     "name": "stdin",
     "output_type": "stream",
     "text": [
      " 0\n",
      " 0\n"
     ]
    },
    {
     "name": "stdout",
     "output_type": "stream",
     "text": [
      "[]\n"
     ]
    }
   ],
   "source": [
    "n = int(input())\n",
    "if n: nl = input().split()\n",
    "m = int(input())\n",
    "if m: ml = input().split()\n",
    "\n",
    "ol = [nl[i] + ml[i] for i in range(n)]\n",
    "\n",
    "print(ol)"
   ]
  },
  {
   "cell_type": "markdown",
   "id": "1144f35f-05e7-49c7-9723-1e6e656de467",
   "metadata": {},
   "source": [
    "## 4 uzd\n",
    "\n",
    "Duotas skaičius n, toliau n iš eilės einantis skaičiai, kurie sudrao sąrašą L1. Pakeiskite jo elementus jų reikšmių kvadratais"
   ]
  },
  {
   "cell_type": "code",
   "execution_count": 2,
   "id": "89d7914d-f3bc-4732-ad77-36d1276f6a54",
   "metadata": {},
   "outputs": [
    {
     "name": "stdin",
     "output_type": "stream",
     "text": [
      " 0\n"
     ]
    },
    {
     "name": "stdout",
     "output_type": "stream",
     "text": [
      "[]\n"
     ]
    }
   ],
   "source": [
    "n = int(input())\n",
    "if n:\n",
    "    nl = list(map(int, input().split()))\n",
    "else:\n",
    "    nl = []\n",
    "\n",
    "nl = [e**2 for e in nl]\n",
    "print(nl)"
   ]
  },
  {
   "cell_type": "markdown",
   "id": "6ce8c307-d32e-4de7-b87b-63646c8e206b",
   "metadata": {},
   "source": [
    "## 5 uzd\n",
    "\n",
    "Duotas sąrašas L. Įterpkite skaičių b po kiekvieno skaičiaus a. Garantuojama, kad egzistuoja bent vienas skaičius a."
   ]
  },
  {
   "cell_type": "code",
   "execution_count": 23,
   "id": "c7b0a459-40fb-45f2-89f3-6c4a158a014a",
   "metadata": {},
   "outputs": [
    {
     "name": "stdin",
     "output_type": "stream",
     "text": [
      " [1, 2, [30, 40, [500, 600], 50], 3, 4]\n",
      " 600\n",
      " 700\n"
     ]
    },
    {
     "name": "stdout",
     "output_type": "stream",
     "text": [
      "[1, 2, [30, 40, [500, 600, 700], 50], 3, 4]\n"
     ]
    }
   ],
   "source": [
    "l = eval(input())\n",
    "a = int(input())\n",
    "b = int(input())\n",
    "\n",
    "def recursive(l, a, b):\n",
    "    for index, value in enumerate(l):\n",
    "        if type(value) == list:\n",
    "            recursive(value, a, b)\n",
    "        elif value == a:\n",
    "            l.insert(index + 1, b)\n",
    "    return l\n",
    "    \n",
    "print(recursive(l, a, b))\n"
   ]
  },
  {
   "cell_type": "markdown",
   "id": "e9d1e0b7-3ab0-4e3e-99c8-e2f5c643f295",
   "metadata": {},
   "source": [
    "## 6 uzd\n",
    "\n",
    "Funkcijos zip() pagalba iš dviejų sąrašų L1 ir L2 sukurkite dvimatį sąrašą L, kur įdėtiniai sąrašai sudaryti iš L1 ir L2 elementų. Sąrašo L elementus išveskite stulpeliu. L1 sąrašas visada skaičiai, L2 visada string"
   ]
  },
  {
   "cell_type": "code",
   "execution_count": 29,
   "id": "5fb411f7-93d9-4e3a-abaa-6c33d4a25c85",
   "metadata": {},
   "outputs": [
    {
     "name": "stdin",
     "output_type": "stream",
     "text": [
      " [19542209, 4887871, 1420491, 626299, 1805832, 39865590]\n",
      " [\"New York\", \"Alabama\", \"Hawaii\", \"Vermont\", \"West Virginia\", \"California\"]\n"
     ]
    },
    {
     "name": "stdout",
     "output_type": "stream",
     "text": [
      "[19542209, 'New York']\n",
      "[4887871, 'Alabama']\n",
      "[1420491, 'Hawaii']\n",
      "[626299, 'Vermont']\n",
      "[1805832, 'West Virginia']\n",
      "[39865590, 'California']\n"
     ]
    }
   ],
   "source": [
    "L1 = eval(input())\n",
    "L2 = eval(input())\n",
    "\n",
    "L = [list(a) for a in zip(L1, L2)]\n",
    "\n",
    "for l in L:\n",
    "    print(l)"
   ]
  },
  {
   "cell_type": "markdown",
   "id": "25009336-fe37-4f6f-8747-da70af5d47bc",
   "metadata": {},
   "source": [
    "## 7 uzd\n",
    "\n",
    "Duoti du sąrašai L1 ir L2. Funkcijos zip() pagalba išveskite trikampį taip, kaip parodyta pavyzdyje. L1 - string, L2 - skaičiai"
   ]
  },
  {
   "cell_type": "code",
   "execution_count": 5,
   "id": "f0bfd301-c193-4b79-8b58-1d296f6defaf",
   "metadata": {},
   "outputs": [
    {
     "name": "stdin",
     "output_type": "stream",
     "text": [
      " [\"a\", \"b\", \"c\", \"d\", \"e\"]\n",
      " [1, 2, 3, 4, 5]\n"
     ]
    },
    {
     "name": "stdout",
     "output_type": "stream",
     "text": [
      "a\n",
      "bb\n",
      "ccc\n",
      "dddd\n",
      "eeeee\n"
     ]
    }
   ],
   "source": [
    "l1 = eval(input())\n",
    "l2 = eval(input())\n",
    "\n",
    "for i, j in zip(l1, l2):\n",
    "    print(i*j)"
   ]
  },
  {
   "cell_type": "markdown",
   "id": "3fb4677c-a876-48bd-8b95-082e7967575d",
   "metadata": {},
   "source": [
    "## 8 uzd\n",
    "\n",
    "Duotas sąrašas L. Parašykite programą, kuri pašalina iš sąrašo dublikatus"
   ]
  },
  {
   "cell_type": "code",
   "execution_count": 13,
   "id": "a282cc72-66d9-4e9b-a846-5e62b7e8acc7",
   "metadata": {},
   "outputs": [
    {
     "name": "stdin",
     "output_type": "stream",
     "text": [
      " [10, 20, 30, 20, 10, 50, 60, 40, 80, 50, 40]\n"
     ]
    },
    {
     "name": "stdout",
     "output_type": "stream",
     "text": [
      "[10, 20, 30, 40, 50, 60, 80]\n"
     ]
    }
   ],
   "source": [
    "l = eval(input())\n",
    "l = list(dict.fromkeys(l))\n",
    "# l = sorted(list(set(l)))\n",
    "print(l)"
   ]
  },
  {
   "cell_type": "markdown",
   "id": "bc1ee10f-31e1-4aef-a98c-da6258980fec",
   "metadata": {},
   "source": [
    "## 9 uzd\n",
    "\n",
    "Parašykite programą, kuri sukuria ne trumpesnių nei n žodžių sąrašą iš pateiktos eilutės ir išveda ekrane sukurtą sąrašą arba pranešimą, jeigu tokių žodžių eilutėje nėra."
   ]
  },
  {
   "cell_type": "code",
   "execution_count": 23,
   "id": "69431ccc-9a8f-4f1d-b2d5-aadfcc7eec02",
   "metadata": {},
   "outputs": [
    {
     "name": "stdin",
     "output_type": "stream",
     "text": [
      " The quick brown fox jumps over the lazy dog\n",
      " 6\n"
     ]
    },
    {
     "name": "stdout",
     "output_type": "stream",
     "text": [
      "['The', 'quick', 'brown', 'fox', 'jumps', 'over', 'the', 'lazy', 'dog']\n",
      "Tokiu zodziu eiluteje nera\n"
     ]
    }
   ],
   "source": [
    "l = input().split()\n",
    "n = int(input())\n",
    "\n",
    "# ARBA:\n",
    "# l = [x for x in l if len(x) >= n]\n",
    "# if len(l) > 0: # arba if l:\n",
    "#     print(l)\n",
    "# else:\n",
    "#     print(\"Tokiu zodziu eiluteje nera\")\n",
    "if len(max(l, key=len)) < n:\n",
    "    print(\"Tokiu zodziu eiluteje nera\")\n",
    "else:\n",
    "    print([i for i in l if len(i) >= n])"
   ]
  },
  {
   "cell_type": "markdown",
   "id": "3be58624-d90c-4f80-8630-9e369ec62122",
   "metadata": {},
   "source": [
    "## 10 uzd\n",
    "\n",
    "Parašykite programą, kuri sukuria ir išveda natūraliojo skaičiaus n (n ≥ 2) pirminių daugiklių sąrašą."
   ]
  },
  {
   "cell_type": "code",
   "execution_count": 29,
   "id": "44f719df-760e-4d0c-a89b-d3392f7284fe",
   "metadata": {},
   "outputs": [
    {
     "name": "stdin",
     "output_type": "stream",
     "text": [
      " 63\n"
     ]
    },
    {
     "name": "stdout",
     "output_type": "stream",
     "text": [
      "[3, 3, 7]\n"
     ]
    }
   ],
   "source": [
    "n = int(input())\n",
    "\n",
    "res = []\n",
    "while n > 1:\n",
    "    for i in range(2, n+1):\n",
    "        if n % i == 0:\n",
    "            res.append(i)\n",
    "            n //= i\n",
    "            break\n",
    "print(res)"
   ]
  },
  {
   "cell_type": "markdown",
   "id": "7a454483-b968-45fb-bf35-592fbf19cf79",
   "metadata": {},
   "source": [
    "## 11 uzd\n",
    "\n",
    "Parašykite programą, kuri išveda antrą mažiausią sąrašo L skaičių."
   ]
  },
  {
   "cell_type": "code",
   "execution_count": 33,
   "id": "1c64029b-ea25-4460-b8c3-2379199f9a5e",
   "metadata": {},
   "outputs": [
    {
     "name": "stdin",
     "output_type": "stream",
     "text": [
      " [2, 5, 10, 3, 2, 5, 3, 56, 34, 87, 234, 2, 687, 4, 19, 3]\n"
     ]
    },
    {
     "name": "stdout",
     "output_type": "stream",
     "text": [
      "3\n"
     ]
    }
   ],
   "source": [
    "l = eval(input())\n",
    "l = sorted(l)\n",
    "for i in l:\n",
    "    if i != l[0]:\n",
    "        print(i)\n",
    "        break"
   ]
  },
  {
   "cell_type": "markdown",
   "id": "2e963f50-2c6e-4149-80c2-a3667bb78ad0",
   "metadata": {},
   "source": [
    "## 12 uzd\n",
    "\n",
    "Parašykite programą, kuri nuskaito sąrašą ir išveda elementus, kurių reikšmė didesnė už ankstesnio elemento reikšmę."
   ]
  },
  {
   "cell_type": "code",
   "execution_count": 39,
   "id": "393242c4-91e8-4b17-973d-2415a1a4cf46",
   "metadata": {},
   "outputs": [
    {
     "name": "stdin",
     "output_type": "stream",
     "text": [
      " 1 12 3 2 4 0 23 -2 11\n"
     ]
    },
    {
     "name": "stdout",
     "output_type": "stream",
     "text": [
      "12 4 23 11\n"
     ]
    }
   ],
   "source": [
    "l = [int(x) for x in input().split()]\n",
    "\n",
    "out = ''\n",
    "for i in range(1, len(l)):\n",
    "    if l[i]> l[i-1]:\n",
    "        out += '{} '.format(l[i])\n",
    "print(out[:-1])"
   ]
  },
  {
   "cell_type": "markdown",
   "id": "f057e41f-bf2e-42f2-8b06-f43a5bd0cc7b",
   "metadata": {},
   "source": [
    "## 13 uzd\n",
    "\n",
    "Parašykite programą, kuri nuskaito dvimatį sąrašą ir išveda didžiausią ir mažiausia kiekvienos eilutės elementą."
   ]
  },
  {
   "cell_type": "code",
   "execution_count": 42,
   "id": "4be71042-51d9-415c-81d9-d8eab7ccb274",
   "metadata": {},
   "outputs": [
    {
     "name": "stdin",
     "output_type": "stream",
     "text": [
      " 3\n",
      " 1 3 4 6 2\n"
     ]
    },
    {
     "name": "stdout",
     "output_type": "stream",
     "text": [
      "1 eilute: min: 1, max: 6\n"
     ]
    },
    {
     "name": "stdin",
     "output_type": "stream",
     "text": [
      " 3 4 5\n"
     ]
    },
    {
     "name": "stdout",
     "output_type": "stream",
     "text": [
      "2 eilute: min: 3, max: 5\n"
     ]
    },
    {
     "name": "stdin",
     "output_type": "stream",
     "text": [
      " 5 3 2 23 0\n"
     ]
    },
    {
     "name": "stdout",
     "output_type": "stream",
     "text": [
      "3 eilute: min: 0, max: 23\n"
     ]
    }
   ],
   "source": [
    "n = int(input())\n",
    "for i in range(n):\n",
    "    l = [int(x) for x in input().split()]\n",
    "    print(\"{} eilute: min: {}, max: {}\".format(i+1, min(l), max(l)))"
   ]
  },
  {
   "cell_type": "markdown",
   "id": "212977a1-06da-4026-81d2-ce24c44d5175",
   "metadata": {},
   "source": [
    "## 14 uzd\n",
    "\n",
    "Parašykite programą, kuri nuskaito dvimatį sąrašą (masyvą) n × m ir du skaičius a ir b, kur skaičiai a ir b – masyvo stulpelių eilės numeriai. Sukeiskite vietomis stulpelius a ir b"
   ]
  },
  {
   "cell_type": "code",
   "execution_count": 50,
   "id": "a287f7eb-3470-4b6c-bb46-64c798bf9621",
   "metadata": {},
   "outputs": [
    {
     "name": "stdin",
     "output_type": "stream",
     "text": [
      " 3\n",
      " 1 2 3 4\n",
      " 1 2 3 4\n",
      " 1 2 3 4\n",
      " 1 2\n"
     ]
    },
    {
     "name": "stdout",
     "output_type": "stream",
     "text": [
      "[2, 1, 3, 4]\n",
      "[2, 1, 3, 4]\n",
      "[2, 1, 3, 4]\n"
     ]
    }
   ],
   "source": [
    "n = int(input())\n",
    "l = []\n",
    "for i in range(n):\n",
    "    l.append([int(x) for x in input().split()])\n",
    "a, b = [int(x) for x in input().split()]\n",
    "\n",
    "for i in range(n):\n",
    "    tmp = l[i][a-1], l[i][b-1]\n",
    "    l[i][b-1], l[i][a-1] = tmp\n",
    "\n",
    "for i in l:\n",
    "    print(i)"
   ]
  },
  {
   "cell_type": "code",
   "execution_count": null,
   "id": "f22cc750-76bb-43c4-b990-297400a24249",
   "metadata": {},
   "outputs": [],
   "source": []
  }
 ],
 "metadata": {
  "kernelspec": {
   "display_name": "Python 3 (ipykernel)",
   "language": "python",
   "name": "python3"
  },
  "language_info": {
   "codemirror_mode": {
    "name": "ipython",
    "version": 3
   },
   "file_extension": ".py",
   "mimetype": "text/x-python",
   "name": "python",
   "nbconvert_exporter": "python",
   "pygments_lexer": "ipython3",
   "version": "3.9.5"
  }
 },
 "nbformat": 4,
 "nbformat_minor": 5
}

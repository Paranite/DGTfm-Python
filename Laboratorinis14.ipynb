{
 "cells": [
  {
   "cell_type": "markdown",
   "id": "eb85f16c-a984-4392-9610-3e7f29bce6b1",
   "metadata": {},
   "source": [
    "# Laboratorinis 14\n",
    "\n",
    "## 1 uzd  \n",
    "Parašykite NumPy programą, kad sukurtumėte dvimatį masyvą (nxn) su 1 kraštuose ir 0 viduje."
   ]
  },
  {
   "cell_type": "code",
   "execution_count": 2,
   "id": "1f47f996-5be5-478f-82e4-88b0850a24eb",
   "metadata": {},
   "outputs": [
    {
     "name": "stdin",
     "output_type": "stream",
     "text": [
      " 4\n"
     ]
    },
    {
     "name": "stdout",
     "output_type": "stream",
     "text": [
      "[[1. 1. 1. 1.]\n",
      " [1. 0. 0. 1.]\n",
      " [1. 0. 0. 1.]\n",
      " [1. 1. 1. 1.]]\n"
     ]
    }
   ],
   "source": [
    "import numpy as np\n",
    "np.set_printoptions(suppress = True)\n",
    "\n",
    "n = int(input())\n",
    "arr = np.ones((n,n))\n",
    "arr[1:-1,1:-1] = 0\n",
    "print(arr)"
   ]
  },
  {
   "cell_type": "markdown",
   "id": "92a3ce17-6d88-4c0d-aa87-565dffe0a1c0",
   "metadata": {},
   "source": [
    "## 2 uzd\n",
    "\n",
    "Duotas masyvas a.\n",
    "Išveskite vienetų ir nulių skaičius."
   ]
  },
  {
   "cell_type": "code",
   "execution_count": 13,
   "id": "7edb0047-ede0-471c-a773-9c9c47407594",
   "metadata": {},
   "outputs": [
    {
     "name": "stdin",
     "output_type": "stream",
     "text": [
      " 0 0 0 0\n"
     ]
    },
    {
     "name": "stdout",
     "output_type": "stream",
     "text": [
      "vienetu - 0\n",
      "nuliu - 4\n"
     ]
    }
   ],
   "source": [
    "import numpy as np\n",
    "np.set_printoptions(suppress = True)\n",
    "\n",
    "arr = np.array(list(map(int, input().split())))\n",
    "bc = np.bincount(arr)\n",
    "print(f\"vienetu - {bc[1] if len(bc) > 1 else 0}\")\n",
    "print(f\"nuliu - {bc[0]}\")\n",
    "# print(f\"vienetu - {np.sum((arr == 1))}\")\n",
    "# print(f\"nuliu - {np.sum((arr == 0))}\")\n"
   ]
  },
  {
   "cell_type": "markdown",
   "id": "3488cbb3-d3ea-4c1d-ba3b-17df871c92be",
   "metadata": {},
   "source": [
    "## 3 uzd\n",
    "\n",
    "Parašykite programą, kuri sukuria dvimatį masyvą, kurio įstrižainė yra duotas masyvas, o likę elementai lygūs 0."
   ]
  },
  {
   "cell_type": "code",
   "execution_count": 14,
   "id": "fef991e5-452c-41d3-9622-1f76e5cc40f0",
   "metadata": {},
   "outputs": [
    {
     "name": "stdin",
     "output_type": "stream",
     "text": [
      " 1 2 3 4\n"
     ]
    },
    {
     "name": "stdout",
     "output_type": "stream",
     "text": [
      "[[1. 0. 0. 0.]\n",
      " [0. 2. 0. 0.]\n",
      " [0. 0. 3. 0.]\n",
      " [0. 0. 0. 4.]]\n"
     ]
    }
   ],
   "source": [
    "import numpy as np\n",
    "np.set_printoptions(suppress = True)\n",
    "\n",
    "a = list(map(float, input().split()))\n",
    "\n",
    "print(np.diag(a))"
   ]
  },
  {
   "cell_type": "markdown",
   "id": "e8438014-6428-4300-bb72-51f3a3d156e9",
   "metadata": {},
   "source": [
    "## 4 uzd\n",
    "\n",
    "Duotas masyvas. Pakeiskite reikšmes > 5 reikšme 5"
   ]
  },
  {
   "cell_type": "code",
   "execution_count": 18,
   "id": "649f252c-dfbf-4c99-aa14-be1c26430bcc",
   "metadata": {},
   "outputs": [
    {
     "name": "stdin",
     "output_type": "stream",
     "text": [
      " 1 3 5 7 9\n"
     ]
    },
    {
     "name": "stdout",
     "output_type": "stream",
     "text": [
      "[1 3 5 5 5]\n"
     ]
    }
   ],
   "source": [
    "import numpy as np\n",
    "np.set_printoptions(suppress = True)\n",
    "\n",
    "a = np.array(list(map(int, input().split())))\n",
    "\n",
    "a = np.where(a > 5, 5, a)\n",
    "\n",
    "print(a)"
   ]
  },
  {
   "cell_type": "markdown",
   "id": "5c1c3a94-5204-4ba1-9f4f-ef3626137b94",
   "metadata": {},
   "source": [
    "## 5 uzd\n",
    "\n",
    "Duotas skaičius n.  \n",
    "Sukurkite nulių masyvą a(nxn) ir parašykite programą, kuri pakeičia masyvo reikšmes taip, kaip parodyta"
   ]
  },
  {
   "cell_type": "code",
   "execution_count": 27,
   "id": "7f490a09-5731-4c2c-ade3-8741a6cedbc4",
   "metadata": {},
   "outputs": [
    {
     "name": "stdin",
     "output_type": "stream",
     "text": [
      " 4\n"
     ]
    },
    {
     "name": "stdout",
     "output_type": "stream",
     "text": [
      "[[0. 1. 2. 3.]\n",
      " [0. 1. 2. 3.]\n",
      " [0. 1. 2. 3.]\n",
      " [0. 1. 2. 3.]]\n"
     ]
    }
   ],
   "source": [
    "import numpy as np\n",
    "np.set_printoptions(suppress = True)\n",
    "\n",
    "n = int(input())\n",
    "a = np.zeros((n, n))\n",
    "\n",
    "a[:] = np.arange(n) \n",
    "\n",
    "# a = np.arange(n, dtype = np.float16)\n",
    "# a = np.tile(a, [n, 1])\n",
    "\n",
    "print(a)"
   ]
  },
  {
   "cell_type": "markdown",
   "id": "5213f654-d006-40a0-a1c4-5d392da832f7",
   "metadata": {},
   "source": [
    "## 6 uzd\n",
    "\n",
    "Duotas masyvas a.  \n",
    "Parašykite programą, kuri apskaičiuoja ir išveda elementų, kurie dalijasi iš 5 ir nesidalija iš 2 sandaugą."
   ]
  },
  {
   "cell_type": "code",
   "execution_count": 36,
   "id": "1303de4c-8752-4277-a4d7-8e742eb58794",
   "metadata": {},
   "outputs": [
    {
     "name": "stdin",
     "output_type": "stream",
     "text": [
      " 1 2 3 4 5 6 7 8 9 10 11 12 13 14 15 16 17 18 19 20\n"
     ]
    },
    {
     "name": "stdout",
     "output_type": "stream",
     "text": [
      "75\n"
     ]
    }
   ],
   "source": [
    "import numpy as np\n",
    "np.set_printoptions(suppress = True)\n",
    "\n",
    "a = np.array(list(map(int, input().split())))\n",
    "\n",
    "print(np.prod(a[(a % 5 == 0) & (a % 2 != 0)]))"
   ]
  },
  {
   "cell_type": "markdown",
   "id": "477ace48-3858-4c42-b3c2-e05ff29b4291",
   "metadata": {},
   "source": [
    "## 7 uzd\n",
    "\n",
    "Duotas vienmatis masyvas a. Išveskite elementų, kurių reikšmė > 25, skaičių."
   ]
  },
  {
   "cell_type": "code",
   "execution_count": 48,
   "id": "0b8fd9d1-f615-48e1-ad4b-515ddba001cc",
   "metadata": {},
   "outputs": [
    {
     "name": "stdin",
     "output_type": "stream",
     "text": [
      " 43 2 12 28 40 37 28 23 25 46\n"
     ]
    },
    {
     "name": "stdout",
     "output_type": "stream",
     "text": [
      "6\n"
     ]
    }
   ],
   "source": [
    "import numpy as np\n",
    "np.set_printoptions(suppress = True)\n",
    "\n",
    "a = np.array(list(map(int, input().split())))\n",
    "\n",
    "print(len(np.where(a>25)[0]))"
   ]
  },
  {
   "cell_type": "markdown",
   "id": "d039b094-b72f-4b90-8bac-05a83333cb3d",
   "metadata": {},
   "source": [
    "## 8 uzd\n",
    "\n",
    "Duotas masyvas a  \n",
    "Viena komanda pašalinkite iš jo elementus su indeksais duotais masyve b"
   ]
  },
  {
   "cell_type": "code",
   "execution_count": 52,
   "id": "ceeacd6e-8868-4db8-abf9-534ed40d55c8",
   "metadata": {},
   "outputs": [
    {
     "name": "stdin",
     "output_type": "stream",
     "text": [
      " 100 101 102 103 104 105 106 107 108 109 110\n",
      " 2 3 4 5\n"
     ]
    },
    {
     "name": "stdout",
     "output_type": "stream",
     "text": [
      "[100 101 106 107 108 109 110]\n"
     ]
    }
   ],
   "source": [
    "import numpy as np\n",
    "np.set_printoptions(suppress = True)\n",
    "\n",
    "a = np.array(list(map(int, input().split())))\n",
    "b = np.array(list(map(int, input().split())))\n",
    "\n",
    "a = np.delete(a, b)\n",
    "\n",
    "print(a)"
   ]
  },
  {
   "cell_type": "markdown",
   "id": "8399becb-d0f0-4fb3-bda0-29ecfd39bd7e",
   "metadata": {},
   "source": [
    "## 9 uzd\n",
    "\n",
    "Duotas dvimatis masyvas (nxn).  \n",
    "Pašalinkite stulpelius, kuriose yra nan reikšmė."
   ]
  },
  {
   "cell_type": "code",
   "execution_count": 107,
   "id": "56f59f0c-c65d-40b4-a82e-dafe347f940f",
   "metadata": {},
   "outputs": [
    {
     "name": "stdin",
     "output_type": "stream",
     "text": [
      " 4\n",
      " np.nan 2 3 4\n",
      " 5 6 7 8\n",
      " 9 10 11 np.nan\n",
      " 13 14 15 16\n"
     ]
    },
    {
     "name": "stdout",
     "output_type": "stream",
     "text": [
      "[[ 2.  3.]\n",
      " [ 6.  7.]\n",
      " [10. 11.]\n",
      " [14. 15.]]\n"
     ]
    }
   ],
   "source": [
    "import numpy as np\n",
    "np.set_printoptions(suppress = True)\n",
    "\n",
    "n = int(input())\n",
    "# a = np.array([[eval(input().replace(' ', ','))] for i in range(n)], dtype = np.float16)\n",
    "a = np.array([input().split() for i in range(n)])\n",
    "a = np.where(a == 'np.nan', np.nan, a)\n",
    "a = np.array(a, dtype = np.float16)\n",
    "\n",
    "# a = np.delete(a, np.isnan(a).any(axis=0), axis = 1)\n",
    "\n",
    "d = np.where(np.isnan(a))\n",
    "if len(d[0]) > 0:\n",
    "    a = np.delete(a, d[1], axis = 1)\n",
    "\n",
    "print(a)\n",
    "\n",
    "# print(a[:, ~np.isnan(a).any(axis=0)])"
   ]
  },
  {
   "cell_type": "markdown",
   "id": "b01baf04-4e1b-468e-8245-a1e9cbf8f4bf",
   "metadata": {},
   "source": [
    "## 10 uzd\n",
    "\n",
    "Sukurkite universalią funkciją (ufunc), kuri turi du parametrus a ir b.  \n",
    "Kur  \n",
    "a – dvimatis masyvas (nxn);  \n",
    "b – arba skaičius (1), arba vienmatis masyvas (2), arba dvimatis masyvas (3)  \n",
    "Funkcija grąžina masyvą, kur kiekvienas elementas apskaičiuojamas kaip paelementinio skirtumo modulis |a - b|.  \n",
    "\n",
    "Input  \n",
    "n - a masyvo dimensijos  \n",
    "a  \n",
    "skaicius 1, 2 arba 3, kuris nusako kokio tipo bus b  \n",
    "b"
   ]
  },
  {
   "cell_type": "code",
   "execution_count": 117,
   "id": "2e5b50a4-c067-48cb-ab8a-261a21ad821f",
   "metadata": {
    "tags": []
   },
   "outputs": [
    {
     "name": "stdin",
     "output_type": "stream",
     "text": [
      " 4\n",
      " -1 -2 -3 -4\n",
      " 0 0 0 5\n",
      " 1 1 1 2\n",
      " 2 3 4 2\n",
      " 3\n",
      " 1 2 3 4\n",
      " 5 6 7 8\n",
      " 9 10 11 12\n",
      " 13 14 15 16\n"
     ]
    },
    {
     "name": "stdout",
     "output_type": "stream",
     "text": [
      "[[ 2.  4.  6.  8.]\n",
      " [ 5.  6.  7.  3.]\n",
      " [ 8.  9. 10. 10.]\n",
      " [11. 11. 11. 14.]]\n"
     ]
    }
   ],
   "source": [
    "import numpy as np\n",
    "np.set_printoptions(suppress = True)\n",
    "\n",
    "def ufunc(a, b):\n",
    "    return np.abs(a - b)\n",
    "\n",
    "n = int(input())\n",
    "a = np.array([list(map(float, input().split())) for i in range(n)])\n",
    "m = int(input())\n",
    "if m == 1:\n",
    "    b = int(input())\n",
    "elif m == 2:\n",
    "    b = np.array(list(map(float, input().split())))\n",
    "elif m == 3:\n",
    "    b = np.array([list(map(float, input().split())) for i in range(n)])\n",
    "    \n",
    "uf = np.vectorize(ufunc)\n",
    "    \n",
    "print(uf(a, b))\n"
   ]
  },
  {
   "cell_type": "markdown",
   "id": "9c97a06b-e9c7-4f2d-ab19-7b1151f6cafe",
   "metadata": {},
   "source": [
    "## 11 uzd\n",
    "\n",
    "Sukurkite masyvą a(nxn), kuriame pagrindinėje įstrižainėje yra trejetai (3), pirmoje įstrižainėje virš pagrindinės – vienetai (1), visi kiti – nuliai (0)"
   ]
  },
  {
   "cell_type": "code",
   "execution_count": 122,
   "id": "74833eb6-f118-4035-bd19-b2c8f34b3e6e",
   "metadata": {},
   "outputs": [
    {
     "name": "stdin",
     "output_type": "stream",
     "text": [
      " 4\n"
     ]
    },
    {
     "name": "stdout",
     "output_type": "stream",
     "text": [
      "[[3. 1. 0. 0.]\n",
      " [0. 3. 1. 0.]\n",
      " [0. 0. 3. 1.]\n",
      " [0. 0. 0. 3.]]\n"
     ]
    }
   ],
   "source": [
    "import numpy as np\n",
    "np.set_printoptions(suppress = True)\n",
    "\n",
    "n = int(input())\n",
    "a = np.eye(n) * 3\n",
    "b = np.eye(n, k = 1)\n",
    "a = a + b\n",
    "\n",
    "print(a)\n"
   ]
  },
  {
   "cell_type": "code",
   "execution_count": null,
   "id": "83769e83-5686-43c3-b47b-bc6b387e0a6e",
   "metadata": {},
   "outputs": [],
   "source": []
  }
 ],
 "metadata": {
  "kernelspec": {
   "display_name": "Python 3 (ipykernel)",
   "language": "python",
   "name": "python3"
  },
  "language_info": {
   "codemirror_mode": {
    "name": "ipython",
    "version": 3
   },
   "file_extension": ".py",
   "mimetype": "text/x-python",
   "name": "python",
   "nbconvert_exporter": "python",
   "pygments_lexer": "ipython3",
   "version": "3.9.5"
  }
 },
 "nbformat": 4,
 "nbformat_minor": 5
}

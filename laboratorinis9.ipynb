{
 "cells": [
  {
   "cell_type": "markdown",
   "id": "cd8b5bab-4081-40c9-bedb-68d13f70e287",
   "metadata": {},
   "source": [
    "# Laboratorinis 9\n",
    "\n",
    "## 1 uzd\n",
    "\n",
    "Duotas n studentų sarašas ir kiekvieno studento pažymiai. Jūms reikia atlikti q užklausų. Galimos užklausos:\n",
    "\n",
    "add_mark Vardas Pavardė Pažymis, čia studentui su vardu Vardas ir pavarde Pavardė pridėti atitinkamą pažymį.  \n",
    "stud_info Vardas Pavadė, čia reikia išspausdinti studento su duotu vardu ir pavarde pažymių vidurkį.  \n",
    "Visas užklausas privaloma atlikti naudojant klases."
   ]
  },
  {
   "cell_type": "code",
   "execution_count": 57,
   "id": "65b6df98-b56d-421e-8f7d-badc805b8971",
   "metadata": {},
   "outputs": [
    {
     "name": "stdin",
     "output_type": "stream",
     "text": [
      " 3\n",
      " Petras Petraitis [9,9,8,10]\n",
      " Jonas Jonaitis [10,10,7]\n",
      " Petras Jonaitis [9]\n",
      " 4\n",
      " add_mark Petras Petraitis 10\n",
      " add_mark Petras Jonaitis 5\n",
      " stud_info Petras Petraitis\n"
     ]
    },
    {
     "name": "stdout",
     "output_type": "stream",
     "text": [
      "9.2\n"
     ]
    },
    {
     "name": "stdin",
     "output_type": "stream",
     "text": [
      " stud_info Petras Jonaitis\n"
     ]
    },
    {
     "name": "stdout",
     "output_type": "stream",
     "text": [
      "7.0\n"
     ]
    }
   ],
   "source": [
    "class Student:\n",
    "    def __init__(self, name, last_name, grade_arr):\n",
    "        self.name = name\n",
    "        self.last_name = last_name\n",
    "        self.grade_arr = grade_arr\n",
    "        \n",
    "    def add_grade(self, mark):\n",
    "        self.grade_arr.append(mark)\n",
    "        \n",
    "    def get_grade_mean(self):\n",
    "        return sum(self.grade_arr)/len(self.grade_arr)\n",
    "    \n",
    "class Student_List:\n",
    "    stud_list = []\n",
    "    \n",
    "    def add_student(self, student):\n",
    "        self.stud_list.append(student)\n",
    "        \n",
    "    def add_mark(self, name, last_name, mark):\n",
    "        for stud in self.stud_list:\n",
    "            if stud.name == name and stud.last_name == last_name:\n",
    "                stud.add_grade(mark)\n",
    "                break\n",
    "                \n",
    "    def stud_info(self, name, last_name):\n",
    "        for stud in self.stud_list:\n",
    "            if stud.name == name and stud.last_name == last_name:\n",
    "                print(stud.get_grade_mean())\n",
    "                break\n",
    "\n",
    "stud_list = Student_List()\n",
    "n = int(input())\n",
    "for i in range(n):\n",
    "    s = input().split()\n",
    "    tmp_stud = Student(s[0], s[1], eval(s[2]))\n",
    "    stud_list.add_student(tmp_stud)\n",
    "del tmp_stud\n",
    "    \n",
    "q = int(input())\n",
    "for i in range(q):\n",
    "    s = input().split()\n",
    "    # or use getattr()\n",
    "    if s[0] == \"add_mark\":\n",
    "        stud_list.add_mark(s[1], s[2], int(s[3]))\n",
    "    elif s[0] == \"stud_info\":\n",
    "        stud_list.stud_info(s[1], s[2])\n"
   ]
  },
  {
   "cell_type": "markdown",
   "id": "fcab5977-7ca4-4c63-8af2-58686a911b47",
   "metadata": {},
   "source": [
    "## 2 uzd\n",
    "\n",
    "Sukurkite klasę pavadinimu Restaurant.  \n",
    "Metodo __init __ () pagalba sukurkite du atributus: restaurant_name ir cuisine_type.  \n",
    "Sukurkite metodą describe_restaurant(), kuris išspausdina šią informaciją:  \n",
    "Restaurant name;  \n",
    "Cuisine type;  \n",
    "Sukurkite metodą open_restaurant(), kuris išspausdina pranešimą, nurodantį kad restoranas dirba.  \n",
    "Sukurkite klasės egzempliorių.  \n",
    "Išveskite atskirai atributus restaurant_name ir cuisine_type.  \n",
    "Iškvieskite abu metodus.  \n",
    "Jūms bus pateiktas restaurant_name ir cuisine_type ir belieka alikti visus veiksmus aprašytus aukščiau."
   ]
  },
  {
   "cell_type": "code",
   "execution_count": 72,
   "id": "2775cf74-28cf-48ce-8298-72eaf3593da1",
   "metadata": {},
   "outputs": [
    {
     "name": "stdin",
     "output_type": "stream",
     "text": [
      " Starbelly, Korean\n"
     ]
    },
    {
     "name": "stdout",
     "output_type": "stream",
     "text": [
      "Starbelly Korean\n",
      "Starbelly\n",
      "Korean\n",
      "Restoranas dirba\n"
     ]
    }
   ],
   "source": [
    "class Restaurant:\n",
    "    def __init__(self, restaurant_name, cuisine_type):\n",
    "        self.restaurant_name = restaurant_name\n",
    "        self.cuisine_type = cuisine_type\n",
    "        \n",
    "    def describe_restaurant(self):\n",
    "        print(\"{} {}\".format(self.restaurant_name, self.cuisine_type))\n",
    "        \n",
    "    def open_restaurant(self):\n",
    "        print(\"Restoranas dirba\")\n",
    "        \n",
    "s = input().replace(',', '').split()\n",
    "r = Restaurant(*s)\n",
    "r.describe_restaurant()\n",
    "print(r.restaurant_name)\n",
    "print(r.cuisine_type)\n",
    "r.open_restaurant()"
   ]
  },
  {
   "cell_type": "markdown",
   "id": "814d59f6-c2d7-48c1-918c-9f05dbc6af29",
   "metadata": {},
   "source": [
    "## 3 uzd\n",
    "\n",
    "Klasėje Restaurant (2 užduotis) pridėkite atributą, pavadintą number_served, suteikite jam numatytąją reikšmę lygią nuliui.  \n",
    "Sukurkite naują klasės egzempliorių. Išspausdinkite number_served reikšmę.  \n",
    "Sukurkite dar vieną metodą, pavadintą set_number_served(), kuris leidžia priskirti aptarnautų klientų skaičių number_served.  \n",
    "Iškvieskite metodą set_number_served() su argumento reikšme = x.  \n",
    "Išspausdinkite number_served reikšmę.  \n",
    "Pridėkite metodą, pavadintą increment_number_served(), kuris leidžia didinti aptarnautų klientų skaičių vienetu.  \n",
    "n kartu iškvieskite metodą increment_number_served().  \n",
    "Išspausdinkite number_served reikšmę.  \n",
    "Jūms duoti du skaičiai x ir n. Atlikite aukščiau paminėtus veiksmus"
   ]
  },
  {
   "cell_type": "code",
   "execution_count": 75,
   "id": "22cc89c2-6e4e-4fa3-99e7-3f7efe6efb35",
   "metadata": {},
   "outputs": [
    {
     "name": "stdout",
     "output_type": "stream",
     "text": [
      "0\n"
     ]
    },
    {
     "name": "stdin",
     "output_type": "stream",
     "text": [
      " 1 2\n"
     ]
    },
    {
     "name": "stdout",
     "output_type": "stream",
     "text": [
      "1\n",
      "3\n"
     ]
    }
   ],
   "source": [
    "class Restaurant:\n",
    "    number_served = 0\n",
    "    def __init__(self, restaurant_name, cuisine_type):\n",
    "        self.restaurant_name = restaurant_name\n",
    "        self.cuisine_type = cuisine_type\n",
    "        \n",
    "    def describe_restaurant(self):\n",
    "        print(\"{} {}\".format(self.restaurant_name, self.cuisine_type))\n",
    "        \n",
    "    def open_restaurant(self):\n",
    "        print(\"Restoranas dirba\")\n",
    "        \n",
    "    def set_number_served(self, x):\n",
    "        self.number_served = x\n",
    "        \n",
    "    def increment_number_served(self):\n",
    "        self.number_served += 1\n",
    "        \n",
    "r = Restaurant(\"Starbelly\", \"Korean\")\n",
    "print(r.number_served)\n",
    "\n",
    "x, n = map(int, input().split())\n",
    "\n",
    "r.set_number_served(x)\n",
    "print(r.number_served)\n",
    "for i in range(n):\n",
    "    r.increment_number_served()\n",
    "print(r.number_served)"
   ]
  },
  {
   "cell_type": "code",
   "execution_count": null,
   "id": "78f069c9-bba3-431f-8dea-4c26b55c2e4b",
   "metadata": {},
   "outputs": [],
   "source": []
  }
 ],
 "metadata": {
  "kernelspec": {
   "display_name": "Python 3 (ipykernel)",
   "language": "python",
   "name": "python3"
  },
  "language_info": {
   "codemirror_mode": {
    "name": "ipython",
    "version": 3
   },
   "file_extension": ".py",
   "mimetype": "text/x-python",
   "name": "python",
   "nbconvert_exporter": "python",
   "pygments_lexer": "ipython3",
   "version": "3.9.5"
  }
 },
 "nbformat": 4,
 "nbformat_minor": 5
}

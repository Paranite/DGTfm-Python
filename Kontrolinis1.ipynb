{
 "cells": [
  {
   "cell_type": "markdown",
   "id": "b00c6e4a-0f23-4b86-bb40-092cd796aad9",
   "metadata": {},
   "source": [
    "## 1\n",
    "\n",
    "Atlikite šiuos veiksmus:\n",
    "\n",
    "Nuskaitykite iš failo sveikus skaičius: pirmą eilutę į sąrašą list1, o antrą eilutę į sąrašą list2.  \n",
    "Skirtingose eilutėse išveskite sąrašus list1 ir list2.  \n",
    "Sujunkite sąrašo list1 ir trigubai didesnes sąrašo list2 reikšmes į sąrašą list3.  \n",
    "Sudarykite žodyną dict1. Raktai - sąrašo list3 elementai, reikšmės - atitinkamų elementų kiekis sąraše.  \n",
    "Išveskite žodyno poras, kurių reikšmė  ≥ 3.  \n",
    "Išveskite žodyno dict1 raktą, rodantį į didžiausią reikšmę.  \n",
    "Surikiuokite žodyną dict1 pagal reikšmę mažėjimo tvarką, tuomet pagal raktą didėjimo tvarką.  \n",
    "Išveskite žodyno dict1 poras."
   ]
  },
  {
   "cell_type": "code",
   "execution_count": 115,
   "id": "a7c7f727-2343-476e-9034-237543db7ea6",
   "metadata": {
    "tags": []
   },
   "outputs": [
    {
     "name": "stdout",
     "output_type": "stream",
     "text": [
      "[2, 3, 3, 4, 5]\n",
      "[1, 1, 2, 2, 2, 2, 2, 3]\n",
      "[2, 3, 3, 4, 5, 3, 3, 6, 6, 6, 6, 6, 9]\n",
      "{2: 1, 3: 4, 4: 1, 5: 1, 6: 5, 9: 1}\n",
      "(3, 4), (6, 5)\n",
      "6\n",
      "(6, 5), (3, 4), (2, 1), (4, 1), (5, 1), (9, 1)\n"
     ]
    }
   ],
   "source": [
    "with open(\"duom.txt\", 'r') as f:\n",
    "    list1 = list(map(int, f.readline().split()))\n",
    "    list2 = list(map(int, f.readline().split()))\n",
    "    \n",
    "print(list1)\n",
    "print(list2)\n",
    "\n",
    "list3 = list(list1)\n",
    "list3.extend(list(map(lambda x: x*3, list2)))\n",
    "\n",
    "d = {k: list3.count(k) for k in list3}\n",
    "\n",
    "print(*tuple(a for a in tuple(d.items()) if a[1] >= 3), sep = ', ')\n",
    "\n",
    "print(max(d, key = d.get))\n",
    "\n",
    "d = sorted(d.items(), key = lambda x: (-x[1], x[0]))\n",
    "print(*d, sep = ', ')"
   ]
  },
  {
   "cell_type": "markdown",
   "id": "903e7ea1-335f-49ba-827f-43c0320d3c9f",
   "metadata": {},
   "source": [
    "## 2\n",
    "\n",
    "Sukurkite funkciją Filtruoti, kuri:  \n",
    "\n",
    "Priima parametrą a ir neribotą pozicinių parametrų kiekį;  \n",
    "Gautus argumentus sudeda į sąrašą list1, išveda sudarytą sąrašą;  \n",
    "Sukuria unikalių reikšmių aibę set1;  \n",
    "Sukuria aibę set2 iš set1 reikšmių, kurios dalijasi iš a ir yra nelyginės;  \n",
    "Grąžina aibę set2.  \n",
    "Atlikite šiuos veiksmus:  \n",
    "\n",
    "Nuskaitykite skaičius a ir b;  \n",
    "Nuskaitykite likusius 4 skaičius į sarašą list1;  \n",
    "Iškvieskite funkciją Filtruoti(a, b, likę skaičiai); \n",
    "Surikiuokite gautą aibę ir ją išveskite į ekraną.  "
   ]
  },
  {
   "cell_type": "code",
   "execution_count": 114,
   "id": "8feaad49-5718-4caa-a34d-31c22bbfba5c",
   "metadata": {
    "tags": []
   },
   "outputs": [
    {
     "name": "stdin",
     "output_type": "stream",
     "text": [
      " 3 1 2 3 4 5 6 7 8 9 10\n"
     ]
    },
    {
     "name": "stdout",
     "output_type": "stream",
     "text": [
      "3, 9\n"
     ]
    }
   ],
   "source": [
    "def Filtruoti(a, *n):\n",
    "    list1 = list(n)\n",
    "    set1 = set(list1)\n",
    "    set2 = {x for x in set1 if x%a==0 and x%2!=0}\n",
    "    return set2\n",
    "\n",
    "inp = list(map(int, input().split()))\n",
    "a = inp[0]\n",
    "b = inp[1]\n",
    "list1 = inp[2:]\n",
    "\n",
    "aib = sorted(Filtruoti(a, b, *list1))\n",
    "print(*aib, sep = ', ')"
   ]
  },
  {
   "cell_type": "markdown",
   "id": "83675bbe-bed2-4096-94b4-3e1096b92235",
   "metadata": {},
   "source": [
    "## 3\n",
    "\n",
    "Sukurkite funkciją Funkcija, kuri:  \n",
    "\n",
    "Gauna aibes set1 ir set2 kaip parametrus;  \n",
    "Sukuria aibę set3, sudarytą iš elementų, esančių ir aibėje set1, ir aibėje set2;  \n",
    "Išveda bendrus aibių elementus didėjimo tvarka. Jei tokių elementų nėra, išveda \"no\";  \n",
    "Patikrina, ar viena aibė yra kitos poaibis ir išveda \"yes\" arba \"no\";  \n",
    "Grąžina mažiausią ir didžiausią aibės set3 reikšmes.  \n",
    "Atlikite šiuos veiksmus:  \n",
    "\n",
    "Nuskaitykite iš ekrano aibes set1 ir set2, jos visada yra sudarytos iš skaičių;  \n",
    "Iškvieskite funkciją Funkcija, rezultatą išsaugokite į a ir b;  \n",
    "Į ekraną išveskite a, pakeltą laipsniu b."
   ]
  },
  {
   "cell_type": "code",
   "execution_count": 147,
   "id": "560b6b25-d1d5-4ad6-ab72-ec66d351ef12",
   "metadata": {},
   "outputs": [
    {
     "name": "stdin",
     "output_type": "stream",
     "text": [
      " {2, 3, 4}\n",
      " {2, 3, 5, 6}\n"
     ]
    },
    {
     "name": "stdout",
     "output_type": "stream",
     "text": [
      "[2, 3]\n",
      "no\n",
      "8\n"
     ]
    }
   ],
   "source": [
    "def Funkcija(set1, set2):\n",
    "    set3 = set1.intersection(set2)\n",
    "    print(sorted(set3) if set3 else \"no\")\n",
    "    print(\"yes\" if a.issubset(b) or b.issubset(a) else \"no\")\n",
    "    return min(set3), max(set3)\n",
    "\n",
    "a = eval(input())\n",
    "b = eval(input())\n",
    "\n",
    "a, b = Funkcija(a, b)\n",
    "print(a**b)"
   ]
  },
  {
   "cell_type": "code",
   "execution_count": null,
   "id": "670600c9-2dee-4cea-b101-01dba7fb4e8b",
   "metadata": {},
   "outputs": [],
   "source": []
  }
 ],
 "metadata": {
  "kernelspec": {
   "display_name": "Python 3",
   "language": "python",
   "name": "python3"
  },
  "language_info": {
   "codemirror_mode": {
    "name": "ipython",
    "version": 3
   },
   "file_extension": ".py",
   "mimetype": "text/x-python",
   "name": "python",
   "nbconvert_exporter": "python",
   "pygments_lexer": "ipython3",
   "version": "3.7.8"
  }
 },
 "nbformat": 4,
 "nbformat_minor": 5
}

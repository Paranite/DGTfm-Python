{
 "cells": [
  {
   "cell_type": "markdown",
   "id": "4ba74649-aa7c-4d40-b81a-e137fa8b6e04",
   "metadata": {},
   "source": [
    "# Laboratorinis 10\n",
    "\n",
    "## 1 uzd\n",
    "\n",
    "Sukurkite pagrindinę klasę Vehicle su name, max_speed ir mileage egzemplioriaus atributais. Atributų reikšmes perduokite per konstruktoriaus parametrus.  \n",
    "Sukurkite išvestinę klasę Bus(Vehicle), kuri paveldės visus Vehicle klasės kintamuosius ir metodus.  \n",
    "Sukurkite klasės Bus egzempliorių b.  \n",
    "Išveskite visų kintamųjų reikšmes."
   ]
  },
  {
   "cell_type": "code",
   "execution_count": 13,
   "id": "3e0a4faa-8397-4873-b554-ef9a0434a80b",
   "metadata": {},
   "outputs": [
    {
     "name": "stdin",
     "output_type": "stream",
     "text": [
      " Volvo 150 10000\n"
     ]
    },
    {
     "name": "stdout",
     "output_type": "stream",
     "text": [
      "Volvo\n",
      "150\n",
      "10000\n"
     ]
    }
   ],
   "source": [
    "class Vehicle:\n",
    "    def __init__(self, name, max_speed, mileage):\n",
    "        self.name = name\n",
    "        self.max_speed = int(max_speed)\n",
    "        self.mileage = int(mileage)\n",
    "        \n",
    "class Bus(Vehicle):\n",
    "    def __init__(self, *n):\n",
    "        super().__init__(*n)\n",
    "        \n",
    "s = input().split()\n",
    "b = Bus(*s)\n",
    "print(b.name)\n",
    "print(b.max_speed)\n",
    "print(b.mileage)"
   ]
  },
  {
   "cell_type": "markdown",
   "id": "498bb37a-b8e1-4e27-bcf2-fb4e67dfcb5c",
   "metadata": {},
   "source": [
    "## 2 uzd\n",
    "\n",
    "Klasėje Bus (1 užduotis) sukurkite konstruktorių.  \n",
    "Klasės Bus konstruktoriuje:  \n",
    "iškvieskite pagrindinės klasės (Vehicle) konstruktorių;  \n",
    "sukurkite klasės Bus privatų atributą oname (savininko vardas). oname reikšmę perduokite per parametrus, kuriant Bus egzempliorių.  \n",
    "Klasėje Bus sukurkite metodą get_owner(), kuris leidžia išvesti privataus kintamojo reikšmę.  \n",
    "Išveskite visų kintamųjų reikšmes"
   ]
  },
  {
   "cell_type": "code",
   "execution_count": 18,
   "id": "578dca83-6157-4f4a-94d8-4f308393902e",
   "metadata": {},
   "outputs": [
    {
     "name": "stdin",
     "output_type": "stream",
     "text": [
      " Smith volvo 150 10000\n"
     ]
    },
    {
     "name": "stdout",
     "output_type": "stream",
     "text": [
      "Smith\n",
      "volvo\n",
      "150\n",
      "10000\n"
     ]
    }
   ],
   "source": [
    "class Vehicle:\n",
    "    def __init__(self, name, max_speed, mileage):\n",
    "        self.name = name\n",
    "        self.max_speed = int(max_speed)\n",
    "        self.mileage = int(mileage)\n",
    "        \n",
    "class Bus(Vehicle):\n",
    "    def __init__(self, *n, oname):\n",
    "        super().__init__(*n)\n",
    "        self._oname = oname\n",
    "        \n",
    "    def get_owner(self):\n",
    "        print(self._oname)\n",
    "        \n",
    "s = input().split()\n",
    "b = Bus(*s[1:4], oname=s[0])\n",
    "b.get_owner()\n",
    "print(b.name)\n",
    "print(b.max_speed)\n",
    "print(b.mileage)"
   ]
  },
  {
   "cell_type": "markdown",
   "id": "01687e13-764c-4bb5-a7db-e955c555c63f",
   "metadata": {},
   "source": [
    "## 3 uzd\n",
    "\n",
    "Sukurkite pagrindinę klasę Students, kuri kaip parametrus gauna studento vardą (fname) ir pavardę (lname)  \n",
    "Klasėje sukurkite metodą info(), kuris išspausdina studento vardą ir pavardę.  \n",
    "Sukurkite išvestinę klasę Marks(Students), kuri kaip parametrą gauna studento pažymius (marks).  \n",
    "Atributas marks – tai pažymių sąrašas, perduotas metodui __init__() kaip *args tipo argumentas.  \n",
    "Klasėje Marks sukurkite metodą info(), kuris kviečia pagrindinės klasės metodą info() ir išspausdina studento pažymius.  \n",
    "Sukurkite klasės Marks egzempliorių m.  \n",
    "Išveskite egzemplioriaus m metodą info()."
   ]
  },
  {
   "cell_type": "code",
   "execution_count": 38,
   "id": "2afed275-4ef8-4461-addf-7630b7bbfd93",
   "metadata": {},
   "outputs": [
    {
     "name": "stdin",
     "output_type": "stream",
     "text": [
      " David Jones\n",
      " 7 8 6 5 9 10\n"
     ]
    },
    {
     "name": "stdout",
     "output_type": "stream",
     "text": [
      "David Jones\n",
      "7 8 6 5 9 10\n"
     ]
    }
   ],
   "source": [
    "class Student:\n",
    "    def __init__(self, fname, lname):\n",
    "        self.fname = fname\n",
    "        self.lname = lname\n",
    "    \n",
    "    def info(self):\n",
    "        print(\"{} {}\".format(self.fname, self.lname))\n",
    "        \n",
    "class Marks(Student):\n",
    "    def __init__(self, fname, lname, *marks):\n",
    "        super().__init__(fname, lname)\n",
    "        self.marks = list(marks)\n",
    "    \n",
    "    def info(self):\n",
    "        super().info()\n",
    "        print(*self.marks)\n",
    "        \n",
    "stud = input().split()\n",
    "marks = map(int, input().split())\n",
    "\n",
    "m = Marks(*stud, *marks)\n",
    "\n",
    "m.info()"
   ]
  },
  {
   "cell_type": "markdown",
   "id": "3f1f0f40-3648-4fd6-8e60-078ec5a64ee9",
   "metadata": {},
   "source": [
    "## 4 uzd\n",
    "\n",
    "Sukurkite klasę Students su atributu sno (studentų skaičius).  \n",
    "Klasėje sukurkite metodus, kurie leidžia:  \n",
    "sudėti kelių klasės egzempliorių studentų skaičius;  \n",
    "išvesti gautą rezultatą.  \n",
    "Sukurkite keturis klasės Students egzempliorius.  \n",
    "Išveskite vienos grupės ir bendrą studentų skaičius kaip parodyta  \n",
    "\n",
    "Keturi skaičiai, kurie parodo studentų skaičių grupėje. Sekančioje eilutėje duotas skaičius, kuris nurodo kelintos grupės stundtų skaičių reikia išvesti."
   ]
  },
  {
   "cell_type": "code",
   "execution_count": 50,
   "id": "b245d484-c1b1-442c-9c07-e10b80f84462",
   "metadata": {},
   "outputs": [
    {
     "name": "stdin",
     "output_type": "stream",
     "text": [
      " 15 18 14 21\n",
      " 1\n"
     ]
    },
    {
     "name": "stdout",
     "output_type": "stream",
     "text": [
      "Studentu skaicius 1 grupeje: 15\n",
      "Bendras studentu skaicius: 68\n"
     ]
    }
   ],
   "source": [
    "class Students:\n",
    "    def __init__(self, sno):\n",
    "        self.sno = sno\n",
    "        \n",
    "    def sum_students(self, *n):\n",
    "        s = self.sno\n",
    "        for stud in n:\n",
    "            s += stud.sno\n",
    "        print(\"Bendras studentu skaicius: {}\".format(s))\n",
    "        \n",
    "sn = map(int, input().split())\n",
    "n = int(input())\n",
    "\n",
    "stud_list = []\n",
    "for i in sn:\n",
    "    stud_list.append(Students(i))\n",
    "    \n",
    "print(\"Studentu skaicius {} grupeje: {}\".format(n, stud_list[n-1].sno))\n",
    "stud_list[0].sum_students(*stud_list[1:])"
   ]
  },
  {
   "cell_type": "code",
   "execution_count": null,
   "id": "72f038db-0287-4026-914c-3a3e847dece9",
   "metadata": {},
   "outputs": [],
   "source": []
  }
 ],
 "metadata": {
  "kernelspec": {
   "display_name": "Python 3 (ipykernel)",
   "language": "python",
   "name": "python3"
  },
  "language_info": {
   "codemirror_mode": {
    "name": "ipython",
    "version": 3
   },
   "file_extension": ".py",
   "mimetype": "text/x-python",
   "name": "python",
   "nbconvert_exporter": "python",
   "pygments_lexer": "ipython3",
   "version": "3.9.5"
  }
 },
 "nbformat": 4,
 "nbformat_minor": 5
}

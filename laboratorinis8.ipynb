{
 "cells": [
  {
   "cell_type": "markdown",
   "id": "f3ff5e5f-0249-4fd5-b774-81c0dfb6b591",
   "metadata": {},
   "source": [
    "# Laboratorinis 8\n",
    "\n",
    "## 1 uzd\n",
    "\n",
    "Parašykite programą, kuri išveda žodžius, kurių pavadinimą sudaro šešios raidės. Naudokite funkciją filter()."
   ]
  },
  {
   "cell_type": "code",
   "execution_count": 3,
   "id": "70beccb5-9309-4137-b34f-8ea11c285335",
   "metadata": {},
   "outputs": [
    {
     "name": "stdin",
     "output_type": "stream",
     "text": [
      " [\"Monday\", \"Tuesday\", \"Wednesday\", \"Thursday\", \"Friday\", \"Saturday\", \"Sunday\"]\n"
     ]
    },
    {
     "name": "stdout",
     "output_type": "stream",
     "text": [
      "['Monday', 'Friday', 'Sunday']\n"
     ]
    }
   ],
   "source": [
    "s = eval(input())\n",
    "print(list(filter(lambda x: len(x) == 6,s)))"
   ]
  },
  {
   "cell_type": "markdown",
   "id": "987d3fe4-85ae-46e4-89a5-8d6ae5d5a8c0",
   "metadata": {},
   "source": [
    "## 2 uzd\n",
    "\n",
    "Sukurkite funkciją, kuri apskaičiuoja dviejų skaičių skirtumą. Užduotį atlikite dviem būdais:  \n",
    "1) funkcija be parametrų: skaičiai – globalūs kintamieji, apibrėžti pagrindinėje programoje;  \n",
    "2) funkcija su parametrais: skaičiai – funkcijos parametrai."
   ]
  },
  {
   "cell_type": "code",
   "execution_count": 9,
   "id": "a4f8ac2a-6e63-4e0b-b613-d6409205298c",
   "metadata": {},
   "outputs": [
    {
     "name": "stdin",
     "output_type": "stream",
     "text": [
      " 145 29\n"
     ]
    },
    {
     "name": "stdout",
     "output_type": "stream",
     "text": [
      "116\n",
      "116\n"
     ]
    }
   ],
   "source": [
    "a, b = [int(a) for a in input().split()]\n",
    "\n",
    "def calculate(a, b):\n",
    "    return a - b\n",
    "\n",
    "def calculate_global():\n",
    "    return a - b\n",
    "\n",
    "print(calculate(a, b))\n",
    "# print(calculate_global())"
   ]
  },
  {
   "cell_type": "markdown",
   "id": "32828692-2c0b-413f-bb8b-a11bac2c6b96",
   "metadata": {},
   "source": [
    "## 3 uzd\n",
    "\n",
    "Sukurkite funkciją su parametru, kuris leidžia perduoti bet kokį kiekį skaičių. Funkcijos filter() pagalba randa lyginių ir nelyginių skaičių kiekius ir grąžina abi reikšmes. Išveda rezultatą."
   ]
  },
  {
   "cell_type": "code",
   "execution_count": 50,
   "id": "d7c771f1-306b-46d3-869a-08a45be60f82",
   "metadata": {},
   "outputs": [
    {
     "name": "stdin",
     "output_type": "stream",
     "text": [
      " 1,1,2,3,3,2,4,3,5,6,2,7,8,9\n"
     ]
    },
    {
     "name": "stdout",
     "output_type": "stream",
     "text": [
      "Lyginiu - 6\n",
      "Nelyginiu  - 8\n"
     ]
    }
   ],
   "source": [
    "l = input().split(',') # or eval with conversion to list/tuple\n",
    "\n",
    "def lyg_nelyg(*n):\n",
    "    lyg = len(list(filter(lambda x: x%2==0, n)))\n",
    "    nelyg = len(list(filter(lambda x: x%2!=0, n)))\n",
    "    return lyg, nelyg\n",
    "\n",
    "lyg, nelyg = lyg_nelyg(*list(map(lambda a: int(a), l))) #*l\n",
    "print(\"Lyginiu - {}\".format(lyg))\n",
    "print(\"Nelyginiu - {}\".format(nelyg))"
   ]
  },
  {
   "cell_type": "markdown",
   "id": "108d5d5f-32ee-4cd7-ad9f-0b366e1912ea",
   "metadata": {},
   "source": [
    "## 4 uzd\n",
    "\n",
    "Sukurkite funkciją, kuri gauna sąrašą L kaip parametrą, grąžina sąrašo unikalias reikšmes ir išveda pradinį sąrašą."
   ]
  },
  {
   "cell_type": "code",
   "execution_count": 52,
   "id": "88d9c02c-3e39-49e8-8503-59bd20a2a066",
   "metadata": {},
   "outputs": [
    {
     "name": "stdin",
     "output_type": "stream",
     "text": [
      " [1,1,1,2,2,3,4,5,3,3,5,4,2,1]\n"
     ]
    },
    {
     "name": "stdout",
     "output_type": "stream",
     "text": [
      "[1, 2, 3, 4, 5]\n",
      "[1, 1, 1, 2, 2, 3, 4, 5, 3, 3, 5, 4, 2, 1]\n"
     ]
    }
   ],
   "source": [
    "L = eval(input())\n",
    "\n",
    "def unique_values(L):\n",
    "    print(list(dict.fromkeys(L)))\n",
    "    print(L)\n",
    "    \n",
    "unique_values(L)"
   ]
  },
  {
   "cell_type": "markdown",
   "id": "2096f4ba-97d9-4a08-a387-3ce44953e1ba",
   "metadata": {},
   "source": [
    "## 5 uzd\n",
    "\n",
    "Sukurkite funkciją, kuri gauna skaičių n kaip parametrą. Randa ir išveda skaičiaus n skaitmenų skaičių ir sumą."
   ]
  },
  {
   "cell_type": "code",
   "execution_count": 55,
   "id": "40b82bcf-0cb5-4660-a6e7-fcf727d0f853",
   "metadata": {},
   "outputs": [
    {
     "name": "stdin",
     "output_type": "stream",
     "text": [
      " 1234567890\n"
     ]
    },
    {
     "name": "stdout",
     "output_type": "stream",
     "text": [
      "10\n",
      "45\n"
     ]
    }
   ],
   "source": [
    "n = input()\n",
    "\n",
    "def lenNsum():\n",
    "    print(len(n))\n",
    "    print(sum(list(map(lambda x: int(x), n))))\n",
    "\n",
    "lenNsum()"
   ]
  },
  {
   "cell_type": "markdown",
   "id": "7c232fec-1ecc-4bea-a783-12b0811d442a",
   "metadata": {},
   "source": [
    "## 6 uzd\n",
    "\n",
    "Sukurkite funkciją, kuri gauna sąrašą L kaip parametrą ir išveda sąrašo unikalių reikšmių skaičius ir pradinį sąrašą."
   ]
  },
  {
   "cell_type": "code",
   "execution_count": 58,
   "id": "ebe8c526-0fa1-48fd-b9e4-5c57561bc161",
   "metadata": {},
   "outputs": [
    {
     "name": "stdin",
     "output_type": "stream",
     "text": [
      " [1,1,1,2,2,3,4,5,3,3,5,4,2,1]\n"
     ]
    },
    {
     "name": "stdout",
     "output_type": "stream",
     "text": [
      "'1' - 4\n",
      "'2' - 3\n",
      "'3' - 3\n",
      "'4' - 2\n",
      "'5' - 2\n",
      "[1, 1, 1, 2, 2, 3, 4, 5, 3, 3, 5, 4, 2, 1]\n"
     ]
    }
   ],
   "source": [
    "L = eval(input())\n",
    "\n",
    "def countUniques(L):\n",
    "    d = {x: L.count(x) for x in L}\n",
    "    for k, v in d.items():\n",
    "        print(\"'{}' - {}\".format(k, v))\n",
    "    print(L)\n",
    "    \n",
    "countUniques(L)"
   ]
  },
  {
   "cell_type": "markdown",
   "id": "8d853e6a-6876-4fee-a05a-f1dc636db281",
   "metadata": {},
   "source": [
    "## 7 uzd\n",
    "\n",
    "Sukurkite funkciją, kuri gauna eilutę kaip parametrą ir grąžina sakinį, kur žodžiai parašyti atvirkštine tvarka."
   ]
  },
  {
   "cell_type": "code",
   "execution_count": 61,
   "id": "8157af1c-4143-4609-9a16-35e19b3ccfa2",
   "metadata": {},
   "outputs": [
    {
     "name": "stdin",
     "output_type": "stream",
     "text": [
      " The quick brown fox jumps over the lazy dog\n"
     ]
    },
    {
     "name": "stdout",
     "output_type": "stream",
     "text": [
      "dog lazy the over jumps fox brown quick The\n"
     ]
    }
   ],
   "source": [
    "def reverse(s):\n",
    "    return ' '.join(s.split()[::-1])\n",
    "\n",
    "print(reverse(input()))"
   ]
  },
  {
   "cell_type": "markdown",
   "id": "425bbb6f-c5b8-487e-a0c7-25deff3a5850",
   "metadata": {},
   "source": [
    "## 8 uzd\n",
    "\n",
    "Sukurkite funkciją, kuri gauna natūralųjį skaičių n kaip parametrą. Randa faktorialų sumą (1! + 2! +…+n!) ir išveda rezultatą kaip parodyta. Faktorialų skaičiavimui naudokite funkciją reduce() (modulis functools)."
   ]
  },
  {
   "cell_type": "code",
   "execution_count": 71,
   "id": "6be29d59-4916-47bd-9b7f-d91d323d54ab",
   "metadata": {},
   "outputs": [
    {
     "name": "stdin",
     "output_type": "stream",
     "text": [
      " 10\n"
     ]
    },
    {
     "name": "stdout",
     "output_type": "stream",
     "text": [
      "1! = 1\n",
      "2! = 2\n",
      "3! = 6\n",
      "4! = 24\n",
      "5! = 120\n",
      "6! = 720\n",
      "7! = 5040\n",
      "8! = 40320\n",
      "9! = 362880\n",
      "10! = 3628800\n",
      "Faktorialu suma - 4037913\n"
     ]
    }
   ],
   "source": [
    "from functools import reduce\n",
    "\n",
    "def factorial(n):\n",
    "    s = 0\n",
    "    for i in range(1, n+1):\n",
    "        f = reduce(lambda x, y: x*y, range(1, i+1))\n",
    "        print(\"{}! = {}\".format(i, f))\n",
    "        s += f\n",
    "    print(\"Faktorialu suma -\", s)\n",
    "    \n",
    "n = int(input())\n",
    "factorial(n)"
   ]
  },
  {
   "cell_type": "markdown",
   "id": "c4b1d732-0032-48d7-9b82-704c834e609d",
   "metadata": {},
   "source": [
    "## 9 uzd\n",
    "\n",
    "Sukurkite funkciją empl, kuri iškviesta su norodytais parametrais, išveda atitinkamus pranešimus."
   ]
  },
  {
   "cell_type": "code",
   "execution_count": 76,
   "id": "2464aa18-66e9-4ce7-a903-1c6d0fc70df5",
   "metadata": {},
   "outputs": [
    {
     "name": "stdin",
     "output_type": "stream",
     "text": [
      " Williams,manager,2500\n"
     ]
    },
    {
     "name": "stdout",
     "output_type": "stream",
     "text": [
      "Williams: manager, salary - 2500\n"
     ]
    }
   ],
   "source": [
    "def empl(name, position = \"salesman\", salary = 1700):\n",
    "    print(\"{}: {}, salary - {}\".format(name, position, salary))\n",
    "    \n",
    "s = input().split(',')\n",
    "empl(*s)"
   ]
  },
  {
   "cell_type": "markdown",
   "id": "b32ea876-1a48-49ad-9933-8b9f1bc2161b",
   "metadata": {},
   "source": [
    "## 10 uzd\n",
    "\n",
    "Sukurkite funkciją, kuri gauna natūralųjį skaičių n kaip parametrą ir išveda skaičius nuo 1 iki n eilute rekursijos pagalba."
   ]
  },
  {
   "cell_type": "code",
   "execution_count": 86,
   "id": "a03d59b2-75c4-4252-9b91-c756d9854045",
   "metadata": {
    "tags": []
   },
   "outputs": [
    {
     "name": "stdin",
     "output_type": "stream",
     "text": [
      " 10\n"
     ]
    },
    {
     "name": "stdout",
     "output_type": "stream",
     "text": [
      "1 2 3 4 5 6 7 8 9 10\n"
     ]
    }
   ],
   "source": [
    "def recursion(n):\n",
    "    s = str(n)\n",
    "    if n > 1:\n",
    "        return recursion(n-1) + \" \" + s\n",
    "    else:\n",
    "        return s\n",
    "\n",
    "n = int(input())\n",
    "print(recursion(n))"
   ]
  },
  {
   "cell_type": "markdown",
   "id": "cab49c4a-fdd6-494f-ad86-2fba7c8ae371",
   "metadata": {},
   "source": [
    "## 11 uzd\n",
    "\n",
    "Sukurkite funkciją, kuri gauna natūraliuosius skaičius n ir m ir išveda visus skaičius nuo n iki m imtinai didėjimo tvarka, jei n < m ir mažėjimo tvarka, jeigu n > m."
   ]
  },
  {
   "cell_type": "code",
   "execution_count": 95,
   "id": "f94de535-05cd-40af-9b1c-126a24d81dfa",
   "metadata": {},
   "outputs": [
    {
     "name": "stdin",
     "output_type": "stream",
     "text": [
      " 15 10\n"
     ]
    },
    {
     "name": "stdout",
     "output_type": "stream",
     "text": [
      "15\n",
      "14\n",
      "13\n",
      "12\n",
      "11\n",
      "10\n"
     ]
    }
   ],
   "source": [
    "a, b = input().split()\n",
    "\n",
    "def print_range(a, b):\n",
    "    print(a)\n",
    "    \n",
    "    if a == b:\n",
    "        return\n",
    "    \n",
    "    if b > a:\n",
    "        print_range(a+1, b)\n",
    "    else:\n",
    "        print_range(a-1, b)\n",
    "        \n",
    "print_range(int(a), int(b))"
   ]
  },
  {
   "cell_type": "code",
   "execution_count": null,
   "id": "a2868c96-9ba6-4bde-b6d8-bcedf337550b",
   "metadata": {},
   "outputs": [],
   "source": []
  }
 ],
 "metadata": {
  "kernelspec": {
   "display_name": "Python 3 (ipykernel)",
   "language": "python",
   "name": "python3"
  },
  "language_info": {
   "codemirror_mode": {
    "name": "ipython",
    "version": 3
   },
   "file_extension": ".py",
   "mimetype": "text/x-python",
   "name": "python",
   "nbconvert_exporter": "python",
   "pygments_lexer": "ipython3",
   "version": "3.9.5"
  }
 },
 "nbformat": 4,
 "nbformat_minor": 5
}
